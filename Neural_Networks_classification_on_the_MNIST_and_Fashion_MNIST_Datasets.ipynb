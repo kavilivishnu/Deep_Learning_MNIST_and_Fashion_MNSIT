{
  "nbformat": 4,
  "nbformat_minor": 0,
  "metadata": {
    "kernelspec": {
      "display_name": "Python 3",
      "name": "python3"
    },
    "language_info": {
      "codemirror_mode": {
        "name": "ipython",
        "version": 3
      },
      "file_extension": ".py",
      "mimetype": "text/x-python",
      "name": "python",
      "nbconvert_exporter": "python",
      "pygments_lexer": "ipython3",
      "version": "3.6.5"
    },
    "colab": {
      "provenance": [],
      "gpuType": "T4",
      "toc_visible": true
    },
    "accelerator": "GPU"
  },
  "cells": [
    {
      "cell_type": "markdown",
      "metadata": {
        "id": "Whf_8TEO-6qX"
      },
      "source": [
        "# **Neural Networks classification and the MNIST and Fashion MNIST Datasets**\n"
      ]
    },
    {
      "cell_type": "markdown",
      "source": [
        "## **Sri Vishnu Vardhan Kavili**\n",
        "\n",
        "**https://colab.research.google.com/drive/1s2_X2SWslDBarhKh_GJ1yxHBDhEmEVls?usp=sharing**"
      ],
      "metadata": {
        "id": "dOGJOhMgmu4o"
      }
    },
    {
      "cell_type": "markdown",
      "metadata": {
        "id": "32AXUOrLxvoD"
      },
      "source": [
        "Useful references and sources:\n",
        "\n",
        "**MNIST**\n",
        "\n",
        "- https://www.tensorflow.org/datasets/catalog/mnist\n",
        "\n",
        "- https://en.wikipedia.org/wiki/MNIST_database \n",
        "\n",
        "- https://github.com/the-deep-learners/deep-learning-illustrated/blob/master/notebooks/shallow_net_in_keras.ipynb \n",
        "\n",
        "**Fashion MNIST**\n",
        "\n",
        "- https://www.tensorflow.org/datasets/catalog/fashion_mnist\n",
        "\n",
        "- https://en.wikipedia.org/wiki/Fashion_MNIST\n",
        "\n",
        "- https://keras.io/api/datasets/fashion_mnist/"
      ]
    },
    {
      "cell_type": "markdown",
      "metadata": {
        "id": "BEn1cfWJ-6rH"
      },
      "source": [
        "# **PART 1 - MNIST classifier using MLP**\n",
        "\n",
        "\n"
      ]
    },
    {
      "cell_type": "markdown",
      "metadata": {
        "id": "2u-hfaHC-6qb"
      },
      "source": [
        "#### **Import Needed Resources / Libraries**"
      ]
    },
    {
      "cell_type": "code",
      "metadata": {
        "id": "1H7CSr4a-6qb"
      },
      "source": [
        "from tensorflow import keras\n",
        "from keras.datasets import mnist\n",
        "from keras.models import Sequential\n",
        "from keras.layers import Dense\n",
        "from keras.optimizers import SGD\n",
        "\n",
        "from keras import layers\n",
        "\n",
        "from matplotlib import pyplot as plt\n",
        "\n",
        "import numpy as np\n",
        "import tensorflow as tf"
      ],
      "execution_count": null,
      "outputs": []
    },
    {
      "cell_type": "markdown",
      "metadata": {
        "id": "dxNd2jV5-6qg"
      },
      "source": [
        "#### **Load and prepare the data**"
      ]
    },
    {
      "cell_type": "code",
      "metadata": {
        "id": "AL5uSsG5EoEw",
        "colab": {
          "base_uri": "https://localhost:8080/"
        },
        "outputId": "5533f50c-2095-4847-b7e4-d68c74a0b67f"
      },
      "source": [
        "# Apart the standard comments mentioned by the professor, I'm writing all the other comments for my own understanding.\n",
        "\n",
        "# So, intially, we always have to specify the \"length of output scale\" - Usually will be an array size.\n",
        "# Next, w specify the \"dimensions\" of the given input.\n",
        "\n",
        "# Model / data parameters\n",
        "num_classes = 10\n",
        "# So, basically, \"num_classes\" variable is used to determine the pattern of the in the output, of the output layer, which is represented in an array. \n",
        "# From that array, the output that we are looking for, will be at a certain index position. The value in that particular index position, will be \n",
        "# assigned \"1\", by our neural netwotk, whereas, all the other index position will have the value \"0\". This happens at the validation level. \n",
        "# This concept will specifically come into action, when we are using the number detection from the MNIST dataset.\n",
        "\n",
        "# the data, split between train and validation sets\n",
        "(X_train, y_train), (X_valid, y_valid) = mnist.load_data() # Also, when we run this, the values that get populated in the X_train and y_train wouldn't necessarily be sorted."
      ],
      "execution_count": null,
      "outputs": [
        {
          "output_type": "stream",
          "name": "stdout",
          "text": [
            "Downloading data from https://storage.googleapis.com/tensorflow/tf-keras-datasets/mnist.npz\n",
            "11490434/11490434 [==============================] - 0s 0us/step\n"
          ]
        }
      ]
    },
    {
      "cell_type": "markdown",
      "source": [
        "#### **Examine Data**"
      ],
      "metadata": {
        "id": "NUJlQmcuS1-b"
      }
    },
    {
      "cell_type": "code",
      "metadata": {
        "id": "x2jsR31jEqYn",
        "colab": {
          "base_uri": "https://localhost:8080/"
        },
        "outputId": "ee06b59a-e2e0-4420-eed4-b55613680d9e"
      },
      "source": [
        "X_train.shape"
      ],
      "execution_count": null,
      "outputs": [
        {
          "output_type": "execute_result",
          "data": {
            "text/plain": [
              "(60000, 28, 28)"
            ]
          },
          "metadata": {},
          "execution_count": 3
        }
      ]
    },
    {
      "cell_type": "code",
      "metadata": {
        "id": "EOXe9zdD-6qp",
        "colab": {
          "base_uri": "https://localhost:8080/"
        },
        "outputId": "d3a795e5-941c-4f42-d407-d23a03af9273"
      },
      "source": [
        "y_train.shape"
      ],
      "execution_count": null,
      "outputs": [
        {
          "output_type": "execute_result",
          "data": {
            "text/plain": [
              "(60000,)"
            ]
          },
          "metadata": {},
          "execution_count": 4
        }
      ]
    },
    {
      "cell_type": "code",
      "metadata": {
        "id": "99XuEIZf-6qr",
        "colab": {
          "base_uri": "https://localhost:8080/"
        },
        "outputId": "05b51c06-7324-49fe-8325-8ca058f73780"
      },
      "source": [
        "y_train[0:12]"
      ],
      "execution_count": null,
      "outputs": [
        {
          "output_type": "execute_result",
          "data": {
            "text/plain": [
              "array([5, 0, 4, 1, 9, 2, 1, 3, 1, 4, 3, 5], dtype=uint8)"
            ]
          },
          "metadata": {},
          "execution_count": 5
        }
      ]
    },
    {
      "cell_type": "code",
      "metadata": {
        "id": "Rcidoo4X-6qt",
        "colab": {
          "base_uri": "https://localhost:8080/",
          "height": 447
        },
        "outputId": "ec07f284-a8c1-49c4-efa1-59091c4b3475"
      },
      "source": [
        "plt.figure(figsize=(5,5)) # The size of the overall picture given below. Basically, the \"area of square-(a, a)\" or \"area of rectangle-(l, b)\"\n",
        "for k in range(12): # We times this loop runs = the number of digits that we want to display from the data.\n",
        "    plt.subplot(3, 4, k+1) # the subplot is responsible to denote the \"shape\" of display of the data in thr \"rows\" and \"columns\" structure. The k+1 determines the index position of the current plot.\n",
        "    plt.imshow(X_train[k], cmap='Greys') # the imshow() method is used to display the image at that index position \"k\", of the particular subplot, from the X_train set. And the cmap determines the \"color\" that each image should be displayed in. Eg: brg \n",
        "    plt.axis('off') # removes the axes and labels from the current subplot, so only the image is displayed. \n",
        "plt.tight_layout() # Fits the subplots correctly, trimming the spaces between them.\n",
        "plt.show() # Displays the overall result.\n",
        "\n",
        "\n",
        "# NOTE: Take a look at the output fromthe previous cell, we ran y_train, and in this cell, we ran X_train. So, both the outcomes are same. \n",
        "# Meaning: The contents in both the outputs are \"exactly the same\". But the formats are different. So, here, we have note one fundamental concept\n",
        "# about the X_train and y_train output. So, y_train contains the \"labels\", whereas, our X_train contains the \"actual images\" of those label. \n",
        "# So, we are basically, telling our model that, given this image of sample of the X set which is X_train, predict the labels of these images\n",
        "# and store them in an array, which is y_train. So, in a whole context, we feed the model, the relationship between the input an output, so thet\n",
        "# the model understands it, and will give the the desired output during the testing phase."
      ],
      "execution_count": null,
      "outputs": [
        {
          "output_type": "display_data",
          "data": {
            "text/plain": [
              "<Figure size 500x500 with 12 Axes>"
            ],
            "image/png": "[encoded data removed]"
          },
          "metadata": {}
        }
      ]
    },
    {
      "cell_type": "code",
      "metadata": {
        "id": "xL2vkR3jO2md",
        "colab": {
          "base_uri": "https://localhost:8080/"
        },
        "outputId": "f83621bc-7d06-47dd-d0cb-b93ae32742b2"
      },
      "source": [
        "X_valid.shape"
      ],
      "execution_count": null,
      "outputs": [
        {
          "output_type": "execute_result",
          "data": {
            "text/plain": [
              "(10000, 28, 28)"
            ]
          },
          "metadata": {},
          "execution_count": 7
        }
      ]
    },
    {
      "cell_type": "code",
      "metadata": {
        "id": "GKtAwVhYO34o",
        "colab": {
          "base_uri": "https://localhost:8080/"
        },
        "outputId": "1b7e8838-fa84-4680-c898-d7c56321a7f7"
      },
      "source": [
        "y_valid.shape"
      ],
      "execution_count": null,
      "outputs": [
        {
          "output_type": "execute_result",
          "data": {
            "text/plain": [
              "(10000,)"
            ]
          },
          "metadata": {},
          "execution_count": 8
        }
      ]
    },
    {
      "cell_type": "code",
      "metadata": {
        "id": "rITLTiol7eZH",
        "colab": {
          "base_uri": "https://localhost:8080/"
        },
        "outputId": "fea4e0fb-a15e-4240-b1e7-f63f87258112"
      },
      "source": [
        "y_valid[0]"
      ],
      "execution_count": null,
      "outputs": [
        {
          "output_type": "execute_result",
          "data": {
            "text/plain": [
              "7"
            ]
          },
          "metadata": {},
          "execution_count": 9
        }
      ]
    },
    {
      "cell_type": "code",
      "metadata": {
        "id": "v7wsvxTt7iZO",
        "colab": {
          "base_uri": "https://localhost:8080/",
          "height": 406
        },
        "outputId": "f89d4321-0745-4427-e990-8474628bb107"
      },
      "source": [
        "plt.imshow(X_valid[0], cmap='Greys')\n",
        "plt.axis('off')\n",
        "plt.show()"
      ],
      "execution_count": null,
      "outputs": [
        {
          "output_type": "display_data",
          "data": {
            "text/plain": [
              "<Figure size 640x480 with 1 Axes>"
            ],
            "image/png": "[encoded data removed]"
          },
          "metadata": {}
        }
      ]
    },
    {
      "cell_type": "code",
      "metadata": {
        "id": "lKSraXzh-6qw",
        "colab": {
          "base_uri": "https://localhost:8080/"
        },
        "outputId": "49b6c8cf-e2ae-4252-f29a-672c44e029db"
      },
      "source": [
        "# Reshape (flatten) images \n",
        "X_train_reshaped = X_train.reshape(60000, 784).astype('float32')\n",
        "X_valid_reshaped = X_valid.reshape(10000, 784).astype('float32')\n",
        "\n",
        "# Scale images to the [0, 1] range\n",
        "  # We are \"dividing the values with 255\" because it is the maximim value of intensity that our \"MNIST\" data has. 0 is the \"DARKEST\", and 255 is the \"BRIGHTEST\" one.\n",
        "  # larger the scaled value, better the \"scaled output\" \n",
        "X_train_scaled_reshaped = X_train_reshaped / 255\n",
        "X_valid_scaled_reshaped = X_valid_reshaped / 255\n",
        "\n",
        "# Renaming for conciseness\n",
        "X_training = X_train_scaled_reshaped\n",
        "X_validation = X_valid_scaled_reshaped\n",
        "\n",
        "print(\"X_training shape (after reshaping + scaling):\", X_training.shape)\n",
        "print(X_training.shape[0], \"train samples\")\n",
        "print(\"X_validation shape (after reshaping + scaling):\", X_validation.shape)\n",
        "print(X_validation.shape[0], \"validation samples\")"
      ],
      "execution_count": null,
      "outputs": [
        {
          "output_type": "stream",
          "name": "stdout",
          "text": [
            "X_training shape (after reshaping + scaling): (60000, 784)\n",
            "60000 train samples\n",
            "X_validation shape (after reshaping + scaling): (10000, 784)\n",
            "10000 validation samples\n"
          ]
        }
      ]
    },
    {
      "cell_type": "code",
      "metadata": {
        "id": "amUBlLnG-6qz"
      },
      "source": [
        "# convert class vectors to binary class matrices\n",
        "\n",
        "  # In both the below steps, we aim to convert out categorical data to binary. The OneHotEncoder method. \n",
        "y_training = keras.utils.to_categorical(y_train, num_classes)\n",
        "y_validation = keras.utils.to_categorical(y_valid, num_classes)"
      ],
      "execution_count": null,
      "outputs": []
    },
    {
      "cell_type": "code",
      "metadata": {
        "id": "QRX6auItPqtX",
        "colab": {
          "base_uri": "https://localhost:8080/"
        },
        "outputId": "2d464bbe-5611-4e97-fe39-1bddc6b93289"
      },
      "source": [
        "# In this, there is no prediction happening. We are just showing how the categorical data - \"7\", is converted to the binary version of it, as below.\n",
        "# [0. 0. 0. 0. 0. 0. 0. 1. 0. 0.], based on the num_classes attribute, For the explanation of this, look at the first cell.\n",
        "info = \"Based on the information that the Network received from the hidden layers, this  value will be given to the output layer, which will be help in brighting the neuron in the corresponding index position\";\n",
        "print(f\"{y_valid[0]} -----> {info}\")\n",
        "print(f\"{y_validation[0]} -----> # We will expect this format to be as an output by our model.\")"
      ],
      "execution_count": null,
      "outputs": [
        {
          "output_type": "stream",
          "name": "stdout",
          "text": [
            "7 -----> Based on the information that the Network received from the hidden layers, this  value will be given to the output layer, which will be help in brighting the neuron in the corresponding index position\n",
            "[0. 0. 0. 0. 0. 0. 0. 1. 0. 0.] -----> # We will expect this format to be as an output by our model.\n"
          ]
        }
      ]
    },
    {
      "cell_type": "markdown",
      "metadata": {
        "id": "eflqPyf9-6rW"
      },
      "source": [
        "#### **Configure model**"
      ]
    },
    {
      "cell_type": "code",
      "metadata": {
        "id": "r7CsGuzIKvZd"
      },
      "source": [
        "model = Sequential()\n",
        "model.add(Dense(64, activation='sigmoid', input_shape=(784,))) # So, here we have units=64 which means, there are \"64 Neurons\" in a dense layer, and each neuron will have 784 inputs connected to it.\n",
        "# the comma in the input_shape method is to seperate the (rows, column) structure. Here, we divide everything only to \"rows\". So we don't have columns here\".\n",
        "model.add(Dense(10, activation='softmax'))\n",
        "\n",
        "# layers.Dense method version\n",
        "# model = keras.Sequential([\n",
        "#     layers.Dense(64, activation='sigmoid', input_shape=(784,)),\n",
        "#     layers.Dense(10, activation='softmax'),\n",
        "# ])"
      ],
      "execution_count": null,
      "outputs": []
    },
    {
      "cell_type": "code",
      "metadata": {
        "id": "wQTQzXvJ-6rJ",
        "colab": {
          "base_uri": "https://localhost:8080/"
        },
        "outputId": "3cff8821-7fb0-4a60-c63f-197b0868d9bd"
      },
      "source": [
        "model.summary()"
      ],
      "execution_count": null,
      "outputs": [
        {
          "output_type": "stream",
          "name": "stdout",
          "text": [
            "Model: \"sequential\"\n",
            "_________________________________________________________________\n",
            " Layer (type)                Output Shape              Param #   \n",
            "=================================================================\n",
            " dense (Dense)               (None, 64)                50240     \n",
            "                                                                 \n",
            " dense_1 (Dense)             (None, 10)                650       \n",
            "                                                                 \n",
            "=================================================================\n",
            "Total params: 50,890\n",
            "Trainable params: 50,890\n",
            "Non-trainable params: 0\n",
            "_________________________________________________________________\n"
          ]
        }
      ]
    },
    {
      "cell_type": "code",
      "metadata": {
        "id": "p0KPx8Di-6rO",
        "colab": {
          "base_uri": "https://localhost:8080/"
        },
        "outputId": "625a8988-6670-4910-d745-bb18f5f0c926"
      },
      "source": [
        "(64*784)"
      ],
      "execution_count": null,
      "outputs": [
        {
          "output_type": "execute_result",
          "data": {
            "text/plain": [
              "50176"
            ]
          },
          "metadata": {},
          "execution_count": 16
        }
      ]
    },
    {
      "cell_type": "code",
      "metadata": {
        "id": "e7KDBMCS-6rQ",
        "colab": {
          "base_uri": "https://localhost:8080/"
        },
        "outputId": "fcdfb087-3be1-4497-e247-4f307a467213"
      },
      "source": [
        "(64*784)+64 # This  is basically the expression that denotes as below:\n",
        "# (no.of neurons * total no of weights that are connected to it from the previous layer) + bias"
      ],
      "execution_count": null,
      "outputs": [
        {
          "output_type": "execute_result",
          "data": {
            "text/plain": [
              "50240"
            ]
          },
          "metadata": {},
          "execution_count": 17
        }
      ]
    },
    {
      "cell_type": "code",
      "metadata": {
        "id": "ls_u6Lne-6rU",
        "colab": {
          "base_uri": "https://localhost:8080/"
        },
        "outputId": "28d328ed-e34c-4888-eb5e-cb28d01680c1"
      },
      "source": [
        "(10*64)+10"
      ],
      "execution_count": null,
      "outputs": [
        {
          "output_type": "execute_result",
          "data": {
            "text/plain": [
              "650"
            ]
          },
          "metadata": {},
          "execution_count": 18
        }
      ]
    },
    {
      "cell_type": "code",
      "metadata": {
        "id": "ZxAxL41M-6rX"
      },
      "source": [
        "model.compile(\n",
        "    loss='mean_squared_error', \n",
        "    optimizer=SGD(learning_rate=0.01), # Stochastic Gradient Descent. The learning_rate, will tell the stepsize of the descent/flow of the gradient descent. \n",
        "    metrics=['accuracy']\n",
        ")"
      ],
      "execution_count": null,
      "outputs": []
    },
    {
      "cell_type": "markdown",
      "metadata": {
        "id": "DId95CJ_-6rY"
      },
      "source": [
        "#### **Train!**"
      ]
    },
    {
      "cell_type": "code",
      "metadata": {
        "id": "OGws4yu8-6rZ",
        "colab": {
          "base_uri": "https://localhost:8080/"
        },
        "outputId": "d2bd498d-e538-4b24-9bc6-4390e1d7c989"
      },
      "source": [
        "batch_size=128\n",
        "epochs=200\n",
        "\n",
        "# So below, we give the training data, with the mdofied validation data, which will make the prdictions with the help of the given optimizer,\n",
        "# and will give the outputs accordingly\n",
        "history = model.fit(\n",
        "  X_training, # training data\n",
        "  y_training, # training targets\n",
        "  epochs=epochs,\n",
        "  batch_size=batch_size,\n",
        "  verbose=1,\n",
        "  validation_data=(X_validation, y_validation)\n",
        ")"
      ],
      "execution_count": null,
      "outputs": [
        {
          "output_type": "stream",
          "name": "stdout",
          "text": [
            "Epoch 1/200\n",
            "469/469 [==============================] - 8s 7ms/step - loss: 0.0962 - accuracy: 0.1180 - val_loss: 0.0938 - val_accuracy: 0.1319\n",
            "Epoch 2/200\n",
            "469/469 [==============================] - 3s 6ms/step - loss: 0.0925 - accuracy: 0.1431 - val_loss: 0.0917 - val_accuracy: 0.1482\n",
            "Epoch 3/200\n",
            "469/469 [==============================] - 3s 6ms/step - loss: 0.0911 - accuracy: 0.1536 - val_loss: 0.0908 - val_accuracy: 0.1573\n",
            "Epoch 4/200\n",
            "469/469 [==============================] - 1s 3ms/step - loss: 0.0903 - accuracy: 0.1643 - val_loss: 0.0902 - val_accuracy: 0.1707\n",
            "Epoch 5/200\n",
            "469/469 [==============================] - 2s 3ms/step - loss: 0.0898 - accuracy: 0.1768 - val_loss: 0.0897 - val_accuracy: 0.1850\n",
            "Epoch 6/200\n",
            "469/469 [==============================] - 1s 3ms/step - loss: 0.0894 - accuracy: 0.1918 - val_loss: 0.0893 - val_accuracy: 0.1980\n",
            "Epoch 7/200\n",
            "469/469 [==============================] - 2s 3ms/step - loss: 0.0890 - accuracy: 0.2104 - val_loss: 0.0890 - val_accuracy: 0.2161\n",
            "Epoch 8/200\n",
            "469/469 [==============================] - 1s 3ms/step - loss: 0.0887 - accuracy: 0.2324 - val_loss: 0.0887 - val_accuracy: 0.2473\n",
            "Epoch 9/200\n",
            "469/469 [==============================] - 2s 3ms/step - loss: 0.0884 - accuracy: 0.2598 - val_loss: 0.0884 - val_accuracy: 0.2751\n",
            "Epoch 10/200\n",
            "469/469 [==============================] - 2s 4ms/step - loss: 0.0881 - accuracy: 0.2918 - val_loss: 0.0881 - val_accuracy: 0.3095\n",
            "Epoch 11/200\n",
            "469/469 [==============================] - 2s 4ms/step - loss: 0.0878 - accuracy: 0.3322 - val_loss: 0.0878 - val_accuracy: 0.3553\n",
            "Epoch 12/200\n",
            "469/469 [==============================] - 1s 3ms/step - loss: 0.0875 - accuracy: 0.3800 - val_loss: 0.0875 - val_accuracy: 0.4020\n",
            "Epoch 13/200\n",
            "469/469 [==============================] - 1s 3ms/step - loss: 0.0872 - accuracy: 0.4219 - val_loss: 0.0872 - val_accuracy: 0.4380\n",
            "Epoch 14/200\n",
            "469/469 [==============================] - 2s 3ms/step - loss: 0.0869 - accuracy: 0.4476 - val_loss: 0.0869 - val_accuracy: 0.4586\n",
            "Epoch 15/200\n",
            "469/469 [==============================] - 2s 4ms/step - loss: 0.0866 - accuracy: 0.4629 - val_loss: 0.0866 - val_accuracy: 0.4708\n",
            "Epoch 16/200\n",
            "469/469 [==============================] - 1s 3ms/step - loss: 0.0863 - accuracy: 0.4748 - val_loss: 0.0863 - val_accuracy: 0.4789\n",
            "Epoch 17/200\n",
            "469/469 [==============================] - 2s 4ms/step - loss: 0.0860 - accuracy: 0.4838 - val_loss: 0.0860 - val_accuracy: 0.4866\n",
            "Epoch 18/200\n",
            "469/469 [==============================] - 2s 4ms/step - loss: 0.0857 - accuracy: 0.4910 - val_loss: 0.0857 - val_accuracy: 0.4931\n",
            "Epoch 19/200\n",
            "469/469 [==============================] - 2s 3ms/step - loss: 0.0854 - accuracy: 0.4958 - val_loss: 0.0853 - val_accuracy: 0.4993\n",
            "Epoch 20/200\n",
            "469/469 [==============================] - 2s 3ms/step - loss: 0.0851 - accuracy: 0.5011 - val_loss: 0.0850 - val_accuracy: 0.5047\n",
            "Epoch 21/200\n",
            "469/469 [==============================] - 2s 3ms/step - loss: 0.0848 - accuracy: 0.5060 - val_loss: 0.0847 - val_accuracy: 0.5074\n",
            "Epoch 22/200\n",
            "469/469 [==============================] - 1s 3ms/step - loss: 0.0844 - accuracy: 0.5097 - val_loss: 0.0843 - val_accuracy: 0.5110\n",
            "Epoch 23/200\n",
            "469/469 [==============================] - 1s 3ms/step - loss: 0.0841 - accuracy: 0.5126 - val_loss: 0.0840 - val_accuracy: 0.5136\n",
            "Epoch 24/200\n",
            "469/469 [==============================] - 2s 4ms/step - loss: 0.0837 - accuracy: 0.5158 - val_loss: 0.0836 - val_accuracy: 0.5168\n",
            "Epoch 25/200\n",
            "469/469 [==============================] - 2s 4ms/step - loss: 0.0834 - accuracy: 0.5177 - val_loss: 0.0832 - val_accuracy: 0.5207\n",
            "Epoch 26/200\n",
            "469/469 [==============================] - 2s 4ms/step - loss: 0.0830 - accuracy: 0.5205 - val_loss: 0.0828 - val_accuracy: 0.5232\n",
            "Epoch 27/200\n",
            "469/469 [==============================] - 2s 3ms/step - loss: 0.0826 - accuracy: 0.5233 - val_loss: 0.0824 - val_accuracy: 0.5244\n",
            "Epoch 28/200\n",
            "469/469 [==============================] - 1s 3ms/step - loss: 0.0822 - accuracy: 0.5253 - val_loss: 0.0820 - val_accuracy: 0.5268\n",
            "Epoch 29/200\n",
            "469/469 [==============================] - 1s 3ms/step - loss: 0.0818 - accuracy: 0.5269 - val_loss: 0.0816 - val_accuracy: 0.5292\n",
            "Epoch 30/200\n",
            "469/469 [==============================] - 1s 3ms/step - loss: 0.0814 - accuracy: 0.5285 - val_loss: 0.0812 - val_accuracy: 0.5315\n",
            "Epoch 31/200\n",
            "469/469 [==============================] - 1s 3ms/step - loss: 0.0810 - accuracy: 0.5314 - val_loss: 0.0808 - val_accuracy: 0.5326\n",
            "Epoch 32/200\n",
            "469/469 [==============================] - 1s 3ms/step - loss: 0.0806 - accuracy: 0.5328 - val_loss: 0.0803 - val_accuracy: 0.5352\n",
            "Epoch 33/200\n",
            "469/469 [==============================] - 2s 4ms/step - loss: 0.0801 - accuracy: 0.5357 - val_loss: 0.0799 - val_accuracy: 0.5369\n",
            "Epoch 34/200\n",
            "469/469 [==============================] - 2s 3ms/step - loss: 0.0797 - accuracy: 0.5374 - val_loss: 0.0794 - val_accuracy: 0.5398\n",
            "Epoch 35/200\n",
            "469/469 [==============================] - 1s 3ms/step - loss: 0.0792 - accuracy: 0.5389 - val_loss: 0.0790 - val_accuracy: 0.5414\n",
            "Epoch 36/200\n",
            "469/469 [==============================] - 1s 3ms/step - loss: 0.0787 - accuracy: 0.5418 - val_loss: 0.0785 - val_accuracy: 0.5428\n",
            "Epoch 37/200\n",
            "469/469 [==============================] - 2s 3ms/step - loss: 0.0783 - accuracy: 0.5435 - val_loss: 0.0780 - val_accuracy: 0.5453\n",
            "Epoch 38/200\n",
            "469/469 [==============================] - 1s 3ms/step - loss: 0.0778 - accuracy: 0.5458 - val_loss: 0.0775 - val_accuracy: 0.5470\n",
            "Epoch 39/200\n",
            "469/469 [==============================] - 1s 3ms/step - loss: 0.0773 - accuracy: 0.5486 - val_loss: 0.0770 - val_accuracy: 0.5498\n",
            "Epoch 40/200\n",
            "469/469 [==============================] - 1s 3ms/step - loss: 0.0768 - accuracy: 0.5507 - val_loss: 0.0765 - val_accuracy: 0.5524\n",
            "Epoch 41/200\n",
            "469/469 [==============================] - 2s 4ms/step - loss: 0.0763 - accuracy: 0.5533 - val_loss: 0.0760 - val_accuracy: 0.5554\n",
            "Epoch 42/200\n",
            "469/469 [==============================] - 2s 4ms/step - loss: 0.0758 - accuracy: 0.5559 - val_loss: 0.0755 - val_accuracy: 0.5568\n",
            "Epoch 43/200\n",
            "469/469 [==============================] - 1s 3ms/step - loss: 0.0753 - accuracy: 0.5573 - val_loss: 0.0749 - val_accuracy: 0.5590\n",
            "Epoch 44/200\n",
            "469/469 [==============================] - 1s 3ms/step - loss: 0.0747 - accuracy: 0.5597 - val_loss: 0.0744 - val_accuracy: 0.5615\n",
            "Epoch 45/200\n",
            "469/469 [==============================] - 1s 3ms/step - loss: 0.0742 - accuracy: 0.5622 - val_loss: 0.0739 - val_accuracy: 0.5640\n",
            "Epoch 46/200\n",
            "469/469 [==============================] - 1s 3ms/step - loss: 0.0737 - accuracy: 0.5646 - val_loss: 0.0733 - val_accuracy: 0.5665\n",
            "Epoch 47/200\n",
            "469/469 [==============================] - 1s 3ms/step - loss: 0.0731 - accuracy: 0.5663 - val_loss: 0.0728 - val_accuracy: 0.5682\n",
            "Epoch 48/200\n",
            "469/469 [==============================] - 1s 3ms/step - loss: 0.0726 - accuracy: 0.5690 - val_loss: 0.0723 - val_accuracy: 0.5702\n",
            "Epoch 49/200\n",
            "469/469 [==============================] - 1s 3ms/step - loss: 0.0720 - accuracy: 0.5713 - val_loss: 0.0717 - val_accuracy: 0.5717\n",
            "Epoch 50/200\n",
            "469/469 [==============================] - 2s 4ms/step - loss: 0.0715 - accuracy: 0.5734 - val_loss: 0.0712 - val_accuracy: 0.5743\n",
            "Epoch 51/200\n",
            "469/469 [==============================] - 1s 3ms/step - loss: 0.0710 - accuracy: 0.5753 - val_loss: 0.0706 - val_accuracy: 0.5770\n",
            "Epoch 52/200\n",
            "469/469 [==============================] - 1s 3ms/step - loss: 0.0704 - accuracy: 0.5773 - val_loss: 0.0701 - val_accuracy: 0.5789\n",
            "Epoch 53/200\n",
            "469/469 [==============================] - 1s 3ms/step - loss: 0.0699 - accuracy: 0.5794 - val_loss: 0.0695 - val_accuracy: 0.5807\n",
            "Epoch 54/200\n",
            "469/469 [==============================] - 1s 3ms/step - loss: 0.0693 - accuracy: 0.5814 - val_loss: 0.0690 - val_accuracy: 0.5830\n",
            "Epoch 55/200\n",
            "469/469 [==============================] - 2s 3ms/step - loss: 0.0688 - accuracy: 0.5835 - val_loss: 0.0685 - val_accuracy: 0.5842\n",
            "Epoch 56/200\n",
            "469/469 [==============================] - 1s 3ms/step - loss: 0.0683 - accuracy: 0.5853 - val_loss: 0.0679 - val_accuracy: 0.5862\n",
            "Epoch 57/200\n",
            "469/469 [==============================] - 1s 3ms/step - loss: 0.0677 - accuracy: 0.5872 - val_loss: 0.0674 - val_accuracy: 0.5876\n",
            "Epoch 58/200\n",
            "469/469 [==============================] - 2s 4ms/step - loss: 0.0672 - accuracy: 0.5889 - val_loss: 0.0669 - val_accuracy: 0.5888\n",
            "Epoch 59/200\n",
            "469/469 [==============================] - 2s 3ms/step - loss: 0.0667 - accuracy: 0.5908 - val_loss: 0.0663 - val_accuracy: 0.5911\n",
            "Epoch 60/200\n",
            "469/469 [==============================] - 1s 3ms/step - loss: 0.0662 - accuracy: 0.5926 - val_loss: 0.0658 - val_accuracy: 0.5932\n",
            "Epoch 61/200\n",
            "469/469 [==============================] - 1s 3ms/step - loss: 0.0656 - accuracy: 0.5940 - val_loss: 0.0653 - val_accuracy: 0.5956\n",
            "Epoch 62/200\n",
            "469/469 [==============================] - 1s 3ms/step - loss: 0.0651 - accuracy: 0.5964 - val_loss: 0.0648 - val_accuracy: 0.5976\n",
            "Epoch 63/200\n",
            "469/469 [==============================] - 1s 3ms/step - loss: 0.0646 - accuracy: 0.5979 - val_loss: 0.0643 - val_accuracy: 0.5996\n",
            "Epoch 64/200\n",
            "469/469 [==============================] - 1s 3ms/step - loss: 0.0641 - accuracy: 0.5996 - val_loss: 0.0638 - val_accuracy: 0.6012\n",
            "Epoch 65/200\n",
            "469/469 [==============================] - 1s 3ms/step - loss: 0.0637 - accuracy: 0.6013 - val_loss: 0.0633 - val_accuracy: 0.6028\n",
            "Epoch 66/200\n",
            "469/469 [==============================] - 2s 3ms/step - loss: 0.0632 - accuracy: 0.6028 - val_loss: 0.0628 - val_accuracy: 0.6044\n",
            "Epoch 67/200\n",
            "469/469 [==============================] - 3s 6ms/step - loss: 0.0627 - accuracy: 0.6045 - val_loss: 0.0624 - val_accuracy: 0.6060\n",
            "Epoch 68/200\n",
            "469/469 [==============================] - 1s 3ms/step - loss: 0.0622 - accuracy: 0.6062 - val_loss: 0.0619 - val_accuracy: 0.6069\n",
            "Epoch 69/200\n",
            "469/469 [==============================] - 2s 3ms/step - loss: 0.0618 - accuracy: 0.6076 - val_loss: 0.0614 - val_accuracy: 0.6092\n",
            "Epoch 70/200\n",
            "469/469 [==============================] - 1s 3ms/step - loss: 0.0613 - accuracy: 0.6089 - val_loss: 0.0610 - val_accuracy: 0.6110\n",
            "Epoch 71/200\n",
            "469/469 [==============================] - 1s 3ms/step - loss: 0.0609 - accuracy: 0.6103 - val_loss: 0.0605 - val_accuracy: 0.6129\n",
            "Epoch 72/200\n",
            "469/469 [==============================] - 1s 3ms/step - loss: 0.0604 - accuracy: 0.6120 - val_loss: 0.0601 - val_accuracy: 0.6141\n",
            "Epoch 73/200\n",
            "469/469 [==============================] - 1s 3ms/step - loss: 0.0600 - accuracy: 0.6134 - val_loss: 0.0597 - val_accuracy: 0.6155\n",
            "Epoch 74/200\n",
            "469/469 [==============================] - 2s 4ms/step - loss: 0.0596 - accuracy: 0.6148 - val_loss: 0.0592 - val_accuracy: 0.6165\n",
            "Epoch 75/200\n",
            "469/469 [==============================] - 2s 4ms/step - loss: 0.0591 - accuracy: 0.6165 - val_loss: 0.0588 - val_accuracy: 0.6174\n",
            "Epoch 76/200\n",
            "469/469 [==============================] - 1s 3ms/step - loss: 0.0587 - accuracy: 0.6176 - val_loss: 0.0584 - val_accuracy: 0.6194\n",
            "Epoch 77/200\n",
            "469/469 [==============================] - 1s 3ms/step - loss: 0.0583 - accuracy: 0.6191 - val_loss: 0.0580 - val_accuracy: 0.6213\n",
            "Epoch 78/200\n",
            "469/469 [==============================] - 1s 3ms/step - loss: 0.0579 - accuracy: 0.6205 - val_loss: 0.0576 - val_accuracy: 0.6223\n",
            "Epoch 79/200\n",
            "469/469 [==============================] - 1s 3ms/step - loss: 0.0575 - accuracy: 0.6219 - val_loss: 0.0572 - val_accuracy: 0.6235\n",
            "Epoch 80/200\n",
            "469/469 [==============================] - 1s 3ms/step - loss: 0.0571 - accuracy: 0.6236 - val_loss: 0.0568 - val_accuracy: 0.6251\n",
            "Epoch 81/200\n",
            "469/469 [==============================] - 1s 3ms/step - loss: 0.0568 - accuracy: 0.6253 - val_loss: 0.0564 - val_accuracy: 0.6268\n",
            "Epoch 82/200\n",
            "469/469 [==============================] - 2s 4ms/step - loss: 0.0564 - accuracy: 0.6270 - val_loss: 0.0560 - val_accuracy: 0.6294\n",
            "Epoch 83/200\n",
            "469/469 [==============================] - 2s 4ms/step - loss: 0.0560 - accuracy: 0.6292 - val_loss: 0.0557 - val_accuracy: 0.6323\n",
            "Epoch 84/200\n",
            "469/469 [==============================] - 1s 3ms/step - loss: 0.0556 - accuracy: 0.6311 - val_loss: 0.0553 - val_accuracy: 0.6355\n",
            "Epoch 85/200\n",
            "469/469 [==============================] - 1s 3ms/step - loss: 0.0553 - accuracy: 0.6332 - val_loss: 0.0549 - val_accuracy: 0.6380\n",
            "Epoch 86/200\n",
            "469/469 [==============================] - 1s 3ms/step - loss: 0.0549 - accuracy: 0.6356 - val_loss: 0.0546 - val_accuracy: 0.6409\n",
            "Epoch 87/200\n",
            "469/469 [==============================] - 1s 3ms/step - loss: 0.0546 - accuracy: 0.6381 - val_loss: 0.0542 - val_accuracy: 0.6427\n",
            "Epoch 88/200\n",
            "469/469 [==============================] - 2s 3ms/step - loss: 0.0542 - accuracy: 0.6406 - val_loss: 0.0538 - val_accuracy: 0.6453\n",
            "Epoch 89/200\n",
            "469/469 [==============================] - 2s 3ms/step - loss: 0.0539 - accuracy: 0.6435 - val_loss: 0.0535 - val_accuracy: 0.6484\n",
            "Epoch 90/200\n",
            "469/469 [==============================] - 2s 4ms/step - loss: 0.0535 - accuracy: 0.6462 - val_loss: 0.0531 - val_accuracy: 0.6511\n",
            "Epoch 91/200\n",
            "469/469 [==============================] - 2s 4ms/step - loss: 0.0532 - accuracy: 0.6489 - val_loss: 0.0528 - val_accuracy: 0.6532\n",
            "Epoch 92/200\n",
            "469/469 [==============================] - 2s 4ms/step - loss: 0.0529 - accuracy: 0.6519 - val_loss: 0.0525 - val_accuracy: 0.6569\n",
            "Epoch 93/200\n",
            "469/469 [==============================] - 2s 4ms/step - loss: 0.0525 - accuracy: 0.6543 - val_loss: 0.0521 - val_accuracy: 0.6603\n",
            "Epoch 94/200\n",
            "469/469 [==============================] - 2s 4ms/step - loss: 0.0522 - accuracy: 0.6578 - val_loss: 0.0518 - val_accuracy: 0.6629\n",
            "Epoch 95/200\n",
            "469/469 [==============================] - 1s 3ms/step - loss: 0.0519 - accuracy: 0.6608 - val_loss: 0.0515 - val_accuracy: 0.6647\n",
            "Epoch 96/200\n",
            "469/469 [==============================] - 1s 3ms/step - loss: 0.0515 - accuracy: 0.6640 - val_loss: 0.0511 - val_accuracy: 0.6679\n",
            "Epoch 97/200\n",
            "469/469 [==============================] - 2s 4ms/step - loss: 0.0512 - accuracy: 0.6671 - val_loss: 0.0508 - val_accuracy: 0.6717\n",
            "Epoch 98/200\n",
            "469/469 [==============================] - 2s 4ms/step - loss: 0.0509 - accuracy: 0.6703 - val_loss: 0.0505 - val_accuracy: 0.6746\n",
            "Epoch 99/200\n",
            "469/469 [==============================] - 1s 3ms/step - loss: 0.0506 - accuracy: 0.6736 - val_loss: 0.0502 - val_accuracy: 0.6782\n",
            "Epoch 100/200\n",
            "469/469 [==============================] - 1s 3ms/step - loss: 0.0503 - accuracy: 0.6771 - val_loss: 0.0499 - val_accuracy: 0.6815\n",
            "Epoch 101/200\n",
            "469/469 [==============================] - 2s 3ms/step - loss: 0.0500 - accuracy: 0.6808 - val_loss: 0.0495 - val_accuracy: 0.6848\n",
            "Epoch 102/200\n",
            "469/469 [==============================] - 1s 3ms/step - loss: 0.0497 - accuracy: 0.6838 - val_loss: 0.0492 - val_accuracy: 0.6880\n",
            "Epoch 103/200\n",
            "469/469 [==============================] - 1s 3ms/step - loss: 0.0494 - accuracy: 0.6874 - val_loss: 0.0489 - val_accuracy: 0.6916\n",
            "Epoch 104/200\n",
            "469/469 [==============================] - 2s 3ms/step - loss: 0.0491 - accuracy: 0.6907 - val_loss: 0.0486 - val_accuracy: 0.6951\n",
            "Epoch 105/200\n",
            "469/469 [==============================] - 2s 3ms/step - loss: 0.0488 - accuracy: 0.6942 - val_loss: 0.0483 - val_accuracy: 0.6992\n",
            "Epoch 106/200\n",
            "469/469 [==============================] - 2s 4ms/step - loss: 0.0485 - accuracy: 0.6979 - val_loss: 0.0480 - val_accuracy: 0.7026\n",
            "Epoch 107/200\n",
            "469/469 [==============================] - 1s 3ms/step - loss: 0.0482 - accuracy: 0.7013 - val_loss: 0.0477 - val_accuracy: 0.7048\n",
            "Epoch 108/200\n",
            "469/469 [==============================] - 1s 3ms/step - loss: 0.0479 - accuracy: 0.7044 - val_loss: 0.0474 - val_accuracy: 0.7075\n",
            "Epoch 109/200\n",
            "469/469 [==============================] - 1s 3ms/step - loss: 0.0476 - accuracy: 0.7071 - val_loss: 0.0471 - val_accuracy: 0.7102\n",
            "Epoch 110/200\n",
            "469/469 [==============================] - 1s 3ms/step - loss: 0.0473 - accuracy: 0.7102 - val_loss: 0.0468 - val_accuracy: 0.7147\n",
            "Epoch 111/200\n",
            "469/469 [==============================] - 1s 3ms/step - loss: 0.0470 - accuracy: 0.7132 - val_loss: 0.0465 - val_accuracy: 0.7184\n",
            "Epoch 112/200\n",
            "469/469 [==============================] - 1s 3ms/step - loss: 0.0468 - accuracy: 0.7163 - val_loss: 0.0463 - val_accuracy: 0.7221\n",
            "Epoch 113/200\n",
            "469/469 [==============================] - 1s 3ms/step - loss: 0.0465 - accuracy: 0.7194 - val_loss: 0.0460 - val_accuracy: 0.7254\n",
            "Epoch 114/200\n",
            "469/469 [==============================] - 2s 4ms/step - loss: 0.0462 - accuracy: 0.7228 - val_loss: 0.0457 - val_accuracy: 0.7280\n",
            "Epoch 115/200\n",
            "469/469 [==============================] - 1s 3ms/step - loss: 0.0459 - accuracy: 0.7253 - val_loss: 0.0454 - val_accuracy: 0.7311\n",
            "Epoch 116/200\n",
            "469/469 [==============================] - 1s 3ms/step - loss: 0.0457 - accuracy: 0.7289 - val_loss: 0.0451 - val_accuracy: 0.7339\n",
            "Epoch 117/200\n",
            "469/469 [==============================] - 1s 3ms/step - loss: 0.0454 - accuracy: 0.7319 - val_loss: 0.0448 - val_accuracy: 0.7364\n",
            "Epoch 118/200\n",
            "469/469 [==============================] - 1s 3ms/step - loss: 0.0451 - accuracy: 0.7348 - val_loss: 0.0446 - val_accuracy: 0.7394\n",
            "Epoch 119/200\n",
            "469/469 [==============================] - 1s 3ms/step - loss: 0.0449 - accuracy: 0.7371 - val_loss: 0.0443 - val_accuracy: 0.7421\n",
            "Epoch 120/200\n",
            "469/469 [==============================] - 1s 3ms/step - loss: 0.0446 - accuracy: 0.7403 - val_loss: 0.0440 - val_accuracy: 0.7440\n",
            "Epoch 121/200\n",
            "469/469 [==============================] - 1s 3ms/step - loss: 0.0443 - accuracy: 0.7423 - val_loss: 0.0438 - val_accuracy: 0.7474\n",
            "Epoch 122/200\n",
            "469/469 [==============================] - 2s 4ms/step - loss: 0.0441 - accuracy: 0.7442 - val_loss: 0.0435 - val_accuracy: 0.7495\n",
            "Epoch 123/200\n",
            "469/469 [==============================] - 2s 4ms/step - loss: 0.0438 - accuracy: 0.7468 - val_loss: 0.0432 - val_accuracy: 0.7527\n",
            "Epoch 124/200\n",
            "469/469 [==============================] - 1s 3ms/step - loss: 0.0436 - accuracy: 0.7495 - val_loss: 0.0430 - val_accuracy: 0.7555\n",
            "Epoch 125/200\n",
            "469/469 [==============================] - 1s 3ms/step - loss: 0.0433 - accuracy: 0.7515 - val_loss: 0.0427 - val_accuracy: 0.7575\n",
            "Epoch 126/200\n",
            "469/469 [==============================] - 1s 3ms/step - loss: 0.0431 - accuracy: 0.7541 - val_loss: 0.0425 - val_accuracy: 0.7593\n",
            "Epoch 127/200\n",
            "469/469 [==============================] - 1s 3ms/step - loss: 0.0428 - accuracy: 0.7559 - val_loss: 0.0422 - val_accuracy: 0.7611\n",
            "Epoch 128/200\n",
            "469/469 [==============================] - 1s 3ms/step - loss: 0.0426 - accuracy: 0.7577 - val_loss: 0.0420 - val_accuracy: 0.7629\n",
            "Epoch 129/200\n",
            "469/469 [==============================] - 1s 3ms/step - loss: 0.0423 - accuracy: 0.7597 - val_loss: 0.0417 - val_accuracy: 0.7645\n",
            "Epoch 130/200\n",
            "469/469 [==============================] - 2s 4ms/step - loss: 0.0421 - accuracy: 0.7613 - val_loss: 0.0415 - val_accuracy: 0.7668\n",
            "Epoch 131/200\n",
            "469/469 [==============================] - 2s 4ms/step - loss: 0.0419 - accuracy: 0.7629 - val_loss: 0.0412 - val_accuracy: 0.7678\n",
            "Epoch 132/200\n",
            "469/469 [==============================] - 1s 3ms/step - loss: 0.0416 - accuracy: 0.7651 - val_loss: 0.0410 - val_accuracy: 0.7692\n",
            "Epoch 133/200\n",
            "469/469 [==============================] - 1s 3ms/step - loss: 0.0414 - accuracy: 0.7670 - val_loss: 0.0408 - val_accuracy: 0.7701\n",
            "Epoch 134/200\n",
            "469/469 [==============================] - 1s 3ms/step - loss: 0.0412 - accuracy: 0.7683 - val_loss: 0.0405 - val_accuracy: 0.7717\n",
            "Epoch 135/200\n",
            "469/469 [==============================] - 1s 3ms/step - loss: 0.0409 - accuracy: 0.7694 - val_loss: 0.0403 - val_accuracy: 0.7732\n",
            "Epoch 136/200\n",
            "469/469 [==============================] - 1s 3ms/step - loss: 0.0407 - accuracy: 0.7708 - val_loss: 0.0401 - val_accuracy: 0.7748\n",
            "Epoch 137/200\n",
            "469/469 [==============================] - 1s 3ms/step - loss: 0.0405 - accuracy: 0.7723 - val_loss: 0.0398 - val_accuracy: 0.7759\n",
            "Epoch 138/200\n",
            "469/469 [==============================] - 2s 4ms/step - loss: 0.0403 - accuracy: 0.7734 - val_loss: 0.0396 - val_accuracy: 0.7767\n",
            "Epoch 139/200\n",
            "469/469 [==============================] - 2s 4ms/step - loss: 0.0400 - accuracy: 0.7743 - val_loss: 0.0394 - val_accuracy: 0.7778\n",
            "Epoch 140/200\n",
            "469/469 [==============================] - 1s 3ms/step - loss: 0.0398 - accuracy: 0.7755 - val_loss: 0.0392 - val_accuracy: 0.7790\n",
            "Epoch 141/200\n",
            "469/469 [==============================] - 1s 3ms/step - loss: 0.0396 - accuracy: 0.7763 - val_loss: 0.0390 - val_accuracy: 0.7797\n",
            "Epoch 142/200\n",
            "469/469 [==============================] - 1s 3ms/step - loss: 0.0394 - accuracy: 0.7774 - val_loss: 0.0387 - val_accuracy: 0.7803\n",
            "Epoch 143/200\n",
            "469/469 [==============================] - 1s 3ms/step - loss: 0.0392 - accuracy: 0.7785 - val_loss: 0.0385 - val_accuracy: 0.7815\n",
            "Epoch 144/200\n",
            "469/469 [==============================] - 1s 3ms/step - loss: 0.0390 - accuracy: 0.7795 - val_loss: 0.0383 - val_accuracy: 0.7821\n",
            "Epoch 145/200\n",
            "469/469 [==============================] - 1s 3ms/step - loss: 0.0388 - accuracy: 0.7804 - val_loss: 0.0381 - val_accuracy: 0.7832\n",
            "Epoch 146/200\n",
            "469/469 [==============================] - 2s 4ms/step - loss: 0.0386 - accuracy: 0.7813 - val_loss: 0.0379 - val_accuracy: 0.7842\n",
            "Epoch 147/200\n",
            "469/469 [==============================] - 2s 4ms/step - loss: 0.0384 - accuracy: 0.7823 - val_loss: 0.0377 - val_accuracy: 0.7861\n",
            "Epoch 148/200\n",
            "469/469 [==============================] - 1s 3ms/step - loss: 0.0382 - accuracy: 0.7833 - val_loss: 0.0375 - val_accuracy: 0.7879\n",
            "Epoch 149/200\n",
            "469/469 [==============================] - 1s 3ms/step - loss: 0.0380 - accuracy: 0.7842 - val_loss: 0.0373 - val_accuracy: 0.7888\n",
            "Epoch 150/200\n",
            "469/469 [==============================] - 1s 3ms/step - loss: 0.0378 - accuracy: 0.7852 - val_loss: 0.0371 - val_accuracy: 0.7895\n",
            "Epoch 151/200\n",
            "469/469 [==============================] - 2s 4ms/step - loss: 0.0376 - accuracy: 0.7860 - val_loss: 0.0369 - val_accuracy: 0.7910\n",
            "Epoch 152/200\n",
            "469/469 [==============================] - 1s 3ms/step - loss: 0.0374 - accuracy: 0.7870 - val_loss: 0.0367 - val_accuracy: 0.7922\n",
            "Epoch 153/200\n",
            "469/469 [==============================] - 1s 3ms/step - loss: 0.0372 - accuracy: 0.7881 - val_loss: 0.0365 - val_accuracy: 0.7932\n",
            "Epoch 154/200\n",
            "469/469 [==============================] - 2s 4ms/step - loss: 0.0370 - accuracy: 0.7893 - val_loss: 0.0363 - val_accuracy: 0.7941\n",
            "Epoch 155/200\n",
            "469/469 [==============================] - 2s 4ms/step - loss: 0.0368 - accuracy: 0.7907 - val_loss: 0.0361 - val_accuracy: 0.7961\n",
            "Epoch 156/200\n",
            "469/469 [==============================] - 2s 3ms/step - loss: 0.0366 - accuracy: 0.7918 - val_loss: 0.0359 - val_accuracy: 0.7972\n",
            "Epoch 157/200\n",
            "469/469 [==============================] - 2s 4ms/step - loss: 0.0365 - accuracy: 0.7933 - val_loss: 0.0357 - val_accuracy: 0.7997\n",
            "Epoch 158/200\n",
            "469/469 [==============================] - 1s 3ms/step - loss: 0.0363 - accuracy: 0.7948 - val_loss: 0.0356 - val_accuracy: 0.8010\n",
            "Epoch 159/200\n",
            "469/469 [==============================] - 2s 3ms/step - loss: 0.0361 - accuracy: 0.7961 - val_loss: 0.0354 - val_accuracy: 0.8028\n",
            "Epoch 160/200\n",
            "469/469 [==============================] - 2s 3ms/step - loss: 0.0359 - accuracy: 0.7977 - val_loss: 0.0352 - val_accuracy: 0.8044\n",
            "Epoch 161/200\n",
            "469/469 [==============================] - 2s 3ms/step - loss: 0.0357 - accuracy: 0.7994 - val_loss: 0.0350 - val_accuracy: 0.8060\n",
            "Epoch 162/200\n",
            "469/469 [==============================] - 2s 4ms/step - loss: 0.0356 - accuracy: 0.8007 - val_loss: 0.0348 - val_accuracy: 0.8076\n",
            "Epoch 163/200\n",
            "469/469 [==============================] - 2s 4ms/step - loss: 0.0354 - accuracy: 0.8021 - val_loss: 0.0347 - val_accuracy: 0.8100\n",
            "Epoch 164/200\n",
            "469/469 [==============================] - 1s 3ms/step - loss: 0.0352 - accuracy: 0.8038 - val_loss: 0.0345 - val_accuracy: 0.8120\n",
            "Epoch 165/200\n",
            "469/469 [==============================] - 2s 3ms/step - loss: 0.0350 - accuracy: 0.8052 - val_loss: 0.0343 - val_accuracy: 0.8140\n",
            "Epoch 166/200\n",
            "469/469 [==============================] - 2s 3ms/step - loss: 0.0349 - accuracy: 0.8066 - val_loss: 0.0341 - val_accuracy: 0.8157\n",
            "Epoch 167/200\n",
            "469/469 [==============================] - 1s 3ms/step - loss: 0.0347 - accuracy: 0.8081 - val_loss: 0.0340 - val_accuracy: 0.8171\n",
            "Epoch 168/200\n",
            "469/469 [==============================] - 1s 3ms/step - loss: 0.0345 - accuracy: 0.8098 - val_loss: 0.0338 - val_accuracy: 0.8188\n",
            "Epoch 169/200\n",
            "469/469 [==============================] - 2s 3ms/step - loss: 0.0344 - accuracy: 0.8113 - val_loss: 0.0336 - val_accuracy: 0.8209\n",
            "Epoch 170/200\n",
            "469/469 [==============================] - 2s 4ms/step - loss: 0.0342 - accuracy: 0.8131 - val_loss: 0.0335 - val_accuracy: 0.8224\n",
            "Epoch 171/200\n",
            "469/469 [==============================] - 2s 4ms/step - loss: 0.0341 - accuracy: 0.8148 - val_loss: 0.0333 - val_accuracy: 0.8243\n",
            "Epoch 172/200\n",
            "469/469 [==============================] - 1s 3ms/step - loss: 0.0339 - accuracy: 0.8165 - val_loss: 0.0331 - val_accuracy: 0.8257\n",
            "Epoch 173/200\n",
            "469/469 [==============================] - 1s 3ms/step - loss: 0.0337 - accuracy: 0.8180 - val_loss: 0.0330 - val_accuracy: 0.8281\n",
            "Epoch 174/200\n",
            "469/469 [==============================] - 1s 3ms/step - loss: 0.0336 - accuracy: 0.8195 - val_loss: 0.0328 - val_accuracy: 0.8301\n",
            "Epoch 175/200\n",
            "469/469 [==============================] - 2s 3ms/step - loss: 0.0334 - accuracy: 0.8209 - val_loss: 0.0326 - val_accuracy: 0.8313\n",
            "Epoch 176/200\n",
            "469/469 [==============================] - 1s 3ms/step - loss: 0.0333 - accuracy: 0.8223 - val_loss: 0.0325 - val_accuracy: 0.8328\n",
            "Epoch 177/200\n",
            "469/469 [==============================] - 2s 3ms/step - loss: 0.0331 - accuracy: 0.8238 - val_loss: 0.0323 - val_accuracy: 0.8346\n",
            "Epoch 178/200\n",
            "469/469 [==============================] - 2s 4ms/step - loss: 0.0330 - accuracy: 0.8252 - val_loss: 0.0322 - val_accuracy: 0.8359\n",
            "Epoch 179/200\n",
            "469/469 [==============================] - 1s 3ms/step - loss: 0.0328 - accuracy: 0.8267 - val_loss: 0.0320 - val_accuracy: 0.8377\n",
            "Epoch 180/200\n",
            "469/469 [==============================] - 2s 3ms/step - loss: 0.0327 - accuracy: 0.8280 - val_loss: 0.0319 - val_accuracy: 0.8394\n",
            "Epoch 181/200\n",
            "469/469 [==============================] - 2s 3ms/step - loss: 0.0325 - accuracy: 0.8291 - val_loss: 0.0317 - val_accuracy: 0.8409\n",
            "Epoch 182/200\n",
            "469/469 [==============================] - 2s 3ms/step - loss: 0.0324 - accuracy: 0.8305 - val_loss: 0.0316 - val_accuracy: 0.8414\n",
            "Epoch 183/200\n",
            "469/469 [==============================] - 1s 3ms/step - loss: 0.0322 - accuracy: 0.8319 - val_loss: 0.0314 - val_accuracy: 0.8425\n",
            "Epoch 184/200\n",
            "469/469 [==============================] - 2s 3ms/step - loss: 0.0321 - accuracy: 0.8329 - val_loss: 0.0313 - val_accuracy: 0.8437\n",
            "Epoch 185/200\n",
            "469/469 [==============================] - 2s 4ms/step - loss: 0.0319 - accuracy: 0.8338 - val_loss: 0.0311 - val_accuracy: 0.8444\n",
            "Epoch 186/200\n",
            "469/469 [==============================] - 2s 4ms/step - loss: 0.0318 - accuracy: 0.8349 - val_loss: 0.0310 - val_accuracy: 0.8459\n",
            "Epoch 187/200\n",
            "469/469 [==============================] - 2s 3ms/step - loss: 0.0316 - accuracy: 0.8362 - val_loss: 0.0308 - val_accuracy: 0.8472\n",
            "Epoch 188/200\n",
            "469/469 [==============================] - 1s 3ms/step - loss: 0.0315 - accuracy: 0.8374 - val_loss: 0.0307 - val_accuracy: 0.8480\n",
            "Epoch 189/200\n",
            "469/469 [==============================] - 1s 3ms/step - loss: 0.0314 - accuracy: 0.8383 - val_loss: 0.0306 - val_accuracy: 0.8488\n",
            "Epoch 190/200\n",
            "469/469 [==============================] - 2s 3ms/step - loss: 0.0312 - accuracy: 0.8395 - val_loss: 0.0304 - val_accuracy: 0.8504\n",
            "Epoch 191/200\n",
            "469/469 [==============================] - 1s 3ms/step - loss: 0.0311 - accuracy: 0.8410 - val_loss: 0.0303 - val_accuracy: 0.8509\n",
            "Epoch 192/200\n",
            "469/469 [==============================] - 1s 3ms/step - loss: 0.0310 - accuracy: 0.8419 - val_loss: 0.0302 - val_accuracy: 0.8517\n",
            "Epoch 193/200\n",
            "469/469 [==============================] - 2s 4ms/step - loss: 0.0308 - accuracy: 0.8427 - val_loss: 0.0300 - val_accuracy: 0.8527\n",
            "Epoch 194/200\n",
            "469/469 [==============================] - 2s 4ms/step - loss: 0.0307 - accuracy: 0.8435 - val_loss: 0.0299 - val_accuracy: 0.8533\n",
            "Epoch 195/200\n",
            "469/469 [==============================] - 2s 4ms/step - loss: 0.0306 - accuracy: 0.8443 - val_loss: 0.0298 - val_accuracy: 0.8538\n",
            "Epoch 196/200\n",
            "469/469 [==============================] - 1s 3ms/step - loss: 0.0304 - accuracy: 0.8452 - val_loss: 0.0296 - val_accuracy: 0.8540\n",
            "Epoch 197/200\n",
            "469/469 [==============================] - 1s 3ms/step - loss: 0.0303 - accuracy: 0.8460 - val_loss: 0.0295 - val_accuracy: 0.8549\n",
            "Epoch 198/200\n",
            "469/469 [==============================] - 1s 3ms/step - loss: 0.0302 - accuracy: 0.8468 - val_loss: 0.0294 - val_accuracy: 0.8558\n",
            "Epoch 199/200\n",
            "469/469 [==============================] - 1s 3ms/step - loss: 0.0301 - accuracy: 0.8473 - val_loss: 0.0292 - val_accuracy: 0.8566\n",
            "Epoch 200/200\n",
            "469/469 [==============================] - 1s 3ms/step - loss: 0.0299 - accuracy: 0.8483 - val_loss: 0.0291 - val_accuracy: 0.8573\n"
          ]
        }
      ]
    },
    {
      "cell_type": "markdown",
      "metadata": {
        "id": "8AJ6owdTR1UA"
      },
      "source": [
        "#### **Plot learning curves**"
      ]
    },
    {
      "cell_type": "code",
      "metadata": {
        "id": "QF8qu8ByR314",
        "colab": {
          "base_uri": "https://localhost:8080/",
          "height": 944
        },
        "outputId": "c3702b1e-13ce-4ca2-ad78-f114cab11865"
      },
      "source": [
        "# list all data in history\n",
        "print(history.history.keys())\n",
        "\n",
        "# summarize history for accuracy\n",
        "plt.plot(history.history['accuracy'])\n",
        "plt.plot(history.history['val_accuracy'])\n",
        "plt.title('model accuracy')\n",
        "plt.ylabel('accuracy')\n",
        "plt.xlabel('epoch')\n",
        "plt.legend(['train', 'validation'], loc='upper left')\n",
        "plt.show()\n",
        "\n",
        "# summarize history for loss\n",
        "plt.plot(history.history['loss'])\n",
        "plt.plot(history.history['val_loss'])\n",
        "plt.title('model loss')\n",
        "plt.ylabel('loss')\n",
        "plt.xlabel('epoch')\n",
        "plt.legend(['train', 'validation'], loc='upper left')\n",
        "plt.show()"
      ],
      "execution_count": null,
      "outputs": [
        {
          "output_type": "stream",
          "name": "stdout",
          "text": [
            "dict_keys(['loss', 'accuracy', 'val_loss', 'val_accuracy'])\n"
          ]
        },
        {
          "output_type": "display_data",
          "data": {
            "text/plain": [
              "<Figure size 640x480 with 1 Axes>"
            ],
            "image/png": "[encoded data removed]"
          },
          "metadata": {}
        },
        {
          "output_type": "display_data",
          "data": {
            "text/plain": [
              "<Figure size 640x480 with 1 Axes>"
            ],
            "image/png": "[encoded data removed]"
          },
          "metadata": {}
        }
      ]
    },
    {
      "cell_type": "markdown",
      "metadata": {
        "id": "763bQLbzQmw4"
      },
      "source": [
        "#### **Evaluate the model**"
      ]
    },
    {
      "cell_type": "code",
      "metadata": {
        "id": "2siGhXrm-6rb",
        "colab": {
          "base_uri": "https://localhost:8080/"
        },
        "outputId": "9d13a752-abaf-4ea4-9620-575df4332895"
      },
      "source": [
        "model.evaluate(X_validation, y_validation)"
      ],
      "execution_count": null,
      "outputs": [
        {
          "output_type": "stream",
          "name": "stdout",
          "text": [
            "313/313 [==============================] - 1s 2ms/step - loss: 0.0291 - accuracy: 0.8573\n"
          ]
        },
        {
          "output_type": "execute_result",
          "data": {
            "text/plain": [
              "[0.029114609584212303, 0.8572999835014343]"
            ]
          },
          "metadata": {},
          "execution_count": 22
        }
      ]
    },
    {
      "cell_type": "markdown",
      "source": [
        "#### **PART 1 Contd..** - **CONFUSION MATRIX Implementation, and other specific aspects of our model**\n"
      ],
      "metadata": {
        "id": "cFfmkCZ-N1lM"
      }
    },
    {
      "cell_type": "code",
      "source": [
        "# print(y_training[0], y_validation[0])\n",
        "\n",
        "from sklearn.metrics import confusion_matrix\n",
        "\n",
        "# Each prediction array, denotes the entire completion of one forward propagation. And, the size of ech prediction will be equal to the number\n",
        "# of neurons in the output layer. We will be taking the highest value / the highest probility, of them all.\n",
        "populatedHighestProbabilityValue = [] # In this array, we store the \"index position\" of the value that have the highest probability in each prediction array from the total prediction array \n",
        "\n",
        "def fetchIndex(arr, currIdxofPredictionSubArray):\n",
        "  # Below we collect the index value of the max value in the current prediction array\n",
        "  populatedHighestProbabilityValue.append(np.where(arr == np.max(arr))[currIdxofPredictionSubArray][0])\n",
        "\n",
        "predictedValuesFomTheX_ValidationSplit = model.predict(X_validation) \n",
        "currIdxofPredictionSubArray = 0 # Keeps track of the index of the current prediction array of the total prediction array \n",
        "for arr in predictedValuesFomTheX_ValidationSplit:\n",
        "  fetchIndex(arr, currIdxofPredictionSubArray)\n",
        "if currIdxofPredictionSubArray <= len(arr): currIdxofPredictionSubArray = currIdxofPredictionSubArray + 1\n",
        "else: currIdxofPredictionSubArray = 0\n",
        "\n",
        "print(populatedHighestProbabilityValue, end=\"\\n\\n\\n\")\n",
        "\n",
        "cm = confusion_matrix(y_valid, populatedHighestProbabilityValue)\n",
        "\n",
        "# Display the confusion matrix as text\n",
        "print(\"Confusion Matrix:\", end=\"\\n\\n\")\n",
        "print(cm)\n"
      ],
      "metadata": {
        "id": "zAtq58hePWPy",
        "colab": {
          "base_uri": "https://localhost:8080/"
        },
        "outputId": "366a0852-4964-4e80-d9bd-e0d6c418eb33"
      },
      "execution_count": null,
      "outputs": [
        {
          "output_type": "stream",
          "name": "stdout",
          "text": [
            "313/313 [==============================] - 1s 1ms/step\n",
            "[7, 2, 1, 0, 4, 1, 4, 9, 6, 9, 0, 6, 9, 0, 1, 3, 9, 7, 3, 4, 7, 6, 6, 5, 4, 0, 7, 4, 0, 1, 3, 1, 3, 6, 7, 2, 7, 1, 2, 1, 1, 7, 4, 2, 3, 5, 3, 2, 4, 4, 6, 3, 5, 5, 2, 0, 4, 1, 9, 7, 7, 8, 9, 2, 7, 9, 2, 4, 3, 0, 7, 0, 2, 8, 1, 7, 3, 7, 8, 7, 9, 6, 2, 7, 8, 4, 7, 3, 6, 1, 3, 6, 4, 3, 1, 4, 1, 1, 6, 9, 6, 0, 5, 4, 9, 9, 2, 1, 9, 4, 8, 1, 3, 9, 7, 4, 4, 4, 9, 2, 3, 4, 7, 6, 4, 9, 0, 5, 8, 5, 6, 6, 5, 7, 8, 1, 0, 1, 6, 4, 6, 7, 3, 1, 7, 1, 8, 2, 0, 2, 9, 9, 5, 5, 1, 5, 6, 0, 3, 4, 4, 6, 5, 4, 6, 3, 4, 4, 1, 4, 4, 7, 3, 3, 2, 1, 1, 8, 1, 8, 1, 8, 5, 0, 8, 9, 2, 3, 0, 1, 1, 1, 0, 9, 0, 4, 1, 6, 4, 2, 3, 6, 1, 1, 1, 3, 9, 5, 2, 9, 4, 7, 9, 3, 9, 0, 3, 5, 7, 3, 7, 2, 2, 7, 1, 2, 8, 4, 1, 7, 3, 3, 8, 7, 7, 9, 2, 2, 4, 1, 8, 3, 8, 4, 2, 6, 0, 2, 4, 2, 9, 1, 9, 5, 7, 7, 2, 1, 2, 0, 8, 1, 7, 7, 9, 1, 8, 1, 3, 0, 3, 0, 1, 9, 9, 4, 1, 8, 2, 1, 2, 9, 7, 7, 9, 2, 6, 4, 1, 5, 4, 2, 9, 2, 0, 4, 0, 0, 2, 8, 1, 7, 1, 2, 9, 0, 2, 9, 4, 3, 3, 0, 0, 5, 1, 9, 6, 4, 3, 5, 1, 7, 9, 3, 0, 9, 2, 0, 7, 1, 1, 2, 1, 8, 3, 3, 9, 7, 8, 6, 3, 4, 1, 3, 8, 1, 5, 5, 1, 7, 1, 5, 0, 6, 1, 8, 5, 1, 7, 9, 4, 6, 7, 1, 5, 0, 6, 3, 6, 3, 7, 2, 0, 8, 8, 5, 9, 1, 1, 4, 0, 7, 3, 7, 6, 1, 6, 2, 1, 9, 2, 8, 6, 1, 9, 5, 2, 5, 4, 4, 2, 8, 3, 9, 2, 4, 0, 0, 3, 1, 7, 7, 3, 7, 9, 7, 1, 9, 2, 1, 4, 2, 9, 2, 0, 4, 9, 1, 4, 4, 1, 8, 4, 4, 9, 7, 8, 3, 7, 6, 0, 0, 3, 5, 8, 0, 6, 4, 8, 5, 3, 3, 2, 3, 9, 1, 2, 6, 8, 0, 9, 6, 6, 6, 7, 8, 8, 2, 2, 8, 8, 9, 6, 1, 8, 4, 1, 2, 8, 3, 1, 9, 7, 5, 4, 0, 9, 9, 9, 1, 0, 5, 2, 3, 7, 2, 9, 4, 5, 6, 3, 9, 7, 2, 1, 3, 1, 5, 6, 5, 7, 8, 2, 2, 2, 8, 4, 6, 5, 4, 8, 9, 7, 8, 3, 0, 3, 8, 5, 1, 4, 6, 4, 4, 6, 4, 1, 1, 8, 2, 8, 4, 2, 9, 4, 0, 0, 2, 3, 2, 9, 1, 5, 6, 7, 4, 4, 7, 9, 6, 9, 0, 9, 8, 0, 9, 6, 0, 6, 5, 5, 4, 8, 3, 3, 9, 3, 3, 8, 7, 8, 0, 2, 2, 1, 7, 0, 6, 5, 4, 3, 3, 0, 7, 6, 3, 8, 0, 9, 9, 6, 8, 6, 8, 5, 9, 3, 6, 0, 2, 4, 0, 2, 8, 3, 1, 9, 7, 5, 8, 0, 8, 4, 6, 1, 6, 7, 4, 9, 6, 9, 8, 2, 2, 9, 2, 7, 3, 7, 9, 1, 8, 0, 2, 0, 6, 6, 1, 3, 7, 6, 7, 1, 2, 0, 8, 0, 3, 4, 7, 4, 5, 9, 1, 8, 6, 7, 1, 4, 3, 4, 9, 1, 9, 3, 1, 7, 3, 9, 7, 6, 9, 1, 3, 2, 8, 3, 3, 6, 9, 2, 4, 7, 8, 8, 1, 1, 4, 4, 3, 1, 0, 7, 7, 0, 7, 9, 9, 4, 8, 5, 5, 4, 0, 8, 2, 1, 6, 8, 4, 8, 0, 4, 0, 6, 1, 7, 3, 8, 6, 7, 2, 6, 9, 3, 1, 4, 6, 8, 5, 9, 8, 0, 6, 2, 1, 7, 3, 4, 1, 0, 3, 4, 3, 1, 1, 7, 4, 9, 9, 9, 8, 4, 0, 2, 4, 8, 1, 1, 6, 4, 7, 1, 9, 4, 2, 4, 1, 5, 5, 3, 3, 3, 1, 4, 3, 6, 8, 9, 4, 1, 9, 3, 8, 0, 6, 2, 8, 1, 2, 5, 3, 4, 4, 0, 8, 8, 3, 3, 1, 7, 3, 5, 9, 6, 3, 2, 6, 1, 3, 6, 0, 7, 2, 1, 7, 1, 4, 2, 4, 2, 1, 9, 9, 6, 1, 1, 2, 4, 3, 1, 7, 7, 4, 7, 0, 7, 3, 1, 3, 1, 0, 7, 7, 0, 3, 7, 3, 2, 7, 6, 6, 9, 2, 8, 3, 5, 2, 2, 5, 6, 0, 8, 2, 9, 2, 8, 2, 8, 8, 7, 9, 9, 3, 0, 6, 6, 3, 2, 1, 3, 2, 2, 7, 3, 0, 0, 5, 1, 8, 1, 4, 9, 6, 0, 2, 9, 1, 4, 7, 4, 7, 3, 9, 8, 8, 4, 7, 1, 2, 1, 2, 2, 3, 7, 3, 2, 3, 9, 1, 1, 4, 0, 3, 5, 5, 8, 6, 3, 0, 6, 7, 6, 6, 5, 2, 7, 9, 1, 1, 2, 9, 6, 4, 9, 6, 6, 3, 3, 5, 1, 8, 9, 1, 1, 0, 9, 1, 4, 4, 5, 4, 0, 6, 2, 3, 3, 1, 8, 1, 2, 0, 8, 8, 1, 2, 6, 7, 1, 6, 2, 3, 9, 0, 1, 2, 2, 0, 9, 9, 7, 0, 2, 3, 1, 9, 7, 8, 1, 0, 4, 1, 9, 9, 5, 9, 2, 6, 8, 1, 3, 7, 9, 4, 8, 1, 8, 1, 3, 8, 1, 2, 6, 8, 0, 6, 2, 1, 1, 9, 1, 5, 3, 4, 6, 9, 5, 0, 9, 2, 6, 4, 8, 2, 1, 7, 2, 4, 9, 4, 4, 0, 9, 9, 2, 2, 3, 3, 4, 3, 5, 7, 3, 7, 8, 1, 2, 4, 4, 6, 4, 9, 3, 1, 0, 6, 9, 5, 9, 5, 9, 1, 1, 8, 0, 3, 0, 1, 3, 6, 7, 2, 5, 9, 7, 9, 6, 3, 6, 3, 7, 4, 6, 5, 8, 9, 4, 1, 8, 2, 8, 6, 7, 6, 8, 9, 7, 8, 7, 1, 9, 5, 2, 7, 3, 1, 1, 1, 2, 1, 4, 7, 4, 7, 3, 4, 5, 4, 0, 8, 3, 6, 9, 6, 0, 2, 7, 4, 4, 4, 4, 6, 6, 4, 7, 9, 3, 4, 7, 5, 8, 7, 3, 9, 2, 7, 0, 2, 4, 1, 1, 1, 6, 9, 2, 9, 7, 2, 0, 1, 5, 6, 4, 1, 7, 0, 6, 6, 4, 6, 3, 1, 8, 0, 9, 3, 2, 2, 5, 1, 2, 1, 6, 1, 1, 3, 7, 7, 0, 3, 0, 9, 4, 0, 6, 8, 2, 2, 3, 8, 4, 0, 8, 6, 5, 5, 1, 2, 1, 3, 1, 7, 9, 6, 7, 2, 0, 0, 6, 8, 6, 6, 3, 4, 1, 9, 3, 1, 8, 8, 1, 0, 2, 4, 4, 3, 6, 9, 8, 2, 9, 0, 4, 0, 4, 4, 7, 9, 3, 4, 1, 5, 9, 2, 3, 5, 8, 8, 5, 9, 3, 5, 6, 6, 0, 1, 6, 0, 3, 7, 4, 4, 1, 2, 9, 1, 4, 6, 2, 9, 3, 9, 8, 4, 4, 5, 1, 3, 1, 6, 1, 7, 9, 4, 8, 6, 2, 4, 9, 1, 4, 8, 6, 0, 5, 2, 2, 6, 1, 3, 8, 2, 4, 9, 6, 6, 7, 9, 2, 2, 1, 1, 0, 8, 3, 7, 2, 4, 1, 7, 1, 7, 6, 7, 2, 2, 7, 3, 1, 7, 5, 8, 2, 6, 2, 8, 8, 6, 8, 0, 9, 2, 4, 3, 7, 9, 7, 6, 6, 8, 0, 4, 1, 3, 3, 2, 9, 1, 8, 0, 6, 7, 7, 1, 8, 5, 8, 2, 0, 1, 6, 0, 2, 4, 9, 8, 0, 9, 9, 4, 6, 9, 4, 9, 1, 8, 3, 4, 9, 4, 1, 3, 3, 1, 1, 9, 6, 4, 0, 9, 4, 2, 3, 8, 0, 0, 2, 5, 1, 9, 6, 2, 9, 9, 0, 9, 6, 0, 6, 2, 5, 4, 0, 7, 8, 1, 0, 9, 0, 5, 8, 5, 3, 5, 8, 6, 0, 7, 6, 3, 3, 9, 6, 1, 1, 2, 9, 0, 4, 3, 3, 6, 9, 9, 9, 3, 7, 7, 7, 8, 1, 9, 8, 3, 0, 7, 2, 7, 9, 4, 5, 4, 9, 3, 8, 1, 4, 0, 2, 3, 7, 5, 9, 8, 8, 0, 0, 6, 1, 4, 7, 3, 9, 0, 0, 0, 6, 6, 2, 3, 7, 8, 4, 7, 7, 9, 2, 4, 1, 6, 5, 2, 4, 8, 7, 1, 8, 4, 0, 3, 8, 4, 8, 7, 7, 0, 7, 8, 8, 4, 0, 9, 8, 8, 2, 4, 7, 6, 6, 6, 4, 2, 1, 8, 8, 2, 3, 6, 3, 0, 0, 3, 7, 6, 9, 7, 9, 9, 5, 4, 3, 9, 6, 1, 2, 3, 7, 3, 3, 6, 0, 3, 3, 8, 4, 3, 6, 3, 7, 0, 2, 0, 9, 0, 7, 4, 6, 9, 3, 5, 1, 9, 6, 1, 7, 5, 4, 5, 0, 5, 4, 0, 2, 1, 3, 9, 1, 9, 9, 4, 0, 8, 4, 5, 2, 4, 2, 1, 1, 1, 2, 3, 6, 8, 8, 4, 9, 1, 9, 8, 5, 7, 5, 1, 1, 8, 6, 5, 5, 4, 4, 7, 2, 3, 1, 6, 8, 8, 6, 2, 3, 1, 0, 5, 1, 7, 1, 9, 6, 7, 0, 4, 8, 7, 1, 7, 4, 1, 0, 5, 7, 2, 0, 0, 9, 1, 1, 0, 4, 8, 4, 7, 4, 0, 4, 6, 0, 7, 1, 1, 3, 3, 9, 6, 7, 4, 1, 6, 3, 0, 2, 1, 3, 9, 6, 9, 3, 5, 0, 2, 7, 4, 5, 1, 1, 3, 8, 0, 8, 6, 1, 9, 0, 3, 0, 3, 1, 4, 0, 3, 7, 2, 4, 1, 5, 0, 7, 0, 4, 3, 1, 9, 2, 7, 7, 1, 4, 9, 9, 3, 7, 1, 7, 9, 0, 2, 0, 3, 3, 7, 4, 9, 2, 3, 3, 7, 7, 0, 0, 7, 5, 2, 9, 5, 7, 4, 4, 2, 6, 6, 1, 9, 6, 8, 2, 9, 0, 8, 3, 1, 1, 6, 3, 5, 1, 1, 1, 3, 1, 3, 3, 0, 8, 0, 1, 3, 5, 0, 7, 4, 7, 9, 6, 9, 6, 8, 3, 4, 6, 8, 5, 1, 4, 2, 4, 4, 5, 1, 4, 9, 0, 2, 4, 9, 5, 7, 1, 8, 3, 5, 6, 9, 8, 7, 1, 1, 6, 7, 6, 3, 2, 2, 0, 8, 9, 2, 3, 1, 0, 3, 1, 4, 5, 4, 9, 6, 9, 0, 6, 1, 5, 6, 8, 3, 8, 2, 6, 8, 0, 7, 4, 6, 1, 3, 4, 7, 5, 2, 3, 4, 4, 3, 2, 7, 1, 7, 2, 6, 6, 1, 0, 7, 8, 6, 0, 1, 8, 2, 4, 7, 7, 6, 3, 3, 4, 2, 9, 2, 4, 0, 8, 8, 3, 4, 9, 2, 7, 5, 1, 6, 3, 6, 0, 3, 6, 7, 3, 6, 4, 9, 4, 6, 5, 3, 0, 4, 1, 0, 1, 4, 6, 2, 9, 8, 1, 0, 6, 3, 9, 5, 6, 9, 6, 8, 9, 4, 6, 4, 3, 8, 1, 3, 4, 1, 9, 1, 2, 1, 1, 9, 3, 9, 4, 0, 9, 3, 6, 1, 7, 5, 5, 3, 3, 0, 1, 3, 7, 6, 8, 6, 6, 1, 0, 8, 7, 3, 4, 0, 7, 9, 8, 1, 4, 9, 9, 2, 8, 2, 8, 7, 0, 0, 6, 7, 5, 8, 6, 0, 4, 3, 9, 1, 3, 5, 4, 3, 3, 5, 3, 6, 7, 0, 1, 3, 4, 2, 3, 0, 9, 9, 4, 7, 2, 1, 4, 7, 0, 6, 0, 9, 3, 2, 8, 5, 7, 3, 0, 0, 2, 9, 8, 8, 2, 3, 5, 0, 6, 4, 3, 8, 4, 8, 2, 7, 4, 5, 2, 0, 3, 2, 9, 6, 7, 2, 4, 1, 1, 1, 8, 3, 6, 7, 8, 7, 6, 4, 8, 9, 4, 8, 6, 3, 3, 3, 1, 0, 6, 2, 2, 7, 6, 9, 5, 8, 1, 4, 1, 7, 2, 4, 6, 1, 8, 4, 3, 1, 2, 3, 0, 8, 3, 9, 3, 6, 2, 5, 3, 7, 0, 1, 0, 8, 3, 7, 6, 7, 9, 1, 2, 6, 2, 4, 4, 8, 0, 4, 4, 5, 3, 0, 6, 8, 9, 8, 2, 2, 9, 0, 9, 8, 7, 1, 3, 4, 6, 8, 0, 9, 1, 3, 3, 6, 4, 4, 7, 1, 0, 6, 7, 1, 7, 5, 2, 7, 9, 1, 8, 5, 2, 4, 9, 4, 7, 2, 2, 3, 4, 9, 1, 9, 2, 1, 7, 9, 4, 4, 6, 6, 7, 1, 7, 8, 0, 1, 9, 7, 1, 1, 7, 3, 3, 3, 8, 1, 3, 7, 6, 1, 3, 8, 7, 7, 9, 2, 0, 0, 2, 8, 8, 7, 5, 7, 1, 3, 0, 3, 4, 4, 3, 8, 9, 2, 3, 9, 7, 1, 1, 7, 0, 4, 9, 6, 5, 9, 1, 1, 0, 2, 0, 0, 4, 6, 7, 0, 7, 1, 4, 6, 4, 7, 4, 9, 9, 1, 7, 9, 5, 3, 3, 8, 2, 0, 6, 2, 2, 1, 1, 1, 1, 1, 6, 9, 1, 4, 3, 7, 1, 6, 4, 9, 0, 4, 7, 4, 1, 4, 0, 7, 0, 1, 2, 7, 8, 6, 0, 0, 9, 1, 6, 8, 2, 2, 3, 3, 9, 5, 0, 8, 1, 7, 3, 4, 4, 0, 2, 3, 1, 7, 7, 1, 0, 1, 2, 3, 1, 2, 1, 0, 1, 8, 9, 1, 4, 8, 3, 3, 9, 3, 6, 2, 8, 3, 2, 1, 1, 0, 4, 2, 9, 3, 4, 3, 7, 9, 1, 9, 2, 9, 9, 5, 3, 8, 3, 3, 6, 0, 9, 4, 6, 2, 9, 0, 0, 7, 4, 6, 6, 8, 6, 6, 8, 6, 9, 1, 7, 8, 0, 9, 9, 0, 7, 2, 7, 6, 7, 0, 6, 5, 6, 4, 7, 2, 0, 9, 9, 2, 2, 9, 4, 4, 1, 3, 3, 2, 1, 7, 0, 7, 6, 4, 1, 3, 8, 1, 4, 6, 2, 2, 5, 1, 3, 7, 3, 7, 1, 3, 3, 0, 9, 1, 4, 0, 6, 3, 5, 2, 0, 4, 9, 7, 0, 1, 0, 8, 9, 3, 5, 7, 9, 3, 8, 3, 8, 1, 5, 3, 5, 0, 5, 3, 2, 8, 6, 7, 1, 7, 3, 7, 0, 5, 9, 5, 2, 8, 7, 3, 1, 7, 1, 8, 6, 5, 7, 3, 8, 9, 3, 3, 7, 0, 1, 7, 0, 0, 3, 7, 2, 3, 2, 1, 8, 6, 2, 9, 3, 7, 5, 8, 8, 6, 8, 5, 1, 4, 8, 4, 3, 8, 3, 0, 6, 2, 7, 3, 3, 2, 1, 0, 2, 3, 4, 6, 3, 9, 3, 4, 8, 9, 0, 3, 8, 0, 7, 6, 5, 4, 7, 3, 0, 0, 8, 6, 2, 5, 1, 1, 0, 0, 4, 4, 0, 1, 2, 3, 2, 2, 7, 8, 5, 2, 8, 7, 6, 9, 1, 4, 1, 6, 4, 2, 4, 3, 5, 4, 7, 9, 5, 0, 1, 5, 3, 8, 9, 1, 9, 4, 9, 9, 7, 2, 7, 4, 6, 0, 1, 8, 1, 0, 4, 4, 7, 6, 3, 8, 0, 4, 3, 0, 6, 1, 9, 6, 1, 3, 8, 1, 2, 5, 2, 2, 4, 3, 6, 0, 1, 9, 7, 6, 6, 8, 7, 2, 9, 8, 8, 3, 1, 0, 0, 7, 6, 0, 2, 1, 6, 9, 2, 1, 5, 6, 1, 0, 6, 0, 0, 0, 6, 3, 5, 9, 6, 9, 1, 5, 8, 5, 3, 0, 4, 0, 3, 9, 6, 8, 2, 3, 1, 2, 1, 1, 5, 6, 9, 8, 0, 6, 6, 9, 5, 3, 8, 2, 0, 1, 4, 9, 4, 3, 7, 8, 0, 0, 4, 3, 5, 1, 1, 0, 4, 4, 9, 0, 1, 7, 0, 1, 6, 1, 4, 5, 6, 6, 3, 7, 8, 4, 4, 7, 2, 3, 3, 7, 0, 7, 7, 9, 6, 4, 2, 8, 0, 7, 8, 3, 9, 5, 8, 9, 9, 8, 6, 1, 8, 8, 2, 3, 6, 1, 1, 8, 9, 3, 4, 0, 7, 9, 6, 4, 1, 4, 1, 3, 4, 9, 3, 1, 4, 7, 7, 4, 7, 2, 9, 3, 0, 8, 0, 8, 4, 0, 4, 4, 1, 3, 2, 1, 3, 9, 9, 5, 2, 1, 1, 5, 8, 7, 9, 4, 2, 9, 6, 3, 5, 9, 3, 0, 9, 2, 1, 9, 3, 3, 0, 6, 9, 8, 4, 0, 4, 9, 2, 9, 0, 1, 5, 7, 1, 6, 5, 8, 1, 5, 3, 5, 0, 3, 3, 1, 9, 2, 8, 7, 0, 4, 9, 1, 9, 7, 7, 2, 7, 2, 0, 9, 1, 8, 6, 3, 3, 9, 6, 2, 1, 9, 1, 3, 6, 5, 0, 3, 9, 3, 3, 7, 6, 6, 0, 1, 9, 0, 6, 9, 8, 1, 2, 1, 9, 5, 9, 7, 3, 7, 8, 0, 1, 3, 0, 4, 6, 1, 0, 2, 5, 6, 4, 4, 1, 1, 5, 4, 6, 6, 0, 4, 9, 2, 6, 2, 7, 1, 7, 9, 4, 0, 0, 3, 8, 2, 2, 3, 1, 6, 0, 8, 7, 7, 9, 2, 6, 7, 7, 7, 8, 6, 8, 1, 4, 6, 8, 4, 1, 2, 8, 2, 3, 9, 4, 0, 3, 7, 3, 2, 3, 3, 7, 3, 4, 0, 6, 2, 0, 8, 1, 5, 3, 5, 4, 1, 7, 1, 3, 7, 5, 7, 3, 2, 2, 7, 3, 7, 5, 7, 8, 5, 6, 5, 2, 9, 6, 5, 3, 6, 4, 4, 1, 7, 1, 5, 2, 3, 0, 3, 1, 9, 2, 6, 1, 4, 0, 3, 0, 6, 2, 1, 6, 9, 5, 9, 1, 9, 3, 1, 1, 8, 4, 4, 6, 7, 8, 6, 4, 7, 7, 8, 6, 9, 2, 1, 9, 4, 0, 5, 4, 6, 4, 1, 7, 3, 0, 0, 2, 6, 6, 8, 7, 0, 8, 6, 4, 4, 9, 0, 7, 2, 4, 2, 1, 8, 8, 5, 9, 2, 7, 1, 8, 3, 3, 2, 7, 6, 0, 1, 2, 7, 1, 0, 8, 3, 6, 0, 5, 3, 6, 2, 8, 1, 0, 1, 4, 2, 1, 1, 4, 4, 4, 4, 7, 1, 6, 2, 3, 9, 0, 0, 1, 1, 3, 4, 3, 4, 2, 0, 6, 1, 5, 1, 2, 2, 2, 1, 2, 3, 1, 8, 1, 0, 0, 2, 1, 0, 6, 0, 1, 6, 2, 3, 1, 7, 4, 8, 7, 1, 4, 3, 7, 3, 9, 9, 9, 7, 3, 4, 7, 2, 7, 5, 7, 0, 4, 3, 3, 2, 4, 7, 6, 5, 0, 6, 7, 7, 0, 5, 3, 8, 1, 0, 4, 0, 2, 9, 1, 5, 0, 8, 8, 0, 3, 2, 7, 3, 3, 6, 4, 9, 9, 5, 7, 2, 4, 2, 8, 4, 6, 8, 6, 5, 0, 0, 8, 7, 6, 1, 7, 1, 1, 2, 7, 4, 5, 0, 7, 7, 6, 3, 8, 6, 4, 2, 0, 7, 4, 0, 5, 7, 8, 2, 7, 6, 7, 1, 1, 3, 6, 6, 6, 7, 1, 9, 4, 8, 3, 6, 9, 5, 2, 6, 2, 4, 6, 7, 7, 0, 6, 6, 2, 4, 8, 3, 3, 3, 4, 9, 0, 0, 3, 2, 5, 0, 7, 1, 1, 1, 6, 7, 6, 7, 9, 6, 6, 9, 1, 4, 3, 1, 1, 2, 1, 9, 1, 0, 8, 7, 6, 3, 4, 0, 0, 4, 3, 3, 8, 7, 1, 7, 1, 1, 3, 1, 0, 9, 2, 7, 5, 4, 1, 4, 8, 9, 4, 3, 5, 1, 9, 8, 2, 7, 3, 9, 9, 0, 1, 0, 2, 9, 3, 9, 3, 3, 6, 2, 5, 9, 8, 3, 1, 4, 0, 4, 9, 8, 4, 9, 8, 5, 9, 7, 6, 9, 2, 8, 3, 7, 0, 2, 2, 3, 8, 4, 6, 8, 4, 8, 2, 4, 6, 7, 9, 3, 3, 9, 4, 3, 1, 4, 4, 7, 0, 5, 9, 6, 0, 4, 4, 6, 4, 6, 1, 2, 3, 2, 6, 4, 0, 9, 6, 8, 4, 6, 0, 8, 6, 4, 1, 8, 6, 8, 2, 8, 4, 5, 5, 4, 7, 4, 0, 7, 8, 1, 6, 3, 1, 0, 1, 3, 0, 7, 1, 9, 8, 7, 5, 5, 9, 1, 7, 5, 4, 3, 8, 3, 2, 1, 6, 6, 9, 1, 1, 4, 0, 7, 4, 2, 4, 0, 4, 4, 7, 6, 9, 5, 3, 4, 6, 5, 0, 1, 3, 8, 2, 3, 3, 9, 7, 8, 0, 8, 9, 7, 1, 1, 0, 1, 3, 7, 8, 7, 6, 7, 1, 1, 0, 1, 1, 4, 8, 1, 7, 6, 2, 3, 0, 2, 5, 7, 4, 6, 9, 7, 2, 1, 3, 6, 4, 1, 8, 2, 4, 0, 5, 1, 0, 3, 2, 6, 4, 4, 3, 4, 6, 1, 6, 5, 7, 9, 2, 0, 2, 6, 0, 1, 4, 3, 5, 2, 8, 8, 0, 8, 8, 7, 0, 9, 6, 7, 6, 3, 3, 3, 9, 7, 7, 7, 4, 9, 0, 6, 9, 5, 4, 2, 9, 2, 1, 1, 0, 0, 7, 8, 0, 3, 3, 1, 3, 7, 6, 1, 3, 1, 5, 2, 9, 1, 2, 7, 5, 9, 3, 2, 9, 9, 9, 1, 6, 9, 0, 1, 3, 2, 0, 7, 4, 8, 8, 2, 0, 2, 8, 1, 6, 1, 6, 8, 8, 9, 1, 2, 1, 3, 5, 1, 0, 7, 4, 4, 3, 3, 1, 5, 9, 7, 6, 0, 2, 0, 0, 0, 4, 8, 8, 1, 5, 3, 3, 8, 5, 1, 8, 6, 0, 4, 0, 4, 6, 2, 3, 3, 5, 6, 4, 8, 0, 9, 2, 8, 3, 2, 9, 5, 1, 8, 9, 4, 9, 1, 2, 8, 2, 0, 3, 0, 4, 1, 1, 0, 7, 0, 9, 9, 1, 9, 5, 9, 3, 5, 0, 4, 1, 0, 8, 4, 0, 8, 9, 8, 9, 4, 3, 5, 7, 0, 8, 9, 8, 0, 2, 9, 6, 8, 9, 9, 5, 9, 8, 6, 1, 0, 3, 3, 5, 2, 1, 6, 3, 0, 2, 8, 3, 5, 6, 2, 3, 0, 2, 2, 6, 4, 3, 5, 5, 1, 7, 2, 1, 6, 9, 1, 3, 9, 3, 8, 1, 6, 2, 2, 8, 6, 7, 1, 4, 6, 0, 6, 0, 5, 3, 2, 1, 3, 6, 8, 9, 5, 3, 3, 9, 7, 4, 5, 2, 0, 5, 6, 4, 2, 8, 3, 9, 9, 3, 7, 9, 4, 6, 7, 1, 3, 1, 3, 6, 6, 0, 9, 0, 1, 1, 4, 1, 8, 8, 5, 1, 6, 9, 7, 5, 3, 4, 7, 4, 9, 4, 4, 3, 6, 3, 1, 1, 9, 6, 9, 1, 8, 4, 1, 1, 9, 9, 9, 3, 6, 8, 1, 6, 0, 4, 1, 3, 7, 7, 4, 9, 3, 1, 0, 0, 1, 1, 6, 3, 1, 9, 8, 4, 0, 3, 6, 4, 9, 0, 7, 1, 6, 3, 7, 3, 2, 7, 1, 8, 2, 4, 7, 0, 5, 7, 6, 2, 5, 3, 1, 0, 4, 3, 7, 1, 0, 9, 1, 2, 0, 0, 6, 0, 7, 3, 1, 6, 3, 9, 7, 0, 0, 8, 4, 5, 9, 8, 3, 2, 7, 2, 9, 7, 2, 1, 1, 3, 7, 7, 3, 1, 2, 8, 2, 2, 2, 8, 8, 5, 7, 3, 8, 9, 8, 8, 6, 8, 2, 3, 9, 7, 1, 6, 2, 9, 2, 8, 8, 1, 4, 2, 8, 7, 9, 1, 3, 0, 1, 7, 2, 0, 7, 1, 1, 4, 0, 8, 0, 9, 3, 6, 2, 3, 0, 3, 8, 0, 8, 1, 1, 1, 1, 4, 4, 9, 7, 6, 4, 1, 1, 2, 1, 9, 9, 9, 1, 0, 4, 0, 2, 1, 1, 4, 6, 4, 1, 3, 4, 9, 9, 7, 5, 5, 4, 2, 1, 2, 8, 0, 6, 9, 5, 3, 9, 7, 9, 1, 4, 8, 5, 3, 4, 3, 4, 7, 7, 5, 0, 7, 4, 8, 8, 1, 5, 3, 9, 5, 9, 9, 6, 9, 0, 3, 6, 3, 9, 8, 2, 1, 1, 2, 8, 6, 8, 3, 0, 0, 9, 4, 9, 3, 5, 1, 3, 1, 8, 4, 1, 4, 4, 3, 3, 4, 1, 1, 2, 3, 3, 0, 2, 9, 0, 0, 9, 5, 6, 0, 9, 3, 7, 8, 4, 1, 4, 9, 7, 2, 1, 4, 9, 8, 9, 1, 1, 1, 8, 7, 8, 1, 9, 5, 3, 1, 9, 9, 4, 9, 7, 1, 9, 0, 9, 7, 5, 4, 7, 2, 0, 1, 0, 8, 1, 4, 9, 3, 3, 6, 1, 3, 2, 5, 3, 2, 0, 4, 2, 6, 6, 0, 1, 2, 0, 3, 0, 2, 9, 8, 7, 7, 7, 3, 0, 8, 9, 5, 0, 3, 2, 5, 4, 0, 8, 8, 4, 6, 8, 8, 4, 5, 4, 5, 3, 4, 9, 2, 2, 1, 2, 6, 8, 8, 7, 0, 3, 6, 2, 4, 5, 8, 8, 7, 2, 2, 0, 0, 9, 3, 9, 2, 1, 9, 8, 6, 6, 4, 2, 6, 9, 2, 8, 3, 4, 3, 1, 9, 4, 9, 1, 1, 8, 3, 4, 0, 4, 8, 7, 9, 3, 4, 6, 3, 6, 2, 3, 9, 2, 6, 0, 0, 0, 1, 8, 8, 7, 7, 8, 2, 0, 4, 7, 7, 7, 0, 5, 6, 4, 6, 7, 4, 3, 0, 7, 5, 0, 7, 4, 2, 5, 8, 9, 9, 4, 2, 4, 6, 7, 8, 7, 6, 9, 4, 1, 3, 7, 3, 0, 8, 7, 8, 6, 1, 3, 9, 1, 7, 9, 2, 1, 8, 3, 2, 4, 6, 8, 4, 0, 1, 2, 8, 4, 5, 7, 7, 3, 1, 1, 3, 0, 3, 5, 7, 0, 3, 1, 9, 3, 6, 3, 1, 7, 8, 3, 0, 8, 4, 8, 2, 6, 0, 2, 9, 7, 5, 9, 0, 9, 9, 6, 4, 2, 2, 7, 2, 1, 1, 6, 7, 9, 7, 5, 9, 2, 8, 2, 1, 2, 4, 8, 9, 6, 1, 3, 2, 8, 9, 9, 3, 6, 1, 1, 4, 6, 9, 7, 2, 1, 8, 1, 4, 6, 3, 4, 1, 1, 0, 3, 1, 6, 8, 4, 9, 0, 7, 3, 0, 4, 9, 0, 6, 6, 6, 3, 6, 7, 7, 2, 8, 6, 0, 8, 3, 0, 2, 9, 1, 3, 2, 5, 3, 9, 8, 0, 0, 1, 9, 5, 1, 3, 9, 6, 0, 1, 4, 1, 7, 1, 4, 8, 1, 9, 7, 4, 9, 9, 3, 9, 2, 8, 2, 7, 1, 3, 0, 4, 1, 0, 1, 7, 7, 9, 6, 4, 9, 9, 2, 1, 6, 1, 3, 5, 7, 1, 9, 7, 6, 4, 5, 7, 6, 5, 9, 9, 6, 3, 6, 2, 9, 8, 1, 2, 2, 8, 9, 2, 3, 7, 2, 1, 0, 1, 0, 4, 5, 2, 0, 2, 8, 3, 5, 1, 7, 7, 1, 1, 2, 9, 7, 8, 4, 0, 3, 0, 7, 6, 8, 4, 7, 7, 8, 8, 8, 6, 9, 8, 1, 3, 8, 0, 3, 1, 7, 1, 3, 5, 1, 6, 5, 7, 4, 9, 3, 8, 4, 7, 1, 2, 0, 1, 1, 6, 0, 7, 3, 4, 7, 8, 9, 6, 0, 8, 6, 4, 8, 7, 7, 9, 3, 8, 6, 9, 7, 2, 3, 4, 0, 2, 1, 3, 5, 5, 7, 7, 1, 4, 0, 7, 6, 8, 3, 0, 8, 7, 8, 6, 0, 9, 4, 4, 6, 3, 5, 6, 6, 3, 0, 9, 3, 2, 5, 8, 9, 3, 4, 9, 5, 8, 9, 1, 2, 8, 8, 6, 6, 1, 3, 7, 9, 5, 1, 1, 4, 7, 0, 9, 1, 7, 4, 5, 7, 1, 2, 1, 1, 3, 0, 6, 4, 1, 2, 6, 8, 7, 6, 6, 9, 3, 1, 0, 0, 2, 6, 0, 5, 4, 3, 8, 9, 6, 6, 2, 7, 9, 5, 1, 3, 2, 4, 3, 6, 1, 4, 4, 4, 7, 6, 8, 4, 1, 9, 9, 2, 7, 8, 0, 1, 3, 6, 1, 3, 4, 1, 1, 1, 8, 6, 0, 7, 0, 7, 3, 3, 2, 5, 7, 2, 9, 4, 9, 8, 1, 3, 1, 5, 1, 8, 7, 4, 0, 0, 0, 8, 2, 2, 9, 2, 2, 1, 9, 7, 2, 7, 5, 1, 3, 4, 9, 9, 1, 7, 3, 6, 3, 8, 3, 1, 2, 8, 4, 9, 9, 1, 7, 0, 7, 7, 1, 3, 2, 4, 0, 3, 4, 9, 8, 4, 1, 0, 6, 0, 4, 6, 8, 6, 1, 1, 4, 8, 9, 2, 3, 8, 5, 9, 4, 2, 1, 9, 4, 3, 9, 6, 0, 4, 0, 6, 0, 1, 2, 2, 4, 7, 8, 9, 0, 1, 2, 2, 4, 7, 8, 9, 0, 1, 2, 3, 4, 2, 6, 7, 8, 9, 8, 3, 4, 7, 1, 6, 2, 1, 0, 9, 7, 1, 9, 3, 8, 4, 7, 2, 0, 9, 1, 4, 6, 4, 6, 9, 0, 6, 2, 1, 1, 1, 1, 7, 2, 4, 7, 5, 2, 4, 4, 5, 8, 4, 2, 9, 7, 0, 0, 7, 6, 1, 1, 7, 6, 6, 6, 3, 2, 2, 7, 7, 4, 0, 2, 4, 2, 1, 8, 9, 6, 1, 0, 6, 4, 6, 9, 8, 0, 2, 0, 8, 2, 9, 6, 8, 0, 1, 2, 3, 4, 5, 6, 7, 0, 1, 3, 3, 4, 5, 6, 7, 8, 9, 0, 1, 2, 3, 4, 5, 6, 7, 8, 5, 4, 4, 7, 4, 7, 7, 3, 9, 8, 8, 3, 1, 5, 8, 2, 7, 4, 2, 1, 4, 4, 5, 5, 8, 6, 4, 4, 4, 1, 8, 7, 5, 5, 1, 6, 9, 1, 3, 6, 3, 3, 2, 8, 6, 9, 9, 6, 5, 5, 3, 3, 8, 1, 6, 5, 6, 8, 1, 9, 7, 6, 8, 3, 7, 9, 7, 0, 9, 0, 0, 3, 2, 9, 3, 0, 2, 0, 1, 0, 1, 0, 4, 0, 1, 0, 4, 7, 9, 6, 2, 6, 2, 2, 8, 8, 0, 1, 2, 3, 4, 5, 6, 7, 9, 9, 0, 1, 2, 3, 4, 5, 6, 7, 8, 9, 0, 1, 2, 3, 4, 5, 6, 7, 8, 7, 8, 0, 5, 6, 6, 0, 8, 0, 2, 3, 7, 7, 4, 7, 1, 9, 1, 7, 1, 4, 0, 0, 4, 1, 7, 5, 7, 1, 3, 3, 3, 6, 6, 9, 7, 4, 3, 0, 2, 3, 2, 6, 0, 8, 9, 4, 3, 5, 4, 8, 1, 5, 9, 0, 6, 4, 3, 6, 3, 3, 8, 1, 4, 7, 5, 7, 2, 2, 0, 0, 1, 7, 7, 9, 5, 9, 8, 9, 6, 8, 9, 2, 3, 6, 1, 2, 9, 8, 9, 5, 2, 6, 2, 4, 8, 4, 6, 3, 0, 1, 5, 6, 7, 8, 9, 0, 1, 2, 3, 4, 5, 6, 7, 8, 9, 0, 1, 2, 3, 4, 5, 6, 7, 8, 9, 7, 4, 2, 0, 9, 0, 1, 5, 8, 8, 0, 2, 7, 8, 4, 4, 6, 1, 0, 4, 5, 3, 9, 4, 2, 0, 5, 0, 1, 3, 2, 9, 8, 6, 0, 1, 1, 8, 0, 4, 7, 7, 6, 3, 6, 0, 7, 3, 5, 4, 2, 4, 1, 8, 3, 5, 6, 7, 0, 6, 7, 1, 2, 5, 8, 1, 9, 3, 8, 2, 7, 7, 6, 7, 1, 4, 6, 2, 9, 3, 0, 1, 2, 3, 4, 3, 6, 7, 0, 1, 2, 3, 4, 3, 0, 1, 2, 3, 9, 1, 4, 0, 9, 5, 0, 8, 0, 7, 7, 1, 1, 8, 9, 3, 6, 7, 2, 3, 8, 1, 2, 9, 8, 8, 7, 1, 7, 1, 1, 0, 3, 4, 2, 6, 9, 7, 9, 8, 7, 4, 9, 1, 0, 6, 0, 5, 5, 5, 3, 5, 9, 7, 6, 8, 5, 9, 6, 9, 3, 0, 3, 5, 9, 1, 8, 1, 6, 0, 0, 1, 2, 3, 4, 5, 6, 7, 8, 9, 0, 1, 2, 3, 4, 5, 6, 7, 1, 9, 0, 1, 2, 3, 9, 5, 6, 9, 8, 9, 3, 5, 3, 2, 9, 3, 2, 1, 4, 5, 5, 2, 3, 2, 1, 3, 9, 7, 2, 8, 2, 8, 9, 1, 8, 8, 9, 8, 1, 0, 6, 7, 7, 8, 7, 5, 0, 6, 1, 3, 7, 4, 6, 1, 2, 5, 0, 7, 9, 9, 0, 3, 8, 4, 6, 5, 1, 8, 6, 8, 9, 0, 0, 0, 3, 9, 1, 6, 1, 2, 6, 6, 0, 4, 5, 4, 1, 3, 8, 6, 3, 9, 9, 5, 9, 3, 7, 8, 8, 6, 4, 9, 6, 2, 2, 0, 9, 1, 0, 1, 2, 3, 4, 5, 6, 7, 8, 9, 0, 1, 2, 7, 5, 6, 0, 1, 2, 3, 4, 5, 6, 8, 7, 1, 3, 2, 6, 0, 7, 5, 9, 7, 6, 0, 7, 4, 1, 3, 2, 1, 2, 3, 8, 3, 2, 6, 5, 6, 6, 2, 7, 4, 8, 1, 8, 0, 3, 3, 9, 4, 1, 9, 2, 1, 9, 6, 7, 9, 0, 4, 6, 1, 7, 3, 8, 7, 2, 9, 0, 3, 8, 3, 9, 0, 5, 7, 1, 6, 1, 0, 9, 6, 3, 4, 4, 0, 6, 2, 3, 4, 2, 9, 4, 6, 0, 0, 2, 0, 1, 4, 3, 6, 9, 8, 9, 0, 1, 2, 5, 9, 0, 6, 7, 8, 0, 1, 2, 3, 9, 3, 6, 7, 8, 9, 8, 9, 1, 3, 7, 3, 2, 8, 0, 9, 3, 9, 9, 0, 9, 1, 1, 3, 8, 8, 6, 3, 2, 1, 8, 3, 2, 6, 3, 6, 0, 0, 1, 5, 6, 3, 1, 9, 2, 1, 7, 6, 0, 4, 6, 1, 7, 3, 8, 9, 2, 9, 6, 3, 8, 0, 3, 9, 1, 6, 1, 0, 9, 6, 2, 3, 4, 2, 3, 4, 4, 6, 0, 0, 2, 0, 1, 2, 3, 9, 3, 6, 7, 8, 9, 0, 1, 2, 3, 4, 3, 6, 7, 8, 9, 0, 1, 2, 8, 4, 3, 6, 7, 8, 9, 8, 6, 3, 0, 6, 8, 9, 4, 1, 9, 3, 5, 0, 4, 8, 9, 1, 4, 0, 3, 3, 2, 1, 8, 4, 0, 7, 6, 0, 1, 7, 0, 6, 8, 9, 3, 1, 7, 9, 8, 6, 0, 9, 1, 7, 7, 1, 3, 2, 3, 1, 4, 2, 0, 0, 7, 8, 9, 6, 4, 9, 3, 8, 4, 7, 2, 5, 6, 3, 6, 9, 6, 3, 5, 2, 9, 6, 9, 0, 2, 3, 3, 1, 3, 3, 9, 7, 8, 7, 2, 2, 5, 7, 9, 3, 2, 1, 5, 1, 3, 0, 1, 2, 8, 4, 5, 6, 7, 8, 8, 0, 1, 2, 3, 4, 5, 6, 7, 2, 5, 0, 1, 2, 3, 4, 6, 6, 7, 8, 0, 1, 2, 6, 5, 3, 0, 7, 0, 4, 1, 4, 3, 6, 7, 2, 3, 1, 6, 1, 8, 0, 6, 0, 1, 3, 0, 2, 7, 6, 7, 6, 2, 0, 1, 5, 0, 6, 0, 6, 0, 2, 0, 6, 1, 5, 8, 4, 3, 0, 1, 5, 4, 4, 8, 5, 7, 5, 7, 8, 3, 4, 8, 8, 5, 2, 0, 7, 1, 3, 8, 1, 0, 7, 5, 5, 6, 5, 4, 7, 7, 0, 0, 3, 4, 4, 3, 8, 6, 2, 0, 1, 2, 3, 4, 5, 6, 7, 8, 9, 0, 1, 2, 3, 4, 5, 6, 7, 8, 9, 0, 1, 2, 3, 4, 5, 6, 7, 8, 9, 0, 8, 3, 9, 5, 5, 2, 6, 8, 4, 9, 1, 7, 1, 2, 3, 3, 9, 6, 9, 1, 1, 1, 2, 9, 5, 6, 8, 1, 2, 0, 7, 7, 5, 8, 2, 9, 8, 9, 0, 4, 6, 7, 1, 3, 4, 5, 6, 0, 3, 6, 8, 7, 0, 4, 2, 7, 4, 7, 5, 4, 3, 4, 2, 8, 1, 5, 1, 2, 0, 2, 5, 6, 4, 3, 0, 0, 0, 3, 3, 5, 7, 0, 6, 4, 8, 8, 6, 3, 4, 6, 9, 9, 8, 2, 7, 7, 1, 0, 1, 2, 3, 4, 5, 6, 7, 8, 9, 0, 1, 2, 3, 4, 6, 6, 7, 8, 0, 1, 2, 3, 4, 5, 6, 7, 8, 2, 1, 7, 2, 5, 0, 8, 0, 2, 7, 6, 8, 3, 6, 0, 2, 7, 6, 6, 1, 2, 8, 8, 7, 7, 4, 7, 7, 3, 7, 4, 5, 4, 3, 3, 8, 4, 1, 1, 9, 7, 4, 3, 7, 3, 3, 0, 6, 2, 5, 6, 6, 3, 5, 6, 6, 9, 9, 8, 4, 1, 0, 6, 6, 9, 6, 8, 8, 5, 6, 1, 1, 9, 8, 9, 2, 3, 5, 5, 9, 4, 4, 1, 9, 2, 9, 2, 0, 2, 6, 4, 0, 0, 1, 2, 8, 4, 7, 8, 9, 0, 1, 2, 3, 7, 8, 9, 0, 1, 2, 3, 4, 7, 8, 9, 7, 3, 0, 3, 1, 8, 7, 6, 4, 0, 2, 6, 8, 3, 2, 8, 1, 2, 0, 7, 1, 0, 4, 4, 5, 8, 0, 6, 6, 3, 1, 5, 1, 8, 5, 9, 4, 0, 7, 5, 8, 8, 3, 9, 9, 2, 6, 2, 5, 3, 1, 7, 3, 0, 1, 9, 9, 6, 0, 3, 9, 2, 8, 1, 4, 0, 5, 2, 9, 2, 4, 8, 9, 5, 0, 1, 2, 4, 4, 6, 0, 1, 2, 3, 4, 5, 6, 7, 1, 2, 3, 4, 3, 1, 0, 4, 5, 6, 6, 3, 4, 4, 2, 7, 1, 0, 6, 4, 4, 7, 2, 3, 3, 9, 2, 0, 4, 9, 3, 7, 1, 3, 6, 3, 1, 1, 8, 4, 0, 2, 4, 0, 2, 4, 7, 8, 0, 7, 0, 6, 9, 3, 2, 8, 6, 7, 2, 1, 5, 1, 0, 9, 1, 6, 7, 2, 9, 7, 9, 1, 8, 4, 2, 6, 2, 8, 1, 7, 0, 0, 1, 1, 3, 4, 4, 9, 1, 8, 6, 8, 5, 0, 1, 2, 3, 4, 5, 6, 7, 5, 4, 7, 1, 2, 3, 4, 7, 8, 9, 2, 1, 7, 8, 9, 9, 8, 9, 8, 4, 8, 0, 7, 3, 9, 7, 6, 6, 6, 1, 9, 0, 1, 7, 6, 3, 2, 1, 7, 1, 3, 9, 1, 7, 6, 8, 4, 8, 4, 3, 6, 9, 6, 8, 4, 4, 7, 2, 4, 4, 0, 1, 2, 3, 4, 7, 6, 7, 8, 9, 0, 1, 2, 3, 4, 4, 6, 9, 0, 1, 4, 3, 4, 7, 6, 1, 3, 0, 1, 7, 7, 2, 1, 4, 8, 3, 6, 4, 2, 0, 7, 4, 2, 6, 3, 4, 9, 1, 6, 0, 1, 0, 0, 2, 8, 7, 1, 1, 4, 0, 4, 7, 3, 6, 6, 0, 3, 8, 4, 0, 6, 9, 2, 6, 1, 8, 6, 9, 0, 4, 0, 6, 1, 4, 4, 0, 8, 4, 1, 3, 7, 6, 4, 3, 0, 7, 2, 0, 1, 2, 3, 4, 3, 6, 7, 8, 9, 0, 1, 1, 3, 4, 6, 6, 7, 8, 9, 0, 1, 2, 3, 4, 5, 6, 7, 8, 9, 2, 1, 7, 2, 3, 0, 8, 0, 6, 7, 8, 8, 3, 0, 6, 0, 2, 7, 6, 4, 1, 2, 8, 8, 7, 7, 4, 7, 7, 3, 7, 4, 5, 4, 3, 3, 8, 4, 3, 4, 1, 1, 9, 7, 6, 3, 7, 3, 3, 0, 6, 5, 3, 6, 3, 1, 5, 6, 6, 9, 9, 8, 4, 1, 0, 6, 5, 7, 6, 8, 9, 5, 6, 1, 1, 9, 8, 8, 6, 3, 5, 9, 9, 4, 1, 1, 9, 4, 9, 1, 3, 7, 2, 0, 6, 0, 4, 0, 4, 0, 1, 2, 3, 4, 5, 6, 7, 8, 9, 0, 1, 2, 3, 4, 3, 6, 7, 9, 9, 0, 1, 2, 3, 4, 5, 6, 7, 8, 9, 3, 8, 0, 7, 1, 0, 7, 3, 5, 6, 9, 0, 1, 0, 0, 8, 3, 4, 3, 1, 3, 0, 0, 9, 6, 3, 4, 9, 3, 7, 6, 9, 2, 4, 5, 7, 2, 6, 4, 9, 8, 9, 4, 1, 2, 2, 3, 8, 1, 3, 2, 9, 4, 3, 8, 2, 2, 1, 2, 8, 6, 5, 1, 6, 7, 2, 1, 3, 9, 3, 8, 7, 5, 7, 0, 7, 4, 8, 3, 5, 0, 6, 6, 3, 7, 6, 9, 7, 4, 8, 4, 1, 6, 6, 6, 0, 1, 2, 3, 4, 7, 6, 7, 8, 9, 0, 1, 2, 3, 4, 5, 6, 7, 8, 9, 0, 1, 2, 3, 4, 5, 6, 7, 8, 9, 7, 4, 5, 4, 0, 1, 7, 4, 5, 1, 4, 2, 9, 9, 4, 3, 7, 8, 2, 4, 4, 3, 3, 6, 9, 7, 5, 8, 6, 7, 0, 6, 8, 2, 6, 8, 9, 3, 2, 9, 6, 1, 7, 4, 8, 8, 9, 0, 7, 3, 9, 0, 5, 1, 9, 4, 1, 0, 3, 7, 5, 8, 7, 7, 8, 2, 9, 7, 1, 2, 6, 4, 2, 5, 2, 3, 6, 6, 5, 0, 0, 2, 8, 1, 6, 1, 0, 4, 3, 1, 6, 1, 9, 0, 1, 4, 5, 6, 7, 8, 7, 1, 2, 3, 4, 5, 6, 7, 0, 1, 2, 3, 4, 5, 6, 7, 2, 9, 8, 4, 0, 0, 7, 2, 4, 3, 8, 6, 6, 3, 4, 6, 3, 3, 6, 1, 4, 7, 8, 0, 3, 1, 9, 0, 1, 9, 1, 2, 7, 0, 1, 7, 8, 9, 9, 2, 7, 6, 4, 1, 9, 9, 8, 2, 9, 1, 7, 4, 3, 4, 3, 1, 9, 0, 9, 3, 6, 7, 7, 0, 8, 0, 5, 8, 2, 7, 7, 0, 1, 2, 3, 4, 5, 6, 7, 8, 9, 0, 1, 2, 3, 4, 5, 6, 7, 8, 9, 0, 1, 2, 3, 4, 5, 6, 7, 8, 9, 1, 7, 4, 8, 1, 3, 6, 5, 7, 2, 8, 6, 3, 3, 8, 6, 5, 4, 0, 9, 1, 7, 2, 9, 1, 5, 1, 3, 2, 2, 3, 0, 6, 4, 3, 7, 6, 9, 0, 4, 8, 1, 4, 0, 6, 1, 2, 6, 9, 2, 2, 3, 5, 5, 1, 0, 7, 7, 9, 6, 2, 9, 4, 7, 0, 2, 3, 4, 0, 0, 8, 8, 8, 3, 1, 3, 7, 4, 9, 8, 8, 9, 0, 9, 8, 9, 0, 2, 6, 5, 6, 7, 4, 7, 5, 4, 1, 3, 5, 3, 1, 2, 3, 4, 5, 6, 1, 2, 3, 4, 6, 0, 1, 2, 4, 5, 6, 7, 8, 1, 7, 2, 4, 1, 4, 1, 4, 9, 6, 8, 4, 5, 3, 2, 2, 8, 3, 8, 4, 6, 7, 0, 6, 1, 6, 8, 7, 0, 8, 5, 0, 8, 1, 0, 1, 1, 8, 4, 2, 3, 8, 7, 6, 9, 1, 9, 0, 6, 7, 1, 4, 3, 9, 4, 8, 1, 5, 3, 7, 5, 3, 1, 8, 2, 2, 3, 0, 2, 9, 4, 9, 2, 0, 7, 7, 4, 7, 9, 2, 3, 9, 8, 3, 8, 6, 7, 0, 0, 1, 2, 3, 4, 0, 6, 7, 8, 9, 0, 1, 2, 3, 4, 2, 6, 7, 8, 7, 0, 1, 2, 3, 4, 5, 6, 7, 8, 9, 0, 0, 7, 8, 6, 4, 2, 3, 7, 8, 6, 6, 6, 6, 4, 3, 8, 8, 3, 0, 1, 9, 0, 3, 4, 1, 9, 1, 2, 7, 0, 1, 3, 8, 2, 9, 2, 7, 4, 2, 6, 5, 5, 4, 4, 1, 1, 1, 7, 6, 8, 2, 1, 4, 3, 1, 9, 0, 9, 3, 6, 8, 7, 0, 1, 0, 5, 5, 2, 7, 7, 0, 1, 2, 3, 4, 5, 6, 7, 8, 9, 0, 1, 2, 3, 4, 5, 8, 9, 0, 1, 2, 3, 4, 5, 6, 7, 8, 9, 2, 1, 3, 1, 3, 9, 9, 8, 5, 3, 7, 0, 7, 7, 5, 7, 9, 9, 4, 7, 0, 3, 4, 1, 5, 8, 1, 4, 8, 4, 1, 8, 6, 6, 4, 6, 0, 8, 8, 3, 3, 5, 7, 2, 5, 9, 6, 9, 2, 6, 2, 1, 2, 0, 8, 3, 3, 3, 0, 8, 7, 4, 9, 5, 0, 9, 7, 0, 0, 4, 6, 0, 9, 1, 6, 2, 7, 6, 8, 3, 5, 2, 1, 8, 3, 8, 6, 1, 0, 2, 1, 4, 0, 1, 2, 3, 4, 5, 6, 7, 8, 1, 0, 1, 2, 3, 4, 5, 6, 7, 8, 9, 0, 1, 2, 3, 4, 5, 6, 7, 8, 7, 7, 6, 4, 7, 6, 2, 3, 4, 8, 7, 8, 6, 9, 8, 3, 2, 2, 8, 4, 8, 5, 6, 2, 0, 2, 0, 1, 1, 2, 7, 6, 8, 2, 1, 0, 6, 5, 2, 9, 7, 6, 3, 9, 2, 7, 1, 8, 3, 8, 1, 9, 2, 6, 0, 1, 1, 9, 8, 2, 6, 0, 4, 8, 0, 2, 1, 8, 6, 7, 8, 9, 9, 3, 0, 3, 1, 4, 4, 0, 4, 9, 0, 1, 2, 3, 6, 6, 7, 8, 0, 2, 2, 2, 6, 6, 7, 8, 9, 0, 1, 4, 2, 4, 6, 7, 8, 9, 9, 7, 0, 9, 0, 1, 4, 8, 8, 0, 9, 2, 4, 7, 8, 4, 6, 1, 0, 4, 9, 4, 4, 0, 4, 0, 1, 6, 9, 3, 2, 9, 1, 6, 0, 8, 1, 8, 7, 7, 6, 2, 6, 0, 7, 2, 4, 1, 7, 0, 6, 7, 1, 4, 8, 8, 1, 8, 2, 8, 7, 6, 8, 7, 8, 6, 2, 9, 3, 0, 1, 2, 3, 4, 5, 6, 7, 8, 9, 0, 1, 6, 3, 4, 0, 6, 7, 8, 9, 0, 1, 2, 3, 4, 5, 6, 7, 8, 9, 8, 9, 5, 7, 0, 3, 1, 6, 8, 4, 1, 5, 6, 4, 2, 7, 8, 1, 3, 4, 3, 4, 7, 2, 0, 5, 0, 1, 9, 2, 3, 2, 3, 2, 5, 7, 8, 4, 9, 7, 7, 1, 1, 9, 0, 7, 8, 3, 4, 8, 6, 3, 8, 0, 9, 6, 2, 1, 0, 1, 0, 6, 2, 3, 8, 9, 0, 7, 2, 3, 4, 5, 5, 6, 8, 5, 4, 6, 6, 6, 7, 7, 1, 8, 2, 1, 5, 2, 4, 7, 9, 4, 0, 0, 0, 1, 2, 3, 6, 8, 6, 7, 8, 7, 0, 1, 2, 3, 4, 3, 6, 7, 8, 9, 0, 1, 2, 3, 6, 5, 6, 9, 0, 1, 3, 1, 5, 1, 8, 4, 9, 8, 6, 6, 0, 0, 1, 1, 9, 2, 6, 6, 8, 7, 4, 2, 9, 7, 0, 2, 1, 0, 3, 6, 0, 1, 4, 3, 4, 5, 6, 7, 8, 9, 0, 1, 2, 3, 4, 2, 6, 7, 8, 9, 0, 1, 2, 3, 4, 5, 6, 7, 8, 9, 8, 6, 5, 9, 7, 0, 2, 3, 4, 3, 8, 5, 1, 5, 2, 3, 0, 1, 4, 1, 3, 2, 6, 4, 3, 0, 7, 2, 7, 4, 6, 4, 0, 5, 9, 9, 8, 9, 5, 3, 1, 7, 4, 7, 6, 5, 4, 0, 0, 0, 6, 4, 0, 6, 3, 7, 7, 4, 4, 3, 9, 2, 8, 9, 6, 0, 9, 5, 3, 8, 8, 7, 1, 4, 0, 4, 8, 5, 2, 3, 9, 0, 1, 9, 1, 5, 1, 7, 4, 8, 6, 2, 1, 6, 8, 8, 0, 1, 7, 5, 4, 7, 8, 9, 0, 1, 4, 3, 4, 6, 7, 6, 9, 0, 1, 2, 3, 4, 7, 8, 9, 8, 4, 5, 3, 5, 0, 9, 4, 4, 3, 0, 6, 4, 6, 7, 0, 7, 7, 1, 6, 4, 1, 3, 6, 0, 3, 9, 2, 3, 8, 9, 1, 8, 8, 7, 1, 7, 1, 1, 0, 3, 4, 2, 6, 4, 7, 4, 2, 7, 4, 2, 9, 2, 7, 9, 2, 2, 0, 2, 7, 3, 4, 8, 5, 7, 6, 9, 0, 6, 3, 0, 6, 1, 6, 0, 0, 1, 2, 3, 4, 6, 6, 7, 0, 1, 4, 3, 4, 7, 8, 9, 0, 1, 2, 3, 4, 7, 2, 5, 1, 6, 4, 3, 9, 9, 0, 9, 7, 1, 6, 4, 3, 6, 2, 0, 9, 8, 6, 5, 7, 0, 0, 1, 7, 4, 3, 2, 4, 1, 3, 7, 6, 4, 7, 7, 7, 9, 8, 4, 3, 6, 2, 6, 3, 5, 8, 0, 5, 1, 7, 1, 3, 1, 7, 9, 6, 2, 0, 0, 1, 7, 3, 3, 9, 1, 6, 4, 7, 9, 8, 2, 1, 8, 6, 4, 1, 4, 5, 6, 5, 0, 1, 2, 3, 4, 5, 6, 7, 0, 9, 0, 1, 2, 3, 4, 7, 6, 7, 8, 9, 0, 1, 2, 3, 4, 5, 6, 7, 5, 9, 6, 9, 7, 0, 2, 3, 4, 3, 8, 5, 1, 3, 0, 1, 2, 1, 3, 2, 0, 7, 2, 6, 4, 0, 5, 9, 9, 8, 9, 8, 3, 1, 7, 4, 7, 0, 0, 6, 6, 6, 3, 7, 9, 2, 6, 9, 8, 7, 1, 4, 0, 4, 0, 5, 2, 3, 9, 0, 1, 9, 1, 0, 1, 7, 6, 1, 2, 1, 6, 8, 0, 1, 2, 3, 4, 0, 6, 7, 8, 9, 0, 1, 2, 3, 4, 3, 6, 7, 8, 0, 1, 2, 3, 0, 6, 7, 8, 1, 0, 4, 0, 6, 6, 3, 4, 4, 0, 8, 1, 0, 6, 4, 9, 7, 2, 9, 2, 0, 9, 3, 3, 9, 1, 5, 2, 3, 1, 6, 7, 3, 7, 8, 4, 0, 2, 9, 0, 2, 4, 7, 8, 0, 7, 0, 6, 9, 3, 2, 4, 8, 6, 0, 5, 7, 5, 1, 0, 8, 1, 6, 7, 3, 9, 7, 9, 5, 6, 5, 2, 6, 2, 8, 1, 7, 5, 3, 7, 3, 3, 0, 1, 1, 3, 8, 4, 9, 4, 5, 1, 8, 6, 8, 9, 0, 1, 2, 3, 4, 5, 6, 7, 8, 9, 0, 1, 2, 3, 4, 5, 6, 7, 8, 9, 0, 1, 2, 3, 4, 5, 6, 7, 8, 9, 3, 5, 3, 2, 9, 3, 2, 1, 4, 5, 5, 2, 3, 2, 1, 3, 9, 7, 2, 1, 2, 8, 9, 1, 8, 8, 7, 8, 1, 0, 0, 6, 7, 7, 8, 7, 5, 0, 6, 1, 5, 7, 4, 6, 1, 2, 5, 0, 7, 9, 9, 0, 3, 4, 4, 8, 4, 1, 8, 6, 5, 9, 0, 0, 0, 3, 7, 1, 6, 4, 6, 0, 4, 5, 4, 1, 3, 8, 6, 3, 9, 9, 5, 9, 3, 7, 8, 5, 6, 4, 7, 6, 2, 2, 0, 9, 4, 0, 1, 2, 3, 4, 5, 6, 7, 8, 9, 0, 1, 2, 3, 4, 5, 6, 7, 1, 9, 0, 1, 2, 3, 4, 5, 6, 7, 8, 9, 6, 4, 2, 6, 4, 7, 5, 5, 4, 7, 2, 9, 3, 9, 3, 8, 2, 0, 9, 5, 6, 0, 1, 0, 6, 5, 3, 5, 3, 8, 0, 0, 3, 4, 1, 8, 3, 0, 8, 3, 0, 6, 2, 7, 8, 1, 7, 1, 3, 8, 5, 4, 2, 0, 9, 7, 6, 7, 4, 1, 6, 0, 6, 7, 1, 9, 8, 0, 6, 9, 4, 9, 9, 6, 2, 3, 7, 1, 9, 2, 2, 5, 3, 7, 8, 0, 1, 2, 3, 4, 7, 8, 9, 0, 1, 2, 3, 4, 7, 8, 9, 0, 1, 7, 8, 9, 8, 9, 2, 6, 1, 3, 5, 4, 8, 2, 6, 4, 3, 4, 1, 9, 2, 0, 3, 9, 4, 9, 7, 3, 8, 7, 4, 4, 9, 8, 5, 8, 2, 6, 6, 2, 3, 1, 3, 2, 7, 3, 1, 9, 0, 1, 1, 3, 1, 0, 7, 8, 1, 5, 1, 4, 6, 0, 0, 4, 9, 1, 6, 6, 9, 0, 7, 6, 1, 1, 0, 8, 8, 8, 4, 2, 8, 3, 4, 6, 6, 2, 0, 8, 2, 2, 8, 6, 3, 9, 2, 1, 4, 8, 9, 6, 1, 7, 2, 4, 4, 4, 2, 0, 0, 1, 6, 6, 8, 3, 7, 2, 8, 4, 2, 1, 6, 1, 0, 6, 7, 8, 3, 9, 6, 3, 0, 1, 2, 3, 4, 5, 6, 7, 8, 9, 0, 8, 2, 3, 4, 5, 6, 7, 8, 9, 0, 1, 2, 3, 4, 5, 6, 7, 8, 9, 1, 6, 8, 9, 9, 0, 1, 2, 4, 4, 3, 7, 4, 6, 4, 0, 3, 8, 7, 5, 2, 2, 1, 7, 5, 3, 8, 7, 2, 9, 1, 1, 6, 2, 1, 3, 8, 6, 4, 2, 6, 2, 5, 5, 0, 2, 9, 0, 6, 3, 1, 4, 9, 1, 9, 2, 6, 7, 6, 6, 8, 7, 4, 9, 2, 1, 3, 3, 0, 5, 5, 8, 0, 3, 7, 9, 7, 0, 1, 7, 9, 1, 7, 8, 0, 3, 5, 3, 6, 0, 1, 2, 3, 4, 5, 6, 7, 8, 9, 0, 1, 2, 3, 4, 2, 6, 7, 8, 9, 0, 1, 2, 3, 4, 7, 8, 9, 6, 4, 8, 6, 4, 7, 8, 4, 2, 9, 2, 9, 3, 0, 0, 1, 0, 4, 8, 6, 3, 5, 3, 0, 3, 4, 1, 1, 3, 0, 8, 3, 0, 6, 1, 7, 8, 0, 7, 2, 6, 7, 1, 9, 6, 4, 4, 9, 9, 6, 7, 1, 2, 5, 3, 7, 8, 0, 1, 2, 4, 7, 6, 7, 8, 9, 0, 1, 3, 4, 9, 6, 7, 8, 0, 1, 3, 4, 7, 8, 9, 7, 5, 7, 1, 9, 9, 7, 1, 0, 0, 5, 9, 7, 1, 7, 2, 2, 3, 6, 8, 3, 2, 0, 0, 6, 1, 7, 9, 8, 4, 2, 9, 4, 8, 8, 7, 1, 0, 8, 7, 7, 5, 8, 5, 3, 4, 6, 1, 1, 5, 5, 0, 7, 2, 3, 6, 4, 1, 2, 4, 1, 5, 4, 2, 0, 4, 8, 6, 1, 9, 0, 2, 5, 6, 9, 3, 6, 3, 6, 0, 1, 2, 3, 4, 5, 6, 7, 8, 9, 0, 1, 2, 3, 4, 5, 6, 7, 8, 9, 0, 1, 2, 3, 5, 6, 7, 8, 1, 0, 9, 3, 7, 5, 1, 8, 6, 9, 0, 4, 1, 9, 3, 8, 4, 4, 7, 0, 1, 9, 2, 8, 7, 8, 2, 5, 9, 6, 0, 6, 3, 5, 3, 3, 3, 9, 6, 1, 1, 0, 6, 1, 0, 0, 6, 2, 1, 1, 3, 4, 7, 7, 8, 8, 7, 8, 4, 6, 0, 4, 0, 7, 0, 3, 6, 8, 7, 1, 3, 9, 9, 3, 7, 2, 4, 9, 4, 3, 6, 2, 4, 3, 3, 2, 5, 3, 9, 4, 1, 7, 2, 0, 1, 2, 3, 4, 5, 6, 7, 8, 9, 0, 1, 2, 3, 4, 4, 6, 7, 8, 9, 0, 1, 2, 3, 4, 4, 6, 7, 8, 9, 1, 0, 1, 2, 7, 5, 3, 4, 4, 0, 0, 6, 8, 6, 6, 5, 7, 2, 3, 4, 4, 9, 1, 4, 0, 7, 9, 5, 7, 2, 3, 1, 4, 4, 5, 9, 7, 6, 1, 8, 3, 3, 8, 3, 9, 8, 2, 4, 7, 7, 6, 2, 1, 9, 8, 7, 8, 8, 7, 2, 2, 3, 9, 3, 3, 5, 5, 0, 7, 4, 9, 6, 5, 1, 4, 1, 1, 6, 8, 2, 6, 1, 4, 0, 1, 2, 3, 4, 1, 2, 7, 8, 7, 0, 1, 2, 3, 4, 5, 6, 7, 8, 9, 0, 1, 2, 8, 4, 1, 6, 7, 8, 8, 0, 6, 0, 3, 2, 3, 7, 9, 4, 7, 1, 7, 1, 7, 1, 4, 0, 0, 8, 7, 1, 7, 1, 3, 7, 2, 1, 6, 9, 7, 1, 3, 0, 2, 6, 2, 8, 9, 4, 8, 5, 4, 8, 1, 1, 9, 0, 6, 5, 8, 8, 1, 4, 7, 5, 2, 0, 0, 1, 7, 8, 9, 6, 8, 8, 2, 3, 6, 1, 1, 9, 5, 2, 0, 1, 2, 3, 4, 2, 6, 7, 1, 9, 0, 1, 0, 3, 4, 0, 6, 7, 8, 9, 0, 1, 0, 3, 4, 6, 6, 7, 8, 9, 7, 1, 6, 1, 4, 0, 4, 4, 3, 7, 1, 2, 7, 7, 8, 6, 3, 0, 0, 0, 1, 5, 6, 0, 3, 8, 1, 0, 3, 0, 4, 7, 4, 9, 0, 9, 0, 7, 1, 7, 1, 6, 6, 2, 6, 0, 1, 7, 6, 4, 9, 9, 5, 3, 7, 4, 3, 0, 1, 6, 6, 1, 1, 3, 2, 1, 0, 0, 1, 8, 3, 4, 7, 8, 4, 0, 1, 8, 3, 4, 1, 6, 7, 8, 0, 1, 2, 3, 4, 7, 8, 9, 5, 8, 3, 9, 5, 1, 8, 6, 8, 4, 1, 7, 1, 7, 2, 5, 6, 9, 1, 1, 1, 3, 1, 2, 0, 7, 7, 1, 8, 8, 9, 8, 3, 7, 3, 4, 6, 8, 7, 0, 4, 8, 7, 7, 8, 4, 3, 4, 8, 8, 1, 1, 1, 2, 8, 3, 3, 6, 7, 0, 6, 8, 6, 3, 4, 4, 8, 8, 7, 7, 1, 0, 1, 7, 8, 9, 0, 1, 2, 7, 4, 2, 6, 7, 8, 0, 1, 2, 3, 4, 7, 8, 9, 7, 8, 6, 4, 1, 9, 7, 2, 4, 4, 7, 0, 1, 9, 2, 8, 7, 8, 2, 6, 0, 0, 6, 3, 8, 9, 9, 1, 4, 0, 6, 1, 0, 0, 0, 0, 1, 1, 7, 7, 1, 4, 6, 0, 7, 0, 3, 6, 8, 7, 1, 3, 2, 4, 9, 4, 2, 6, 4, 1, 7, 2, 2, 2, 0, 1, 2, 3, 4, 5, 6, 7, 8, 4, 0, 1, 2, 3, 4, 8, 6]\n",
            "\n",
            "\n",
            "Confusion Matrix:\n",
            "\n",
            "[[ 938    0    3    1    0   20   12    2    4    0]\n",
            " [   0 1102    4    4    1    1    4    0   19    0]\n",
            " [  18   31  832   30   28    2   28   20   41    2]\n",
            " [   6    3   25  890    2   25    5   25   20    9]\n",
            " [   1    9    5    0  889    2   19    1    7   49]\n",
            " [  31   29   17  123   31  496   40   36   54   35]\n",
            " [  17    4   17    2   16   11  891    0    0    0]\n",
            " [   4   35   25    2   14    0    0  907    6   35]\n",
            " [  10   21   20   38   11   16   24   14  793   27]\n",
            " [  16   12   13   10   57    8    1   43   14  835]]\n"
          ]
        }
      ]
    },
    {
      "cell_type": "markdown",
      "source": [
        "#### **CONFUSION MATRIX - What exactly is it ??**"
      ],
      "metadata": {
        "id": "IPh2wMtAb00B"
      }
    },
    {
      "cell_type": "markdown",
      "source": [
        "The very ***ESSENCE*** of the word \"**CONFUSION MATRIX**\" is that \"How many prediction that our model made, by getting confused during it's prediction phase\". In other words, how many predictions were \"falsly\" mistaken to be one, but in reality has to be the other. The values in it, denotes, how strong the detection of the model is, with respect to the \"Given **TRUE VALUE**(which is the value that will be segmented from the dataset itself) and the \"**OUTPUT PREDICTED VALUES**\" that we receive from our Input Validation/Test set.\".\n",
        "\n",
        "The \"**PERFECTLY IDENTIFIED**\" values will fall in the \"**DIAGONAL**\" section of the matrix. Which we technically call as \"**TRUE POSITIVES**(Our model has guessed it right! Perfectly)\".\n",
        "\n",
        "The values where the value of the m = row and n = column, are not equal(to be precise, value at m != n), it is the place where our model has made \"**FALSE INTERPRETATIONS**\". Those magnitude of those values, represent the \"count\" of the times our model failed to interpret correctly. Which we call \"**FALSE POSITIVES**(The occurance actualy have to be **NEGATIVE**. But it has falsy interpreted that to be as **POSITIVE**)\" and \"**FALSE NEGATIVES**(The occurance actualy have to be **POSITIVE**. But it has falsy interpreted that to be as **NEGATIVE**)\".\n",
        "\n",
        "The \"**TRUE NEGATIVES**\" is the part where our model predicted that to be \"not the case\", during the \"m != n\" case. That means, if we see a value in a position where m != n, to be \"0\", then that places are called \"**TRUE NEGATIVES**\" "
      ],
      "metadata": {
        "id": "iN8Brv58b-RL"
      }
    },
    {
      "cell_type": "markdown",
      "source": [
        "#### **2. Displaying a 10 cases where the classifier makes mistakes with the falsy predictions**"
      ],
      "metadata": {
        "id": "w-3gs_uqcHll"
      }
    },
    {
      "cell_type": "code",
      "source": [
        "import numpy as np\n",
        "import matplotlib.pyplot as plt\n",
        "\n",
        "# In this cell we fetch all the values of the indices from the pridicted set, and the validation set which doesn't match, at the current position\n",
        "# Ex: predicted_set = [2, 5, 1, 7]\n",
        "# Ex: validation_set = [7, 8, 2, 1]\n",
        "# The values in the index positions doesn't match. That is what we are looking for. We want to take the index of such unmatching values.\n",
        "# Note that those values are again the index positions of the neuron in the outer layer, which in turn represent the digits from our MNIST data.\n",
        "\n",
        "# Assuming you have the predicted labels in y_pred and true labels in y_true\n",
        "\n",
        "# Find the indices where the values in the y_valid split that was given by our MNIST dataset, and the values that we had got from the don't match\n",
        "mistakeIndices = np.where(populatedHighestProbabilityValue != y_valid)[0]\n",
        "# print('mistakeIndices', mistakeIndices)\n",
        "# print('populatedHighestProbabilityValue', populatedHighestProbabilityValue)\n",
        "\n",
        "# Set the number of rows and columns for the grid\n",
        "numRows = 2\n",
        "numCols = 5\n",
        "\n",
        "# Create a figure and axes for the grid layout\n",
        "fig, axes = plt.subplots(numRows, numCols, figsize=(10, 4))\n",
        "\n",
        "# Now, in the below loop, we grab the index positions, from our, mistakeIndices, in each and every iteration of the loop, untill we reach \n",
        "# \"the end of our mistakeIndices array\" and look for the value that is in the same index position for the predicted and true values. \n",
        "# Doing, so, we can get what exactly was in \"that\" index position of the true value and the predicted value. Then finaly we plot those \n",
        "# values, which are the index positions of each neuron in the output layer, which itself represents the responsible digit in the MNIST data. \n",
        "# Once we get those values, we plot them.\n",
        "\n",
        "# So basically we are doing the reverse case of where our model might go wrong, if the entire training process migh have gone wrong.\n",
        "for i, ax in enumerate(axes.flat):\n",
        "    if i < len(mistakeIndices):\n",
        "        index = mistakeIndices[i]\n",
        "        # print('index', index)\n",
        "        predictedLabel = populatedHighestProbabilityValue[index]\n",
        "        # print('predictedLabel', predictedLabel)\n",
        "        trueLabel = y_valid[index]\n",
        "        # print('trueLabel', trueLabel)\n",
        "        image = X_validation[index].reshape(28, 28)  # Reshape the flattened image\n",
        "\n",
        "        ax.imshow(image, cmap='Greys')\n",
        "        ax.set_title(f\"Predicted: {predictedLabel}\\nTrue: {trueLabel}\")\n",
        "        ax.axis('off')\n",
        "    else:\n",
        "        ax.axis('off')\n",
        "\n",
        "plt.tight_layout()\n",
        "plt.show()\n"
      ],
      "metadata": {
        "id": "h2qgIuivcQpQ",
        "colab": {
          "base_uri": "https://localhost:8080/",
          "height": 410
        },
        "outputId": "5c980938-080c-4734-92df-12e40a3d3971"
      },
      "execution_count": null,
      "outputs": [
        {
          "output_type": "display_data",
          "data": {
            "text/plain": [
              "<Figure size 1000x400 with 10 Axes>"
            ],
            "image/png": "[encoded data removed]"
          },
          "metadata": {}
        }
      ]
    },
    {
      "cell_type": "markdown",
      "metadata": {
        "id": "a7O3lpDxUsmT"
      },
      "source": [
        "# **PART 2 - Fashion MNIST**\n",
        "\n",
        "\"***Another popular dataset from MNIST which this time will have piece of clothing or any other attire.***\"\n",
        "\n",
        "\n"
      ]
    },
    {
      "cell_type": "markdown",
      "metadata": {
        "id": "Lmobz-vfUsmu"
      },
      "source": [
        "#### **Load and prepare the data**"
      ]
    },
    {
      "cell_type": "code",
      "source": [
        "# Model / data parameters\n",
        "num_classes = 10"
      ],
      "metadata": {
        "id": "7tiUAea0YgGn"
      },
      "execution_count": null,
      "outputs": []
    },
    {
      "cell_type": "code",
      "source": [
        "# Loading and Spliting Data in Test and Train \n",
        "(X_train, y_train), (X_valid, y_valid) = tf.keras.datasets.fashion_mnist.load_data()\n",
        "assert X_train.shape == (60000, 28, 28)\n",
        "assert X_valid.shape == (10000, 28, 28)\n",
        "assert y_train.shape == (60000,)\n",
        "assert y_valid.shape == (10000,)"
      ],
      "metadata": {
        "id": "9WuYpbzKVb52",
        "colab": {
          "base_uri": "https://localhost:8080/"
        },
        "outputId": "370c049f-ad9d-4710-dad2-660438d3410f"
      },
      "execution_count": null,
      "outputs": [
        {
          "output_type": "stream",
          "name": "stdout",
          "text": [
            "Downloading data from https://storage.googleapis.com/tensorflow/tf-keras-datasets/train-labels-idx1-ubyte.gz\n",
            "29515/29515 [==============================] - 0s 0us/step\n",
            "Downloading data from https://storage.googleapis.com/tensorflow/tf-keras-datasets/train-images-idx3-ubyte.gz\n",
            "26421880/26421880 [==============================] - 0s 0us/step\n",
            "Downloading data from https://storage.googleapis.com/tensorflow/tf-keras-datasets/t10k-labels-idx1-ubyte.gz\n",
            "5148/5148 [==============================] - 0s 0us/step\n",
            "Downloading data from https://storage.googleapis.com/tensorflow/tf-keras-datasets/t10k-images-idx3-ubyte.gz\n",
            "4422102/4422102 [==============================] - 0s 0us/step\n"
          ]
        }
      ]
    },
    {
      "cell_type": "markdown",
      "source": [
        "#### **Defining Classes**"
      ],
      "metadata": {
        "id": "SJLgwT4BVsXJ"
      }
    },
    {
      "cell_type": "code",
      "source": [
        "classes_names = ['T-shirt/top' ,  'Trouser' ,'Pullover' , 'Dress', 'Coat','Sandal','Shirt','Sneaker', 'Bag','Ankle Boot'] "
      ],
      "metadata": {
        "id": "_Vtsr209Vs7I"
      },
      "execution_count": null,
      "outputs": []
    },
    {
      "cell_type": "markdown",
      "source": [
        "#### **Examine Data**"
      ],
      "metadata": {
        "id": "mk5jfFGpUsm4"
      }
    },
    {
      "cell_type": "code",
      "metadata": {
        "id": "bqDnQHxBUsmv",
        "colab": {
          "base_uri": "https://localhost:8080/"
        },
        "outputId": "c86591bc-0f71-45ea-94c1-27924d1795cb"
      },
      "source": [
        "X_train.shape"
      ],
      "execution_count": null,
      "outputs": [
        {
          "output_type": "execute_result",
          "data": {
            "text/plain": [
              "(60000, 28, 28)"
            ]
          },
          "metadata": {},
          "execution_count": 28
        }
      ]
    },
    {
      "cell_type": "code",
      "metadata": {
        "id": "f3-vq-ddUsmw",
        "colab": {
          "base_uri": "https://localhost:8080/"
        },
        "outputId": "e0fe08ff-721b-49ba-fb9b-fa892317cc9f"
      },
      "source": [
        "y_valid.shape"
      ],
      "execution_count": null,
      "outputs": [
        {
          "output_type": "execute_result",
          "data": {
            "text/plain": [
              "(10000,)"
            ]
          },
          "metadata": {},
          "execution_count": 29
        }
      ]
    },
    {
      "cell_type": "code",
      "metadata": {
        "id": "7bm5DzZ5Usmx",
        "colab": {
          "base_uri": "https://localhost:8080/"
        },
        "outputId": "7a383e7a-682f-410c-dbf3-4c8837caf24f"
      },
      "source": [
        "y_train[0:12]\n",
        "\n",
        "# The labels in the Fashion MNIST dataset are represented as numbers. Each clothing category in the dataset is assigned a unique numeric label. \n",
        "# Below is the mapping of the numeric labels to clothing categories:\n",
        "\n",
        "# 0: T-shirt/top\n",
        "# 1: Trouser\n",
        "# 2: Pullover\n",
        "# 3: Dress\n",
        "# 4: Coat\n",
        "# 5: Sandal\n",
        "# 6: Shirt\n",
        "# 7: Sneaker\n",
        "# 8: Bag\n",
        "# 9: Ankle boot\n",
        "\n",
        "# In the output, the array [9, 0, 0, 3, 0, 2, 7, 2, 5, 5, 0, 9] represents the labels for the first 12 examples in the training dataset. \n",
        "# Each number corresponds to a specific clothing category according to the mapping mentioned above."
      ],
      "execution_count": null,
      "outputs": [
        {
          "output_type": "execute_result",
          "data": {
            "text/plain": [
              "array([9, 0, 0, 3, 0, 2, 7, 2, 5, 5, 0, 9], dtype=uint8)"
            ]
          },
          "metadata": {},
          "execution_count": 30
        }
      ]
    },
    {
      "cell_type": "code",
      "metadata": {
        "id": "vBSF0061Usmy",
        "colab": {
          "base_uri": "https://localhost:8080/",
          "height": 447
        },
        "outputId": "d57e92e5-5be1-404a-89d7-c6bcc308ece3"
      },
      "source": [
        "plt.figure(figsize=(5,5))\n",
        "for k in range(12):\n",
        "    plt.subplot(3, 4, k+1)\n",
        "    plt.imshow(X_train[k], cmap='Greys')\n",
        "    plt.axis('off')\n",
        "plt.tight_layout()\n",
        "plt.show()"
      ],
      "execution_count": null,
      "outputs": [
        {
          "output_type": "display_data",
          "data": {
            "text/plain": [
              "<Figure size 500x500 with 12 Axes>"
            ],
            "image/png": "[encoded data removed]"
          },
          "metadata": {}
        }
      ]
    },
    {
      "cell_type": "code",
      "metadata": {
        "id": "4ZFhStimUsmz",
        "colab": {
          "base_uri": "https://localhost:8080/"
        },
        "outputId": "c10364bb-0be0-4a98-cc43-9fcaea9ab9d9"
      },
      "source": [
        "X_valid.shape"
      ],
      "execution_count": null,
      "outputs": [
        {
          "output_type": "execute_result",
          "data": {
            "text/plain": [
              "(10000, 28, 28)"
            ]
          },
          "metadata": {},
          "execution_count": 32
        }
      ]
    },
    {
      "cell_type": "code",
      "metadata": {
        "id": "fkcVKlIdUsm0",
        "colab": {
          "base_uri": "https://localhost:8080/"
        },
        "outputId": "ad219f1d-2b10-4ba5-890a-5d1de059249b"
      },
      "source": [
        "y_valid.shape"
      ],
      "execution_count": null,
      "outputs": [
        {
          "output_type": "execute_result",
          "data": {
            "text/plain": [
              "(10000,)"
            ]
          },
          "metadata": {},
          "execution_count": 33
        }
      ]
    },
    {
      "cell_type": "code",
      "metadata": {
        "id": "Z2pxEjaSUsm0",
        "colab": {
          "base_uri": "https://localhost:8080/"
        },
        "outputId": "3406995d-63d0-432a-9858-db196954dc48"
      },
      "source": [
        "y_valid[0]"
      ],
      "execution_count": null,
      "outputs": [
        {
          "output_type": "execute_result",
          "data": {
            "text/plain": [
              "9"
            ]
          },
          "metadata": {},
          "execution_count": 34
        }
      ]
    },
    {
      "cell_type": "code",
      "metadata": {
        "id": "pBxa15BlUsm1",
        "colab": {
          "base_uri": "https://localhost:8080/",
          "height": 406
        },
        "outputId": "8f296280-b408-4b5b-dc06-6d7f983baa6b"
      },
      "source": [
        "plt.imshow(X_valid[0], cmap='Greys')\n",
        "plt.axis('off')\n",
        "plt.show()\n",
        "\n",
        "# As we can see below, the resolution is way too higher. This will result in lesser accuracy value"
      ],
      "execution_count": null,
      "outputs": [
        {
          "output_type": "display_data",
          "data": {
            "text/plain": [
              "<Figure size 640x480 with 1 Axes>"
            ],
            "image/png": "[encoded data removed]"
          },
          "metadata": {}
        }
      ]
    },
    {
      "cell_type": "markdown",
      "source": [
        "#### **Configuring the Model from here**\n",
        "\n",
        "###### **NOTE: Additional code to demonstrate possible improvements to the model in Part 2, is provided in the same cells which has the current code**\n"
      ],
      "metadata": {
        "id": "0S1JKBzLkHCq"
      }
    },
    {
      "cell_type": "markdown",
      "source": [
        "#### **Training the Model**"
      ],
      "metadata": {
        "id": "0wVjOdUhkETu"
      }
    },
    {
      "cell_type": "code",
      "source": [
        "model = Sequential()\n",
        "model.add(Dense(64, activation='sigmoid', input_shape=(784,))) # So, here we have units=64 which means, there are \"64 Neurons\" in a dense layer, and each neuron will have 784 inputs connected to it.\n",
        "# the comma in the input_shape method is to seperate the (rows, column) structure. Here, we divide everything only to \"rows\". So we don't have columns here\".\n",
        "model.add(Dense(10, activation='softmax'))\n",
        "\n",
        "model.summary()\n",
        "\n",
        "################################################ OPTIMIZED NETWORK #####################################################\n",
        "  \n",
        "# I would use the following network, which include normalization techniques to make the training process more smooth.\n",
        "# Both the Batch Normalization case, and the Non Batch Normaliation case, \"a random batch will be  sent\". But in the case of Batch Normalization,\n",
        "# The sent batch, \"will be normalized\". The only difference in both the case is the \"batch being subjected to normalization\"\n",
        "\n",
        "# model = keras.Sequential([\n",
        "#     layers.BatchNormalization(input_shape=(784,)),\n",
        "#     layers.InputLayer(input_shape),\n",
        "#     layers.Dense(64, activation=\"relu\"),\n",
        "#     layers.BatchNormalization(),\n",
        "#     layers.Dropout(0.3),\n",
        "#     layers.Dense(64, activation=\"relu\"),\n",
        "#     layers.BatchNormalization(),\n",
        "#     layers.Dropout(0.3),\n",
        "#     layers.Dense(10, activation='sigmoid'),\n",
        "# ])\n",
        "\n",
        "\n",
        "################################## DESCRIPTION ON THE PARAMETERS USED ABOVE ######################################\n",
        "\n",
        "# Mini-Batch - Each Layer/Channel will get a random batch, that is the again a randomly selected training data from the entire training data\n",
        "# during the training process\n",
        "\n",
        "# BATCH-NORMALIZATION DURING TRAINING:\n",
        "#   Batch Normalization adjusts the mean and variance performed by subtracting the batch mean and dividing by the batch standard deviation \n",
        "#   of the inputs within a \"mini-batch\", which helps in scaling down the values of the inputs and improving the training process of the network. \n",
        "#   To ensure to not fall into exploding gradient, and the same time also not into vanishing gradient, Batch Normalization is used to maintain \n",
        "#   the correct weighted inputs to get a stable outcome from each neuron in an each layer. So, on a whole, we are protecting the layer from \n",
        "#   behaving abnormaly, through Batch Normalization. \n",
        "\n",
        "# BATCH-NORMALIZATION DURING TESTING:\n",
        "#   The Batch Normalization again takes place in testing phase too, but this time, it does not calculate the mean and standard deviation fro each\n",
        "#   layer. But it \"USES\" the same \"MEAN\" and \"STANDARD DEVIATION\" that it has found in the training phase. Look at the example below:\n",
        "#    during the training phase, the means that we found out using batch normalization for the layers are as below\n",
        "#       1) Layer 1 - 1.34\n",
        "#       2) Layer 2 - 2.34\n",
        "#       3) Layer 3 - 1.07\n",
        "#   The above values are learned by the network, and the same value will be used for the same layers during the testing phase for Batch Normalization.\n",
        "\n",
        "\n",
        "# DROPOUT DURING TRAINING:\n",
        "#   The Dropout whereas, deactivates random fraction/number of neurons in the given layer. By doing so, the network can understand as to which \n",
        "#   set of neurons might be responsible for either vanishing or exploding gradient. Also, The dropout is applied right after the loss \n",
        "#   is calculated, as it is a regulization technique. And we do this only during the \"training\" phase. \"NOT\" during the testing phase.\n",
        "\n",
        "\n",
        "# DROPOUT DURING TESTING:\n",
        "#   Dropout is not applied during the testing phase. During testing, the entire network, including all neurons, is used to make predictions \n",
        "#   on new data. Dropout is a regularization technique that is specifically designed to be applied during the training phase to prevent \n",
        "#   overfitting and improve generalization. Once the training is complete, dropout is typically turned off, and the network is used in its \n",
        "#   entirety for making predictions on unseen data.\n",
        "\n"
      ],
      "metadata": {
        "id": "r265wxucPLZQ",
        "colab": {
          "base_uri": "https://localhost:8080/"
        },
        "outputId": "b2374c28-c571-4924-a38b-40b578b4e845"
      },
      "execution_count": null,
      "outputs": [
        {
          "output_type": "stream",
          "name": "stdout",
          "text": [
            "Model: \"sequential_1\"\n",
            "_________________________________________________________________\n",
            " Layer (type)                Output Shape              Param #   \n",
            "=================================================================\n",
            " dense_2 (Dense)             (None, 64)                50240     \n",
            "                                                                 \n",
            " dense_3 (Dense)             (None, 10)                650       \n",
            "                                                                 \n",
            "=================================================================\n",
            "Total params: 50,890\n",
            "Trainable params: 50,890\n",
            "Non-trainable params: 0\n",
            "_________________________________________________________________\n"
          ]
        }
      ]
    },
    {
      "cell_type": "code",
      "source": [
        "# Here, we add the compiler for our model. The compiler is responsible for performing getting the Gradient value. The gradient is found for \n",
        "# each layer. After this step the weights wil be updated. And the new optimized weights will be assigned. This happens during Back Propogation.\n",
        "\n",
        "model.compile(\n",
        "    loss='mean_squared_error', \n",
        "    optimizer=SGD(learning_rate=0.01), # Stochastic Gradient Descent. The learning_rate, will tell the stepsize of the descent/flow of the gradient descent. \n",
        "    metrics=['accuracy']\n",
        ")\n",
        "\n",
        "################################################ CODE FOR OPTIMIZED COMPILER #####################################################\n",
        "\n",
        "# The below compiler can be used for better accuracy, eventhough the input images have extremely low resolutuion. Only to prove that we have\n",
        "# \"LOW RESOLUTION\" images, which results in lesser accuracy, we are using the \"SAME\" compiler as used for the Number MNIST dataset.\n",
        "\n",
        "# model.compile(\n",
        "#     optimizer='adam',\n",
        "#     loss='binary_crossentropy',\n",
        "#     metrics=['binary_accuracy'],\n",
        "# )"
      ],
      "metadata": {
        "id": "4UXVXHuauwsh"
      },
      "execution_count": null,
      "outputs": []
    },
    {
      "cell_type": "code",
      "source": [
        "# Now, in this cell, we are going to load our dataset which we are going to work on, which in MNIST data in our case, \n",
        "# and normalize the given data, as we have to bring the input labels that we give, down to the numbers that match the Gray scale(0 to 1).\n",
        "from keras.datasets import fashion_mnist\n",
        "\n",
        "(X_train, y_train), (X_valid, y_valid) = fashion_mnist.load_data()\n",
        "\n",
        "# Coverting given data from categorical to binary\n",
        "y_training = keras.utils.to_categorical(y_train, num_classes)\n",
        "y_validation = keras.utils.to_categorical(y_valid, num_classes)\n",
        "\n",
        "# print(y_valid[0], y_validation[0])\n",
        "\n",
        "\n",
        "# Converting the pixels of each images to floating integers to get the samller representation of the actual number of low magnitiude.\n",
        "X_train_reshaped = X_train.reshape(60000, 784).astype('float32')\n",
        "X_valid_reshaped = X_valid.reshape(10000, 784).astype('float32')\n",
        "\n",
        "# The 255 is the brightest colour in the gray scale(measurements taken according to the MNIST Standards). Here we scale thos values to 0 to 1.\n",
        "# We are not changing any value. We are just reducing the shape of them.\n",
        "X_train_scaled_reshaped = X_train_reshaped / 255\n",
        "X_valid_scaled_reshaped = X_valid_reshaped / 255\n",
        "\n",
        "# We rename for better interpretation of the variable that has the data that we feed our model with\n",
        "X_training = X_train_scaled_reshaped\n",
        "X_validation = X_valid_scaled_reshaped\n",
        "\n",
        "print(\"X_training shape (after reshaping + scaling):\", X_training.shape)\n",
        "print(X_training.shape[0], \"train samples\")\n",
        "print(\"X_validation shape (after reshaping + scaling):\", X_validation.shape)\n",
        "print(X_validation.shape[0], \"validation samples\")"
      ],
      "metadata": {
        "colab": {
          "base_uri": "https://localhost:8080/"
        },
        "id": "Wc3n6V6dvGPp",
        "outputId": "8af2f91f-80fa-4c0d-febc-9ff4663be628"
      },
      "execution_count": null,
      "outputs": [
        {
          "output_type": "stream",
          "name": "stdout",
          "text": [
            "X_training shape (after reshaping + scaling): (60000, 784)\n",
            "60000 train samples\n",
            "X_validation shape (after reshaping + scaling): (10000, 784)\n",
            "10000 validation samples\n"
          ]
        }
      ]
    },
    {
      "cell_type": "markdown",
      "source": [
        "#### **Plot learning curves** "
      ],
      "metadata": {
        "id": "4WJQiEh4RXEH"
      }
    },
    {
      "cell_type": "markdown",
      "source": [
        "#### **Train!**\n",
        "In this phase, we are going to fit our data.\n"
      ],
      "metadata": {
        "id": "Ha4SVEvDxHTC"
      }
    },
    {
      "cell_type": "code",
      "source": [
        "batch_size=128\n",
        "epochs=20\n",
        "\n",
        "history = model.fit(\n",
        "  X_training, # training data\n",
        "  y_training, # training targets\n",
        "  epochs=epochs,\n",
        "  batch_size=batch_size,\n",
        "  verbose=1,\n",
        "  validation_data=(X_validation, y_validation)\n",
        ")"
      ],
      "metadata": {
        "colab": {
          "base_uri": "https://localhost:8080/"
        },
        "id": "neCnbqxKxfNW",
        "outputId": "731c4e66-013f-42cb-9d9b-086de7ac4c3f"
      },
      "execution_count": null,
      "outputs": [
        {
          "output_type": "stream",
          "name": "stdout",
          "text": [
            "Epoch 1/20\n",
            "469/469 [==============================] - 2s 3ms/step - loss: 0.0932 - accuracy: 0.1396 - val_loss: 0.0921 - val_accuracy: 0.1579\n",
            "Epoch 2/20\n",
            "469/469 [==============================] - 2s 4ms/step - loss: 0.0914 - accuracy: 0.1592 - val_loss: 0.0908 - val_accuracy: 0.1672\n",
            "Epoch 3/20\n",
            "469/469 [==============================] - 2s 5ms/step - loss: 0.0904 - accuracy: 0.1713 - val_loss: 0.0899 - val_accuracy: 0.1831\n",
            "Epoch 4/20\n",
            "469/469 [==============================] - 2s 3ms/step - loss: 0.0896 - accuracy: 0.1810 - val_loss: 0.0892 - val_accuracy: 0.1900\n",
            "Epoch 5/20\n",
            "469/469 [==============================] - 1s 3ms/step - loss: 0.0889 - accuracy: 0.1998 - val_loss: 0.0885 - val_accuracy: 0.2143\n",
            "Epoch 6/20\n",
            "469/469 [==============================] - 1s 3ms/step - loss: 0.0883 - accuracy: 0.2229 - val_loss: 0.0879 - val_accuracy: 0.2349\n",
            "Epoch 7/20\n",
            "469/469 [==============================] - 1s 3ms/step - loss: 0.0877 - accuracy: 0.2425 - val_loss: 0.0874 - val_accuracy: 0.2613\n",
            "Epoch 8/20\n",
            "469/469 [==============================] - 1s 3ms/step - loss: 0.0871 - accuracy: 0.2713 - val_loss: 0.0868 - val_accuracy: 0.3001\n",
            "Epoch 9/20\n",
            "469/469 [==============================] - 1s 3ms/step - loss: 0.0866 - accuracy: 0.3154 - val_loss: 0.0863 - val_accuracy: 0.3435\n",
            "Epoch 10/20\n",
            "469/469 [==============================] - 2s 4ms/step - loss: 0.0860 - accuracy: 0.3543 - val_loss: 0.0857 - val_accuracy: 0.3787\n",
            "Epoch 11/20\n",
            "469/469 [==============================] - 2s 4ms/step - loss: 0.0854 - accuracy: 0.3860 - val_loss: 0.0851 - val_accuracy: 0.4071\n",
            "Epoch 12/20\n",
            "469/469 [==============================] - 2s 4ms/step - loss: 0.0849 - accuracy: 0.4132 - val_loss: 0.0846 - val_accuracy: 0.4318\n",
            "Epoch 13/20\n",
            "469/469 [==============================] - 1s 3ms/step - loss: 0.0843 - accuracy: 0.4360 - val_loss: 0.0840 - val_accuracy: 0.4497\n",
            "Epoch 14/20\n",
            "469/469 [==============================] - 1s 3ms/step - loss: 0.0837 - accuracy: 0.4515 - val_loss: 0.0834 - val_accuracy: 0.4662\n",
            "Epoch 15/20\n",
            "469/469 [==============================] - 1s 3ms/step - loss: 0.0831 - accuracy: 0.4615 - val_loss: 0.0828 - val_accuracy: 0.4734\n",
            "Epoch 16/20\n",
            "469/469 [==============================] - 1s 3ms/step - loss: 0.0825 - accuracy: 0.4699 - val_loss: 0.0822 - val_accuracy: 0.4818\n",
            "Epoch 17/20\n",
            "469/469 [==============================] - 1s 3ms/step - loss: 0.0819 - accuracy: 0.4758 - val_loss: 0.0816 - val_accuracy: 0.4862\n",
            "Epoch 18/20\n",
            "469/469 [==============================] - 2s 4ms/step - loss: 0.0813 - accuracy: 0.4812 - val_loss: 0.0810 - val_accuracy: 0.4915\n",
            "Epoch 19/20\n",
            "469/469 [==============================] - 2s 4ms/step - loss: 0.0807 - accuracy: 0.4875 - val_loss: 0.0803 - val_accuracy: 0.4960\n",
            "Epoch 20/20\n",
            "469/469 [==============================] - 2s 3ms/step - loss: 0.0800 - accuracy: 0.4911 - val_loss: 0.0797 - val_accuracy: 0.4997\n"
          ]
        }
      ]
    },
    {
      "cell_type": "code",
      "source": [
        "# lists all data in history\n",
        "print(history.history.keys())\n",
        "\n",
        "# summarize history for accuracy\n",
        "plt.plot(history.history['accuracy'])\n",
        "plt.plot(history.history['val_accuracy'])\n",
        "plt.title('model accuracy')\n",
        "plt.ylabel('accuracy')\n",
        "plt.xlabel('epoch')\n",
        "plt.legend(['train', 'validation'], loc='upper left')\n",
        "plt.show()\n",
        "\n",
        "# summarize history for loss\n",
        "plt.plot(history.history['loss'])\n",
        "plt.plot(history.history['val_loss'])\n",
        "plt.title('model loss')\n",
        "plt.ylabel('loss')\n",
        "plt.xlabel('epoch')\n",
        "plt.legend(['train', 'validation'], loc='upper left')\n",
        "plt.show()\n",
        "\n",
        "# As we can see below, there is \"huge overfitting\" result, as we have lower resolution images.\n",
        "\n",
        "\n",
        "################################################ PLOT FOR OPTIMIZED CODE #####################################################\n",
        "\n",
        "# If we were to change the the structure of the Network, and the compiler are mentioned in the previous cells, we get have the below plot to include.\n",
        "\n",
        "# Then the plot would follow the below steps\n",
        "\n",
        "# print(history.history.keys()) # This will give the history of the status of flow of the progress of our model that has happened during\n",
        "# the training process(which talks about loss), and the validation process(which talks about the accuracy) \n",
        "\n",
        "# summarize history for accuracy(drawing the plot of the status as the epochs progress)\n",
        "# plt.plot(history.history['binary_accuracy'])\n",
        "# plt.plot(history.history['val_binary_accuracy'])\n",
        "# plt.title('model binary_accuracy')\n",
        "# plt.ylabel('binary_accuracy')\n",
        "# plt.xlabel('epoch')\n",
        "# plt.legend(['train', 'validation'], loc='upper left')\n",
        "# plt.show()\n",
        "\n",
        "# # summarize history for loss(drawing the plot of the status as the epochs progress)\n",
        "# plt.plot(history.history['loss'])\n",
        "# plt.plot(history.history['val_loss'])\n",
        "# plt.title('model loss')\n",
        "# plt.ylabel('loss')\n",
        "# plt.xlabel('epoch')\n",
        "# plt.legend(['train', 'validation'], loc='upper left')\n",
        "# plt.show()\n"
      ],
      "metadata": {
        "id": "M-TWkVPHRXEl",
        "colab": {
          "base_uri": "https://localhost:8080/",
          "height": 944
        },
        "outputId": "8613fb97-d61e-420e-9890-645c821148b0"
      },
      "execution_count": null,
      "outputs": [
        {
          "output_type": "stream",
          "name": "stdout",
          "text": [
            "dict_keys(['loss', 'accuracy', 'val_loss', 'val_accuracy'])\n"
          ]
        },
        {
          "output_type": "display_data",
          "data": {
            "text/plain": [
              "<Figure size 640x480 with 1 Axes>"
            ],
            "image/png": "[encoded data removed]"
          },
          "metadata": {}
        },
        {
          "output_type": "display_data",
          "data": {
            "text/plain": [
              "<Figure size 640x480 with 1 Axes>"
            ],
            "image/png": "[encoded data removed]"
          },
          "metadata": {}
        }
      ]
    },
    {
      "cell_type": "markdown",
      "source": [
        "#### **CONFUSION MATRIX for this classifier**"
      ],
      "metadata": {
        "id": "CGjUQY-oRXlX"
      }
    },
    {
      "cell_type": "code",
      "source": [
        "# Your confusion matrix code here and in additional code cells as needed\n",
        "\n",
        "from sklearn.metrics import confusion_matrix\n",
        "\n",
        "# Each prediction array, denotes the entire completion of one forward propagation. And, the size of ech prediction will be equal to the number\n",
        "# of neurons in the output layer. We will be taking the highest value / the highest probility, of them all.\n",
        "populatedHighestProbabilityValue = [] # In this array, we store the \"index position\" of the value that have the highest probability in each prediction array from the total prediction array \n",
        "\n",
        "def fetchIndex(arr, currIdxofPredictionSubArray):\n",
        "  # Below we collect the index value of the max value in the current prediction array\n",
        "  populatedHighestProbabilityValue.append(np.where(arr == np.max(arr))[currIdxofPredictionSubArray][0])\n",
        "\n",
        "predictedValuesFomTheX_ValidationSplit = model.predict(X_validation) \n",
        "currIdxofPredictionSubArray = 0 # Keeps track of the index of the current prediction array of the total prediction array \n",
        "for arr in predictedValuesFomTheX_ValidationSplit:\n",
        "  fetchIndex(arr, currIdxofPredictionSubArray)\n",
        "if currIdxofPredictionSubArray <= len(arr): currIdxofPredictionSubArray = currIdxofPredictionSubArray + 1\n",
        "else: currIdxofPredictionSubArray = 0\n",
        "\n",
        "print(populatedHighestProbabilityValue, end=\"\\n\\n\\n\")\n",
        "\n",
        "cm = confusion_matrix(y_valid, populatedHighestProbabilityValue)\n",
        "\n",
        "# Display the confusion matrix as text\n",
        "print(\"Confusion Matrix:\", end=\"\\n\\n\")\n",
        "print(cm)\n"
      ],
      "metadata": {
        "id": "KgLleoqYRXlX",
        "colab": {
          "base_uri": "https://localhost:8080/"
        },
        "outputId": "494dee47-a425-4143-f9cb-7bf77e1d8d83"
      },
      "execution_count": null,
      "outputs": [
        {
          "output_type": "stream",
          "name": "stdout",
          "text": [
            "313/313 [==============================] - 0s 1ms/step\n",
            "[9, 4, 1, 1, 2, 1, 4, 2, 7, 7, 4, 7, 7, 1, 4, 1, 4, 4, 9, 0, 0, 7, 7, 7, 1, 2, 4, 1, 9, 1, 8, 8, 1, 1, 2, 1, 7, 7, 7, 9, 0, 1, 1, 9, 4, 9, 2, 1, 2, 2, 4, 4, 1, 4, 2, 4, 9, 2, 9, 1, 7, 7, 9, 7, 1, 1, 1, 1, 7, 8, 7, 1, 0, 0, 4, 1, 1, 4, 9, 4, 1, 8, 7, 9, 7, 0, 1, 2, 0, 0, 7, 1, 4, 7, 1, 9, 1, 1, 4, 2, 1, 4, 7, 4, 7, 9, 7, 9, 9, 4, 2, 7, 7, 0, 7, 4, 9, 2, 7, 9, 0, 0, 9, 9, 1, 0, 8, 2, 1, 1, 4, 1, 9, 1, 9, 4, 4, 1, 2, 7, 1, 0, 1, 0, 1, 0, 1, 1, 4, 2, 0, 2, 1, 0, 7, 0, 4, 7, 9, 1, 7, 2, 1, 9, 1, 9, 4, 9, 4, 2, 1, 7, 4, 1, 4, 1, 1, 0, 9, 1, 0, 9, 4, 9, 7, 9, 9, 4, 4, 7, 1, 2, 1, 2, 1, 2, 7, 1, 1, 1, 1, 0, 2, 9, 2, 4, 1, 7, 9, 8, 4, 1, 9, 4, 1, 1, 1, 2, 7, 4, 9, 9, 1, 0, 7, 7, 1, 4, 7, 0, 7, 9, 9, 4, 9, 0, 7, 1, 4, 4, 9, 8, 9, 4, 2, 9, 4, 4, 4, 2, 9, 7, 1, 7, 7, 2, 8, 7, 4, 1, 0, 4, 7, 0, 1, 2, 1, 9, 9, 0, 1, 1, 0, 4, 1, 0, 7, 1, 7, 4, 0, 1, 2, 1, 1, 4, 2, 7, 7, 1, 9, 9, 7, 1, 7, 9, 1, 9, 8, 1, 1, 1, 2, 9, 0, 0, 4, 9, 7, 9, 1, 1, 7, 4, 2, 4, 9, 1, 2, 4, 8, 2, 0, 1, 2, 4, 7, 7, 7, 1, 1, 9, 2, 7, 1, 1, 7, 2, 4, 1, 4, 0, 1, 1, 0, 1, 9, 2, 9, 9, 1, 7, 8, 1, 1, 0, 2, 4, 8, 0, 1, 2, 2, 4, 4, 7, 1, 4, 4, 7, 1, 7, 9, 4, 0, 9, 1, 9, 1, 2, 9, 0, 4, 1, 9, 8, 1, 2, 2, 2, 4, 4, 9, 8, 2, 0, 2, 4, 1, 2, 0, 9, 7, 0, 1, 4, 1, 0, 4, 1, 0, 4, 7, 2, 9, 1, 4, 1, 7, 4, 7, 1, 8, 7, 8, 4, 4, 8, 9, 8, 1, 4, 4, 2, 1, 2, 1, 4, 1, 1, 0, 9, 8, 8, 4, 9, 1, 1, 7, 7, 1, 1, 0, 1, 4, 2, 9, 2, 0, 4, 1, 4, 2, 0, 0, 1, 1, 2, 4, 8, 9, 4, 0, 9, 0, 4, 1, 9, 1, 9, 9, 9, 1, 7, 7, 9, 9, 1, 0, 0, 4, 4, 8, 9, 7, 9, 1, 4, 7, 1, 2, 0, 9, 9, 1, 8, 1, 2, 8, 4, 4, 2, 4, 1, 9, 8, 7, 1, 9, 1, 4, 8, 1, 9, 9, 2, 2, 2, 8, 2, 1, 1, 7, 9, 9, 7, 1, 9, 4, 1, 4, 4, 9, 1, 1, 1, 4, 0, 4, 9, 1, 1, 7, 1, 1, 1, 9, 1, 4, 7, 1, 0, 2, 0, 4, 0, 0, 1, 8, 2, 1, 2, 0, 7, 7, 9, 9, 1, 1, 8, 7, 1, 7, 9, 1, 4, 0, 0, 7, 1, 1, 1, 7, 9, 1, 2, 7, 7, 8, 1, 2, 9, 9, 7, 1, 1, 9, 1, 2, 9, 0, 7, 1, 9, 2, 7, 1, 2, 1, 8, 2, 4, 0, 9, 1, 0, 7, 7, 9, 2, 9, 2, 2, 0, 4, 1, 0, 1, 2, 4, 7, 9, 8, 4, 9, 1, 1, 1, 4, 4, 4, 0, 0, 4, 7, 2, 0, 1, 9, 4, 1, 1, 1, 1, 1, 4, 1, 9, 2, 8, 1, 7, 0, 4, 1, 9, 9, 1, 8, 2, 9, 0, 8, 9, 1, 1, 4, 9, 4, 2, 1, 0, 9, 9, 1, 2, 4, 2, 1, 1, 8, 1, 4, 0, 9, 9, 9, 4, 8, 9, 1, 1, 7, 1, 0, 2, 4, 9, 1, 0, 0, 8, 7, 2, 1, 2, 4, 4, 1, 7, 9, 0, 0, 1, 1, 9, 0, 1, 1, 1, 1, 7, 1, 1, 7, 7, 7, 9, 8, 7, 2, 0, 7, 0, 9, 0, 9, 7, 4, 1, 1, 2, 4, 9, 0, 0, 1, 4, 8, 2, 0, 9, 9, 2, 1, 7, 9, 1, 4, 4, 9, 2, 1, 7, 9, 7, 9, 1, 9, 7, 1, 1, 1, 4, 9, 7, 1, 8, 4, 2, 9, 2, 9, 1, 2, 2, 2, 7, 1, 1, 9, 1, 7, 8, 7, 4, 9, 4, 9, 7, 9, 1, 1, 2, 9, 1, 9, 1, 7, 4, 2, 9, 8, 1, 9, 1, 2, 1, 1, 9, 8, 2, 7, 1, 1, 7, 9, 9, 9, 1, 8, 4, 7, 7, 1, 9, 9, 1, 1, 1, 4, 1, 7, 1, 1, 7, 7, 1, 7, 4, 4, 1, 1, 1, 1, 4, 9, 4, 1, 7, 7, 9, 9, 9, 9, 2, 1, 1, 4, 0, 1, 9, 9, 4, 1, 7, 7, 1, 9, 9, 8, 7, 9, 1, 4, 2, 1, 4, 0, 2, 0, 4, 9, 7, 1, 4, 1, 9, 1, 7, 7, 4, 9, 1, 1, 7, 1, 7, 1, 7, 9, 1, 0, 2, 1, 4, 9, 0, 2, 1, 9, 1, 7, 1, 7, 9, 7, 4, 1, 1, 1, 0, 7, 2, 0, 0, 4, 7, 9, 0, 0, 7, 9, 4, 8, 4, 0, 1, 0, 4, 9, 1, 7, 7, 1, 4, 4, 0, 7, 0, 9, 9, 8, 7, 0, 1, 4, 2, 4, 4, 1, 2, 1, 7, 4, 9, 1, 4, 7, 7, 0, 0, 9, 7, 4, 2, 7, 9, 2, 1, 9, 9, 1, 9, 8, 8, 9, 9, 4, 7, 4, 2, 1, 8, 7, 2, 4, 7, 4, 1, 4, 1, 4, 9, 1, 1, 4, 1, 1, 7, 7, 9, 4, 1, 1, 9, 4, 1, 2, 0, 4, 7, 0, 2, 7, 2, 0, 1, 4, 9, 0, 2, 1, 1, 0, 2, 9, 9, 9, 1, 1, 4, 9, 1, 4, 1, 8, 4, 7, 7, 1, 8, 1, 1, 9, 8, 1, 1, 1, 7, 7, 1, 1, 7, 9, 9, 9, 1, 9, 9, 4, 4, 1, 9, 4, 9, 9, 4, 7, 1, 9, 1, 9, 4, 8, 1, 1, 1, 1, 7, 9, 4, 4, 7, 2, 4, 8, 2, 2, 1, 1, 2, 4, 9, 2, 8, 4, 7, 9, 1, 2, 9, 9, 9, 8, 7, 1, 2, 2, 7, 1, 7, 1, 7, 1, 9, 1, 7, 0, 9, 1, 9, 0, 4, 9, 2, 4, 4, 4, 1, 7, 9, 2, 2, 4, 7, 7, 0, 1, 1, 7, 9, 1, 1, 7, 4, 1, 9, 0, 9, 7, 4, 2, 1, 2, 7, 7, 4, 9, 8, 9, 1, 1, 1, 4, 0, 9, 1, 1, 9, 1, 9, 7, 2, 0, 7, 1, 2, 1, 1, 1, 1, 1, 4, 9, 4, 4, 9, 9, 2, 9, 4, 1, 4, 4, 0, 0, 7, 4, 2, 9, 1, 1, 1, 2, 7, 4, 0, 7, 4, 2, 1, 0, 2, 1, 4, 8, 1, 8, 4, 0, 4, 1, 8, 8, 4, 7, 4, 2, 0, 0, 1, 9, 0, 9, 1, 9, 1, 9, 4, 4, 7, 1, 8, 7, 0, 4, 1, 9, 9, 7, 9, 7, 0, 0, 0, 1, 2, 0, 4, 9, 7, 1, 1, 4, 0, 4, 9, 1, 4, 9, 1, 4, 8, 2, 4, 8, 9, 4, 0, 2, 1, 4, 7, 9, 7, 2, 8, 7, 4, 2, 8, 9, 8, 1, 1, 1, 9, 8, 2, 1, 9, 4, 4, 8, 1, 1, 2, 1, 9, 4, 1, 4, 4, 7, 9, 2, 1, 1, 4, 4, 2, 4, 1, 0, 2, 7, 1, 9, 4, 4, 0, 1, 7, 4, 1, 4, 4, 0, 0, 4, 1, 7, 7, 9, 2, 7, 1, 8, 7, 1, 1, 1, 1, 0, 1, 1, 1, 9, 1, 1, 7, 1, 0, 2, 7, 8, 4, 4, 7, 9, 9, 0, 7, 9, 7, 1, 4, 9, 9, 1, 1, 9, 9, 1, 4, 7, 9, 0, 1, 7, 4, 7, 1, 1, 9, 9, 4, 4, 1, 9, 7, 1, 2, 1, 9, 1, 8, 7, 4, 0, 0, 0, 9, 7, 4, 1, 4, 1, 4, 4, 7, 9, 0, 7, 1, 7, 4, 1, 2, 8, 9, 9, 7, 1, 2, 1, 2, 9, 7, 7, 0, 1, 1, 7, 1, 4, 4, 9, 1, 1, 4, 4, 1, 1, 1, 2, 1, 4, 1, 1, 7, 2, 7, 1, 9, 1, 1, 8, 0, 9, 9, 1, 7, 4, 4, 7, 1, 1, 7, 1, 1, 7, 9, 1, 1, 9, 2, 6, 1, 1, 1, 7, 0, 9, 1, 9, 9, 2, 4, 7, 0, 1, 1, 9, 1, 1, 7, 4, 8, 1, 9, 0, 7, 9, 9, 7, 1, 2, 0, 2, 0, 2, 9, 8, 1, 9, 7, 7, 7, 1, 7, 0, 7, 0, 2, 7, 7, 1, 9, 1, 1, 7, 7, 1, 0, 1, 2, 2, 8, 2, 1, 1, 4, 9, 9, 2, 9, 4, 4, 7, 8, 0, 7, 9, 1, 2, 9, 4, 9, 1, 4, 1, 1, 1, 9, 7, 7, 1, 0, 1, 1, 4, 1, 4, 0, 4, 7, 1, 8, 9, 1, 9, 7, 1, 1, 7, 7, 9, 8, 4, 1, 7, 4, 4, 7, 9, 7, 0, 1, 0, 7, 7, 1, 9, 2, 9, 9, 7, 1, 7, 4, 4, 9, 1, 0, 7, 4, 7, 0, 2, 4, 1, 4, 1, 7, 4, 1, 9, 4, 1, 1, 7, 2, 2, 9, 0, 1, 9, 9, 1, 1, 7, 9, 8, 9, 1, 1, 2, 1, 1, 4, 1, 4, 9, 9, 0, 0, 2, 9, 4, 9, 0, 4, 1, 9, 9, 4, 1, 1, 9, 1, 7, 2, 1, 0, 4, 1, 1, 1, 9, 1, 4, 2, 9, 9, 1, 9, 1, 0, 0, 4, 1, 4, 2, 2, 0, 7, 0, 2, 7, 8, 7, 4, 1, 1, 0, 7, 2, 4, 2, 9, 9, 4, 2, 7, 0, 1, 9, 7, 7, 1, 9, 7, 9, 0, 9, 1, 1, 4, 9, 9, 8, 4, 4, 7, 1, 1, 9, 7, 7, 9, 4, 9, 7, 7, 4, 7, 7, 7, 1, 1, 0, 4, 9, 9, 9, 1, 7, 0, 1, 4, 9, 1, 0, 1, 9, 7, 1, 1, 7, 1, 7, 2, 7, 7, 1, 7, 9, 7, 1, 0, 7, 1, 1, 4, 0, 2, 9, 9, 1, 1, 2, 8, 0, 9, 1, 2, 4, 1, 9, 2, 4, 7, 1, 4, 4, 1, 0, 0, 1, 1, 1, 4, 9, 1, 9, 2, 7, 7, 1, 7, 7, 7, 2, 9, 9, 1, 4, 4, 1, 1, 1, 9, 8, 1, 1, 7, 7, 4, 0, 9, 2, 8, 9, 1, 1, 1, 1, 9, 8, 1, 1, 1, 8, 0, 9, 9, 7, 4, 1, 4, 4, 1, 1, 7, 9, 2, 4, 1, 1, 0, 4, 9, 1, 9, 4, 2, 4, 2, 1, 8, 7, 1, 8, 7, 9, 9, 7, 2, 1, 4, 9, 1, 4, 1, 1, 9, 0, 4, 1, 0, 1, 7, 9, 1, 7, 2, 9, 7, 9, 9, 9, 1, 4, 9, 1, 2, 0, 0, 0, 8, 1, 8, 0, 1, 1, 0, 9, 7, 1, 4, 9, 1, 2, 0, 8, 7, 9, 0, 1, 1, 1, 9, 7, 1, 1, 1, 4, 0, 9, 1, 1, 1, 8, 9, 0, 7, 7, 0, 4, 7, 1, 1, 2, 4, 2, 9, 7, 4, 4, 1, 9, 1, 1, 7, 1, 7, 7, 4, 4, 9, 1, 9, 9, 0, 1, 7, 1, 1, 9, 1, 9, 9, 1, 4, 0, 1, 7, 2, 9, 9, 7, 7, 7, 0, 9, 1, 1, 1, 9, 1, 0, 4, 2, 1, 9, 4, 1, 2, 9, 1, 0, 1, 9, 1, 8, 7, 1, 2, 7, 4, 4, 9, 1, 7, 4, 9, 1, 1, 4, 4, 9, 9, 7, 7, 7, 4, 4, 0, 9, 9, 8, 9, 0, 0, 1, 0, 9, 4, 4, 1, 1, 9, 1, 1, 4, 2, 8, 1, 9, 1, 7, 2, 4, 2, 1, 4, 1, 7, 4, 8, 9, 1, 7, 9, 1, 4, 4, 4, 0, 1, 7, 7, 4, 2, 7, 7, 1, 1, 4, 1, 2, 7, 9, 7, 2, 8, 0, 8, 7, 4, 9, 2, 7, 1, 9, 9, 1, 1, 1, 9, 1, 1, 1, 1, 1, 1, 9, 7, 9, 4, 1, 7, 9, 1, 7, 9, 1, 2, 0, 1, 9, 7, 7, 4, 0, 7, 1, 1, 1, 9, 4, 1, 9, 7, 1, 7, 4, 1, 9, 0, 2, 1, 9, 7, 1, 8, 0, 9, 7, 1, 1, 1, 0, 1, 1, 7, 1, 2, 1, 9, 7, 9, 2, 1, 1, 7, 7, 8, 9, 1, 7, 4, 4, 1, 9, 0, 0, 1, 9, 1, 4, 1, 1, 7, 1, 7, 9, 1, 1, 4, 9, 4, 0, 7, 2, 9, 0, 2, 9, 8, 2, 4, 8, 1, 8, 0, 2, 1, 0, 4, 9, 7, 2, 9, 0, 9, 7, 7, 0, 9, 1, 4, 7, 4, 1, 2, 0, 1, 4, 9, 0, 2, 8, 7, 7, 2, 1, 1, 8, 1, 1, 1, 9, 4, 9, 7, 1, 1, 4, 7, 1, 2, 8, 7, 4, 8, 1, 1, 1, 4, 4, 0, 4, 9, 1, 4, 1, 9, 9, 8, 1, 7, 8, 1, 1, 1, 9, 1, 9, 2, 2, 9, 7, 1, 1, 0, 0, 0, 7, 7, 7, 0, 7, 9, 1, 8, 4, 9, 9, 1, 7, 7, 1, 4, 4, 7, 7, 9, 1, 1, 1, 9, 7, 1, 1, 1, 9, 9, 2, 1, 7, 0, 1, 8, 1, 1, 4, 9, 9, 9, 8, 8, 4, 9, 1, 7, 2, 2, 7, 7, 0, 8, 1, 1, 0, 0, 2, 1, 0, 2, 1, 7, 1, 4, 1, 1, 2, 4, 7, 0, 9, 8, 1, 0, 1, 0, 2, 1, 4, 1, 4, 8, 2, 9, 0, 9, 9, 7, 1, 2, 0, 7, 1, 4, 9, 7, 1, 4, 1, 9, 4, 1, 1, 4, 9, 4, 1, 4, 8, 9, 9, 4, 9, 1, 0, 7, 1, 0, 2, 9, 9, 0, 7, 1, 4, 2, 9, 1, 2, 4, 9, 7, 9, 4, 1, 1, 1, 1, 4, 2, 7, 2, 1, 2, 1, 1, 1, 2, 9, 7, 0, 9, 7, 2, 7, 9, 1, 7, 9, 7, 0, 9, 0, 9, 1, 7, 7, 9, 9, 4, 0, 7, 1, 7, 7, 9, 1, 1, 4, 1, 4, 7, 9, 9, 2, 4, 2, 9, 9, 1, 4, 1, 1, 7, 1, 7, 7, 9, 1, 8, 9, 1, 7, 9, 7, 1, 7, 1, 2, 2, 2, 1, 9, 4, 9, 9, 0, 8, 0, 1, 7, 7, 7, 0, 1, 9, 4, 0, 4, 9, 4, 4, 4, 9, 1, 1, 9, 7, 9, 4, 8, 0, 1, 2, 1, 7, 0, 9, 7, 4, 1, 7, 8, 4, 4, 8, 4, 2, 1, 8, 4, 9, 4, 9, 2, 7, 2, 1, 1, 9, 4, 2, 0, 7, 4, 4, 0, 1, 1, 1, 8, 1, 9, 7, 4, 4, 1, 4, 4, 7, 0, 0, 0, 0, 1, 7, 2, 0, 1, 4, 1, 0, 9, 7, 1, 7, 1, 9, 4, 4, 9, 0, 4, 9, 4, 0, 1, 4, 0, 4, 1, 4, 4, 2, 7, 1, 0, 2, 1, 1, 1, 9, 4, 0, 9, 1, 1, 1, 7, 4, 9, 8, 9, 4, 7, 9, 2, 7, 0, 9, 1, 0, 9, 0, 7, 2, 1, 1, 7, 2, 2, 0, 9, 9, 1, 1, 9, 1, 0, 4, 8, 4, 2, 9, 9, 2, 2, 0, 9, 2, 7, 9, 9, 7, 2, 1, 7, 8, 8, 2, 0, 2, 2, 1, 1, 2, 4, 0, 1, 9, 8, 4, 0, 8, 4, 1, 9, 7, 1, 1, 9, 9, 1, 9, 2, 4, 1, 1, 7, 1, 7, 1, 1, 0, 7, 1, 7, 8, 1, 2, 2, 1, 4, 9, 8, 8, 1, 8, 1, 8, 7, 1, 0, 0, 1, 2, 9, 7, 1, 9, 0, 1, 4, 7, 9, 9, 0, 7, 0, 7, 1, 7, 1, 2, 2, 9, 1, 0, 9, 1, 1, 7, 7, 1, 1, 2, 1, 0, 0, 7, 9, 2, 1, 1, 9, 7, 4, 1, 1, 1, 8, 1, 7, 4, 0, 0, 7, 9, 1, 2, 7, 1, 7, 4, 1, 1, 4, 8, 4, 7, 1, 4, 9, 1, 2, 9, 2, 8, 2, 4, 2, 7, 4, 1, 1, 1, 0, 1, 9, 7, 4, 4, 4, 1, 8, 8, 2, 4, 1, 4, 4, 9, 4, 1, 9, 1, 2, 0, 8, 4, 1, 4, 9, 8, 1, 2, 1, 4, 2, 9, 4, 1, 7, 1, 4, 2, 0, 1, 1, 0, 2, 2, 9, 9, 0, 1, 2, 2, 1, 9, 4, 1, 1, 7, 7, 8, 7, 2, 7, 1, 7, 1, 0, 9, 4, 1, 2, 4, 4, 1, 8, 9, 1, 9, 8, 4, 0, 9, 0, 8, 1, 1, 8, 2, 8, 4, 0, 1, 1, 1, 7, 9, 2, 2, 0, 2, 0, 4, 7, 1, 0, 1, 1, 9, 7, 1, 4, 2, 1, 4, 2, 7, 7, 1, 8, 1, 1, 7, 9, 9, 7, 0, 7, 9, 7, 4, 2, 4, 1, 1, 1, 9, 1, 1, 4, 8, 0, 9, 7, 7, 2, 9, 9, 1, 4, 1, 8, 8, 4, 4, 9, 9, 2, 1, 8, 1, 1, 8, 1, 1, 4, 4, 1, 0, 1, 8, 4, 1, 9, 8, 1, 9, 8, 0, 7, 9, 7, 9, 1, 9, 7, 1, 2, 7, 8, 2, 7, 1, 0, 2, 1, 2, 1, 7, 7, 9, 7, 2, 7, 8, 7, 8, 9, 1, 1, 9, 7, 2, 0, 0, 7, 1, 1, 7, 0, 7, 1, 7, 1, 9, 1, 1, 4, 0, 2, 9, 8, 1, 1, 8, 1, 7, 1, 4, 1, 1, 4, 1, 9, 9, 4, 9, 1, 7, 7, 1, 1, 0, 1, 0, 7, 8, 7, 4, 9, 2, 2, 7, 7, 9, 9, 9, 7, 1, 2, 4, 8, 1, 9, 7, 7, 4, 2, 2, 7, 1, 8, 7, 1, 7, 9, 2, 2, 1, 4, 2, 7, 2, 0, 4, 4, 7, 9, 7, 9, 8, 2, 8, 4, 0, 0, 4, 1, 1, 1, 7, 2, 9, 7, 1, 9, 2, 4, 1, 9, 1, 1, 1, 7, 1, 8, 9, 7, 7, 9, 9, 1, 7, 1, 0, 7, 1, 4, 2, 0, 9, 9, 1, 0, 8, 0, 7, 1, 8, 9, 4, 9, 1, 2, 2, 8, 1, 2, 4, 9, 0, 7, 1, 9, 9, 9, 7, 9, 0, 7, 4, 2, 4, 0, 1, 4, 2, 0, 1, 9, 4, 1, 2, 1, 1, 4, 9, 9, 0, 7, 4, 2, 7, 0, 1, 2, 1, 8, 7, 2, 7, 4, 1, 4, 7, 1, 2, 1, 4, 2, 2, 1, 9, 9, 4, 1, 0, 1, 1, 0, 1, 9, 1, 9, 7, 8, 4, 9, 4, 7, 9, 1, 9, 8, 1, 1, 1, 4, 4, 9, 1, 1, 1, 0, 1, 1, 1, 1, 1, 2, 7, 1, 9, 1, 0, 2, 7, 8, 8, 9, 2, 1, 1, 8, 9, 8, 7, 9, 7, 2, 7, 2, 7, 1, 1, 7, 9, 1, 2, 9, 7, 9, 9, 4, 0, 4, 7, 1, 9, 9, 7, 7, 4, 0, 9, 7, 9, 4, 9, 2, 1, 4, 7, 4, 1, 2, 4, 1, 9, 0, 9, 1, 9, 7, 4, 7, 1, 8, 4, 9, 0, 9, 7, 7, 1, 1, 1, 1, 4, 0, 9, 7, 1, 7, 9, 8, 7, 9, 4, 4, 7, 1, 1, 4, 7, 1, 0, 9, 2, 1, 4, 2, 9, 4, 1, 9, 1, 4, 8, 1, 4, 9, 8, 4, 8, 7, 2, 0, 4, 2, 1, 4, 1, 0, 7, 4, 0, 8, 8, 7, 1, 9, 4, 4, 4, 8, 1, 9, 1, 1, 9, 1, 4, 9, 1, 9, 4, 2, 1, 4, 9, 1, 1, 1, 2, 1, 1, 7, 9, 2, 0, 7, 1, 1, 4, 8, 1, 0, 9, 9, 9, 9, 4, 1, 9, 7, 7, 1, 9, 9, 7, 9, 1, 7, 7, 1, 8, 9, 7, 2, 1, 4, 7, 1, 1, 4, 1, 4, 1, 9, 4, 7, 7, 0, 9, 0, 8, 9, 4, 9, 7, 4, 1, 7, 1, 0, 0, 4, 9, 4, 0, 7, 7, 7, 1, 7, 2, 1, 9, 9, 4, 2, 7, 7, 7, 2, 7, 1, 0, 9, 7, 1, 9, 1, 7, 0, 7, 1, 2, 1, 1, 2, 9, 9, 1, 2, 9, 1, 7, 1, 1, 2, 0, 8, 1, 7, 9, 0, 9, 1, 1, 9, 2, 4, 2, 0, 1, 2, 2, 1, 4, 7, 9, 1, 1, 9, 4, 7, 0, 1, 4, 0, 0, 9, 7, 0, 7, 8, 1, 7, 2, 4, 1, 9, 9, 7, 4, 9, 9, 1, 7, 2, 4, 1, 9, 7, 8, 1, 1, 9, 1, 4, 9, 8, 4, 9, 9, 9, 9, 9, 7, 0, 9, 4, 0, 4, 0, 9, 9, 1, 9, 1, 8, 1, 0, 0, 4, 1, 9, 1, 1, 7, 1, 7, 7, 9, 1, 9, 1, 9, 9, 9, 1, 1, 9, 1, 1, 4, 2, 2, 9, 4, 7, 1, 9, 2, 2, 2, 4, 8, 9, 7, 7, 1, 9, 1, 9, 0, 9, 2, 0, 9, 0, 1, 2, 7, 9, 0, 4, 4, 4, 1, 1, 1, 4, 7, 7, 8, 9, 7, 1, 9, 7, 1, 4, 0, 4, 0, 1, 4, 8, 8, 9, 0, 2, 1, 4, 8, 2, 1, 4, 1, 1, 2, 1, 4, 1, 9, 0, 0, 2, 1, 1, 2, 7, 0, 4, 7, 9, 9, 1, 7, 0, 9, 9, 8, 4, 9, 1, 4, 0, 9, 4, 4, 4, 1, 8, 1, 1, 4, 9, 9, 4, 7, 1, 7, 8, 8, 2, 2, 1, 8, 0, 1, 7, 7, 9, 8, 7, 2, 1, 1, 1, 1, 0, 9, 1, 9, 9, 1, 7, 9, 1, 1, 7, 1, 1, 1, 7, 1, 8, 9, 4, 1, 7, 1, 9, 0, 2, 1, 7, 1, 7, 9, 4, 1, 9, 2, 2, 9, 1, 7, 9, 8, 4, 4, 7, 9, 1, 4, 1, 7, 7, 1, 8, 1, 7, 4, 8, 9, 2, 9, 1, 1, 1, 4, 7, 9, 1, 9, 0, 1, 1, 2, 1, 7, 7, 1, 4, 0, 9, 1, 9, 1, 7, 1, 9, 0, 1, 1, 0, 2, 9, 1, 1, 8, 8, 1, 1, 4, 8, 1, 2, 1, 1, 2, 2, 1, 8, 1, 4, 4, 4, 1, 1, 1, 7, 4, 1, 0, 4, 7, 7, 1, 2, 1, 2, 0, 2, 8, 9, 1, 2, 7, 2, 8, 1, 7, 1, 4, 4, 9, 4, 4, 1, 7, 0, 1, 7, 8, 7, 7, 7, 2, 7, 9, 1, 8, 2, 0, 4, 4, 9, 9, 1, 8, 0, 4, 2, 1, 1, 9, 1, 0, 0, 9, 9, 1, 0, 1, 7, 1, 9, 7, 7, 4, 0, 9, 9, 1, 4, 0, 1, 4, 4, 7, 1, 1, 4, 7, 1, 4, 9, 1, 4, 0, 0, 1, 0, 7, 2, 4, 1, 7, 1, 0, 7, 9, 9, 1, 7, 9, 9, 1, 4, 0, 1, 2, 8, 1, 7, 9, 8, 0, 4, 4, 7, 2, 9, 8, 0, 8, 7, 9, 4, 4, 7, 1, 7, 7, 9, 9, 4, 4, 4, 0, 0, 0, 8, 7, 0, 2, 7, 7, 2, 9, 0, 1, 4, 4, 8, 4, 0, 4, 9, 1, 7, 4, 0, 4, 8, 1, 1, 4, 0, 4, 7, 7, 8, 1, 7, 0, 9, 9, 0, 4, 1, 4, 7, 1, 1, 4, 9, 4, 4, 9, 9, 1, 1, 1, 1, 2, 8, 0, 1, 1, 4, 4, 1, 2, 1, 4, 7, 4, 1, 4, 0, 2, 9, 4, 1, 1, 4, 4, 2, 1, 9, 9, 4, 4, 1, 1, 1, 9, 7, 4, 2, 0, 1, 1, 9, 4, 1, 1, 7, 9, 1, 9, 7, 4, 1, 9, 9, 0, 9, 0, 4, 1, 1, 2, 1, 8, 1, 4, 2, 1, 8, 1, 1, 0, 8, 9, 1, 7, 0, 4, 0, 1, 9, 8, 4, 1, 1, 0, 2, 4, 2, 2, 1, 9, 7, 0, 4, 2, 0, 7, 2, 2, 1, 8, 2, 8, 4, 9, 2, 4, 9, 7, 2, 7, 1, 4, 1, 1, 1, 4, 8, 7, 2, 1, 7, 2, 7, 4, 9, 1, 1, 1, 2, 4, 2, 7, 7, 9, 0, 4, 9, 2, 1, 7, 8, 7, 9, 0, 7, 1, 0, 7, 7, 2, 9, 7, 4, 2, 2, 1, 8, 0, 1, 9, 9, 1, 9, 4, 8, 1, 9, 0, 9, 4, 1, 1, 8, 1, 1, 8, 7, 1, 1, 1, 2, 8, 8, 9, 1, 1, 1, 1, 4, 7, 1, 1, 2, 9, 1, 9, 4, 9, 0, 4, 2, 7, 7, 0, 8, 1, 7, 7, 4, 9, 7, 7, 1, 2, 0, 9, 9, 9, 1, 7, 7, 2, 9, 7, 8, 9, 4, 4, 9, 2, 1, 1, 9, 7, 1, 1, 4, 2, 9, 7, 1, 4, 4, 1, 0, 7, 9, 4, 7, 4, 7, 9, 2, 9, 9, 0, 4, 1, 1, 7, 7, 9, 4, 8, 1, 7, 7, 9, 7, 9, 8, 1, 1, 1, 4, 2, 2, 9, 1, 4, 4, 4, 8, 7, 7, 4, 9, 0, 2, 9, 4, 8, 1, 1, 2, 1, 1, 1, 1, 8, 4, 9, 9, 0, 7, 9, 7, 1, 1, 7, 4, 8, 4, 9, 1, 1, 1, 0, 7, 8, 1, 9, 1, 0, 8, 1, 8, 4, 2, 1, 2, 9, 1, 1, 4, 0, 7, 9, 0, 1, 1, 9, 7, 1, 4, 1, 1, 1, 8, 1, 9, 9, 4, 4, 1, 7, 7, 7, 2, 1, 9, 1, 9, 4, 4, 0, 7, 2, 4, 9, 9, 0, 0, 2, 9, 0, 4, 0, 4, 7, 9, 2, 1, 1, 2, 0, 8, 9, 7, 4, 2, 7, 7, 7, 2, 1, 9, 1, 4, 9, 8, 9, 1, 1, 1, 4, 0, 1, 0, 4, 0, 1, 7, 7, 1, 2, 2, 9, 1, 4, 1, 7, 4, 7, 0, 4, 9, 7, 1, 2, 9, 9, 1, 1, 4, 9, 1, 9, 8, 2, 1, 8, 4, 7, 1, 4, 1, 9, 2, 9, 1, 4, 2, 9, 1, 1, 7, 8, 8, 1, 0, 4, 9, 0, 9, 9, 1, 1, 0, 6, 7, 4, 8, 1, 8, 0, 2, 9, 9, 1, 7, 1, 2, 4, 7, 1, 1, 1, 1, 9, 4, 0, 4, 1, 9, 9, 1, 7, 7, 7, 7, 9, 1, 8, 4, 8, 0, 2, 4, 2, 1, 1, 4, 2, 8, 2, 9, 0, 7, 8, 1, 1, 2, 1, 4, 1, 8, 1, 1, 9, 1, 4, 9, 7, 4, 1, 4, 0, 8, 9, 2, 1, 4, 7, 9, 9, 9, 1, 4, 9, 4, 7, 1, 1, 2, 1, 9, 4, 1, 1, 1, 9, 7, 8, 2, 1, 7, 1, 0, 4, 9, 8, 1, 9, 0, 7, 7, 1, 0, 9, 7, 1, 4, 4, 7, 1, 1, 0, 1, 1, 0, 1, 4, 9, 7, 7, 1, 0, 8, 1, 7, 4, 4, 9, 9, 9, 1, 8, 1, 9, 9, 0, 1, 7, 1, 1, 1, 0, 4, 2, 1, 1, 7, 8, 0, 9, 0, 0, 0, 4, 4, 7, 1, 1, 7, 1, 7, 8, 4, 1, 4, 4, 1, 1, 0, 7, 7, 0, 4, 4, 1, 1, 4, 7, 2, 1, 7, 9, 1, 4, 4, 1, 9, 9, 9, 4, 0, 9, 1, 1, 7, 1, 1, 2, 7, 0, 1, 9, 9, 8, 4, 1, 7, 8, 9, 4, 2, 0, 1, 2, 2, 4, 7, 9, 1, 9, 7, 4, 9, 2, 1, 2, 4, 7, 2, 1, 9, 8, 0, 4, 2, 9, 4, 9, 7, 1, 0, 4, 7, 7, 1, 9, 7, 7, 1, 1, 7, 7, 9, 9, 8, 4, 1, 1, 8, 1, 4, 2, 7, 9, 0, 1, 9, 4, 1, 4, 1, 1, 9, 1, 9, 7, 4, 9, 7, 9, 0, 9, 4, 0, 0, 7, 7, 9, 4, 9, 8, 9, 4, 9, 1, 9, 4, 9, 7, 1, 9, 9, 1, 0, 0, 1, 4, 9, 9, 1, 0, 1, 4, 1, 0, 1, 9, 4, 0, 4, 4, 4, 1, 7, 9, 7, 9, 7, 2, 1, 2, 1, 8, 1, 2, 7, 4, 2, 1, 0, 8, 1, 1, 2, 9, 0, 9, 9, 1, 1, 9, 1, 0, 1, 9, 4, 8, 7, 1, 1, 1, 1, 9, 1, 9, 0, 4, 4, 0, 1, 9, 1, 4, 8, 7, 7, 9, 0, 1, 2, 1, 2, 2, 7, 9, 1, 7, 2, 1, 9, 2, 4, 1, 1, 9, 1, 9, 0, 9, 4, 9, 0, 1, 0, 1, 1, 9, 4, 2, 7, 1, 7, 1, 4, 9, 0, 0, 8, 0, 0, 9, 1, 1, 1, 1, 9, 7, 4, 1, 1, 4, 9, 9, 4, 4, 9, 7, 7, 1, 4, 7, 7, 9, 7, 9, 0, 2, 9, 2, 1, 0, 7, 9, 4, 7, 4, 7, 1, 1, 4, 7, 9, 4, 7, 7, 7, 1, 8, 1, 9, 4, 7, 1, 1, 7, 2, 9, 9, 1, 1, 2, 9, 1, 4, 4, 7, 1, 2, 9, 9, 1, 0, 1, 4, 2, 1, 9, 7, 9, 9, 1, 1, 8, 9, 0, 7, 0, 1, 0, 9, 9, 4, 4, 1, 1, 4, 1, 2, 1, 7, 4, 2, 2, 1, 1, 2, 9, 2, 1, 7, 4, 0, 1, 1, 8, 2, 8, 9, 9, 9, 1, 8, 2, 9, 1, 4, 1, 9, 4, 9, 4, 7, 1, 0, 4, 1, 1, 9, 9, 1, 2, 9, 1, 9, 4, 7, 1, 7, 2, 1, 4, 2, 1, 0, 2, 2, 1, 7, 8, 1, 7, 9, 9, 1, 4, 1, 4, 7, 7, 9, 7, 9, 1, 1, 1, 7, 0, 7, 7, 0, 9, 1, 7, 9, 8, 1, 9, 4, 1, 4, 9, 1, 1, 1, 1, 2, 9, 1, 9, 1, 1, 7, 7, 2, 9, 9, 0, 8, 1, 4, 4, 4, 7, 0, 9, 1, 1, 2, 1, 7, 1, 4, 2, 1, 1, 1, 0, 2, 4, 8, 7, 0, 1, 2, 1, 9, 1, 1, 2, 0, 4, 4, 4, 1, 9, 4, 9, 1, 4, 2, 4, 4, 1, 1, 1, 1, 1, 9, 7, 1, 9, 7, 1, 0, 1, 1, 0, 1, 0, 7, 7, 4, 8, 9, 0, 1, 7, 1, 9, 4, 7, 9, 9, 9, 1, 1, 0, 9, 9, 7, 1, 7, 2, 9, 1, 9, 4, 8, 1, 7, 1, 1, 9, 4, 7, 8, 9, 9, 4, 8, 4, 9, 6, 4, 9, 9, 1, 0, 7, 1, 9, 7, 4, 4, 7, 2, 9, 8, 1, 7, 4, 7, 1, 8, 9, 8, 7, 9, 2, 0, 7, 7, 9, 9, 7, 4, 0, 4, 4, 1, 2, 1, 9, 9, 1, 9, 7, 8, 4, 4, 2, 4, 2, 7, 2, 8, 1, 0, 7, 9, 9, 1, 9, 9, 7, 9, 9, 4, 9, 7, 1, 7, 4, 9, 9, 2, 1, 9, 9, 1, 7, 1, 1, 4, 9, 1, 4, 8, 7, 1, 7, 9, 2, 1, 1, 0, 9, 1, 4, 1, 0, 0, 4, 9, 7, 1, 9, 2, 9, 4, 9, 7, 9, 7, 4, 4, 4, 9, 2, 2, 7, 2, 4, 7, 1, 4, 1, 4, 9, 8, 2, 4, 2, 7, 7, 7, 1, 7, 4, 2, 4, 2, 4, 1, 9, 0, 7, 2, 7, 1, 8, 9, 7, 4, 4, 1, 1, 7, 1, 4, 7, 0, 1, 7, 1, 0, 1, 9, 1, 8, 0, 4, 1, 7, 9, 0, 2, 9, 2, 1, 7, 1, 7, 7, 4, 9, 8, 4, 2, 0, 1, 1, 2, 2, 8, 1, 1, 9, 1, 8, 1, 0, 1, 4, 7, 1, 7, 7, 1, 1, 9, 9, 1, 4, 4, 9, 8, 9, 1, 1, 7, 4, 1, 1, 9, 4, 1, 4, 1, 1, 8, 1, 4, 1, 1, 2, 1, 9, 0, 1, 1, 1, 1, 1, 4, 1, 1, 0, 7, 2, 2, 2, 1, 2, 1, 7, 2, 9, 0, 1, 0, 1, 2, 1, 1, 7, 7, 0, 1, 1, 2, 1, 1, 7, 4, 4, 4, 7, 1, 4, 4, 2, 1, 9, 0, 2, 1, 9, 7, 8, 0, 0, 1, 4, 1, 8, 1, 2, 1, 1, 1, 7, 9, 1, 4, 2, 7, 1, 1, 8, 1, 1, 1, 4, 2, 8, 0, 9, 8, 7, 0, 1, 4, 1, 9, 1, 4, 1, 4, 0, 1, 0, 7, 7, 8, 1, 4, 9, 9, 4, 0, 9, 9, 2, 1, 9, 7, 1, 4, 1, 7, 9, 0, 2, 7, 1, 0, 7, 0, 1, 9, 7, 9, 4, 0, 7, 1, 8, 0, 8, 4, 4, 4, 7, 7, 2, 4, 4, 4, 9, 7, 1, 2, 9, 4, 9, 1, 9, 7, 0, 7, 8, 4, 1, 9, 9, 1, 1, 1, 2, 9, 1, 1, 1, 9, 7, 4, 9, 2, 2, 1, 4, 0, 1, 7, 9, 0, 1, 1, 4, 1, 0, 9, 8, 1, 1, 7, 1, 9, 9, 7, 4, 4, 1, 2, 8, 7, 9, 7, 1, 9, 9, 7, 7, 9, 9, 1, 1, 4, 2, 7, 9, 4, 9, 9, 1, 1, 7, 2, 1, 4, 4, 2, 0, 9, 1, 1, 7, 1, 1, 7, 9, 1, 2, 1, 2, 0, 0, 2, 9, 1, 2, 4, 4, 4, 1, 1, 7, 1, 7, 9, 4, 7, 7, 0, 8, 2, 1, 4, 9, 1, 2, 1, 7, 2, 1, 4, 9, 9, 2, 4, 4, 1, 1, 7, 7, 7, 2, 7, 9, 9, 9, 4, 7, 9, 7, 7, 7, 8, 7, 4, 4, 9, 0, 1, 8, 7, 9, 2, 9, 1, 7, 4, 2, 7, 7, 4, 9, 9, 1, 9, 7, 9, 2, 4, 1, 9, 8, 1, 9, 1, 9, 4, 9, 1, 4, 1, 7, 1, 1, 1, 9, 7, 7, 2, 1, 4, 7, 0, 1, 7, 1, 2, 9, 2, 7, 4, 7, 1, 2, 1, 2, 7, 9, 0, 7, 0, 9, 9, 8, 0, 7, 1, 9, 0, 9, 7, 1, 1, 0, 9, 7, 8, 4, 1, 1, 9, 0, 4, 9, 1, 1, 1, 0, 1, 0, 2, 4, 1, 8, 4, 2, 9, 7, 0, 1, 9, 2, 1, 1, 4, 2, 9, 1, 1, 7, 9, 8, 1, 7, 9, 1, 9, 9, 7, 1, 0, 1, 4, 4, 4, 1, 9, 4, 1, 1, 9, 9, 4, 0, 2, 0, 2, 1, 9, 9, 7, 0, 1, 4, 1, 0, 4, 2, 2, 7, 9, 4, 9, 2, 2, 1, 7, 9, 2, 1, 8, 9, 1, 1, 7, 1, 1, 1, 9, 1, 1, 8, 9, 9, 1, 9, 4, 0, 7, 8, 9, 9, 9, 1, 8, 9, 1, 7, 9, 4, 9, 2, 0, 1, 9, 0, 7, 1, 0, 1, 9, 1, 1, 8, 2, 9, 9, 4, 0, 7, 2, 1, 0, 7, 1, 4, 9, 2, 1, 9, 9, 1, 9, 7, 1, 1, 1, 9, 2, 4, 0, 1, 7, 7, 1, 1, 9, 9, 1, 7, 4, 1, 4, 1, 7, 4, 1, 0, 2, 7, 9, 9, 4, 1, 4, 1, 7, 9, 0, 7, 7, 1, 1, 1, 4, 1, 8, 2, 9, 4, 4, 8, 9, 2, 9, 1, 4, 4, 1, 1, 0, 4, 1, 2, 9, 7, 7, 9, 1, 7, 1, 9, 1, 2, 1, 7, 4, 9, 9, 9, 9, 7, 9, 1, 8, 2, 0, 1, 4, 1, 1, 9, 9, 9, 7, 7, 1, 2, 9, 9, 1, 4, 4, 9, 9, 1, 0, 4, 0, 1, 9, 4, 9, 2, 9, 7, 8, 2, 0, 1, 1, 2, 1, 1, 1, 4, 1, 4, 9, 1, 2, 4, 1, 1, 8, 0, 1, 4, 2, 1, 9, 0, 2, 2, 4, 7, 4, 2, 7, 1, 7, 1, 1, 4, 9, 1, 9, 7, 2, 0, 1, 2, 7, 4, 9, 1, 1, 1, 9, 9, 7, 4, 2, 1, 2, 2, 7, 9, 2, 7, 7, 1, 1, 0, 9, 4, 1, 2, 1, 0, 1, 9, 2, 1, 1, 1, 4, 2, 4, 1, 1, 9, 2, 4, 2, 4, 1, 2, 1, 0, 9, 1, 7, 1, 2, 1, 1, 4, 1, 1, 1, 1, 9, 1, 7, 9, 0, 8, 0, 1, 2, 1, 1, 1, 7, 7, 2, 1, 1, 2, 1, 7, 9, 0, 1, 0, 7, 2, 9, 9, 7, 9, 1, 1, 1, 1, 1, 0, 7, 9, 9, 4, 9, 1, 0, 4, 4, 8, 7, 1, 7, 9, 8, 1, 9, 1, 1, 1, 1, 7, 2, 7, 2, 4, 9, 8, 7, 1, 1, 9, 1, 7, 7, 0, 7, 9, 4, 7, 7, 1, 1, 4, 1, 4, 1, 4, 2, 7, 4, 7, 1, 7, 7, 9, 1, 1, 1, 0, 1, 4, 1, 1, 8, 2, 1, 4, 9, 1, 1, 1, 1, 0, 7, 0, 2, 4, 7, 1, 4, 2, 4, 8, 1, 9, 9, 1, 9, 2, 1, 2, 7, 1, 9, 1, 1, 8, 7, 1, 8, 1, 4, 0, 9, 2, 4, 0, 4, 9, 1, 1, 7, 4, 9, 7, 9, 0, 7, 7, 9, 2, 4, 9, 0, 7, 1, 8, 9, 2, 1, 9, 7, 7, 7, 8, 0, 1, 0, 9, 9, 9, 1, 1, 8, 1, 7, 7, 7, 0, 1, 4, 1, 1, 4, 4, 4, 4, 1, 7, 2, 4, 2, 1, 1, 8, 2, 4, 4, 1, 0, 8, 8, 2, 4, 2, 0, 7, 0, 9, 9, 1, 4, 4, 7, 0, 7, 1, 9, 2, 2, 2, 9, 9, 7, 9, 9, 1, 9, 2, 4, 1, 2, 1, 0, 8, 2, 4, 7, 1, 2, 4, 9, 1, 8, 0, 0, 2, 2, 0, 1, 4, 1, 1, 1, 2, 1, 0, 1, 7, 8, 1, 0, 7, 1, 7, 0, 1, 4, 9, 9, 7, 7, 9, 0, 9, 9, 7, 7, 1, 2, 4, 7, 2, 9, 7, 8, 0, 7, 4, 4, 1, 2, 9, 1, 7, 1, 8, 2, 4, 2, 2, 9, 8, 9, 1, 2, 7, 9, 1, 9, 9, 8, 4, 1, 9, 1, 9, 1, 0, 9, 4, 1, 1, 1, 7, 8, 0, 0, 1, 8, 4, 9, 0, 1, 7, 2, 0, 4, 9, 1, 7, 7, 2, 0, 1, 0, 7, 1, 1, 7, 2, 1, 9, 1, 0, 7, 4, 1, 9, 9, 8, 1, 9, 8, 1, 1, 9, 8, 1, 7, 7, 9, 2, 9, 4, 1, 9, 1, 8, 9, 1, 2, 1, 4, 7, 9, 1, 2, 1, 9, 7, 9, 2, 2, 7, 8, 1, 1, 1, 7, 4, 9, 1, 1, 9, 9, 4, 0, 8, 1, 9, 1, 9, 9, 0, 7, 1, 4, 7, 0, 1, 1, 7, 2, 1, 7, 9, 1, 2, 0, 0, 9, 2, 7, 0, 1, 1, 7, 9, 1, 9, 9, 1, 0, 9, 7, 2, 9, 2, 1, 4, 7, 7, 1, 1, 7, 1, 4, 9, 2, 4, 4, 9, 7, 9, 9, 1, 7, 0, 1, 1, 7, 1, 1, 1, 7, 4, 9, 9, 1, 0, 8, 1, 8, 0, 7, 7, 1, 1, 0, 4, 8, 2, 0, 4, 9, 8, 9, 0, 9, 1, 2, 1, 1, 1, 1, 1, 8, 7, 4, 1, 9, 1, 4, 4, 9, 4, 1, 0, 0, 4, 2, 1, 7, 1, 1, 8, 1, 8, 7, 9, 4, 1, 1, 7, 7, 7, 1, 2, 9, 9, 1, 4, 7, 1, 2, 1, 9, 2, 7, 1, 9, 1, 2, 1, 9, 7, 8, 1, 0, 8, 1, 8, 1, 9, 0, 9, 1, 1, 9, 7, 2, 9, 0, 0, 2, 1, 4, 1, 1, 4, 1, 7, 8, 9, 1, 1, 9, 9, 9, 7, 7, 4, 4, 4, 1, 0, 8, 1, 1, 4, 0, 8, 9, 9, 4, 9, 1, 7, 1, 4, 1, 1, 0, 1, 8, 4, 9, 7, 9, 9, 2, 1, 9, 7, 0, 8, 4, 7, 1, 0, 4, 0, 7, 1, 7, 2, 9, 9, 1, 7, 0, 4, 2, 0, 7, 4, 9, 9, 7, 7, 9, 9, 1, 8, 7, 9, 7, 7, 4, 7, 4, 2, 1, 2, 4, 4, 1, 0, 0, 9, 1, 8, 2, 1, 9, 4, 9, 9, 9, 4, 1, 9, 7, 1, 9, 2, 9, 1, 9, 1, 1, 9, 9, 1, 9, 4, 0, 7, 7, 9, 1, 4, 1, 4, 0, 4, 1, 1, 1, 1, 7, 4, 2, 7, 9, 9, 8, 9, 9, 1, 4, 7, 9, 1, 0, 1, 1, 1, 4, 8, 1, 9, 1, 9, 7, 4, 7, 1, 8, 4, 0, 4, 4, 2, 2, 9, 7, 4, 9, 9, 4, 2, 2, 1, 7, 4, 1, 2, 1, 2, 1, 9, 8, 1, 9, 2, 4, 1, 9, 1, 9, 7, 2, 9, 2, 9, 1, 0, 4, 8, 1, 4, 2, 0, 9, 4, 1, 1, 0, 7, 0, 7, 0, 1, 1, 1, 9, 0, 0, 1, 9, 8, 7, 1, 7, 4, 1, 2, 1, 2, 0, 1, 1, 2, 1, 7, 9, 7, 9, 9, 1, 1, 7, 9, 9, 0, 1, 1, 9, 0, 7, 1, 0, 9, 0, 0, 4, 9, 2, 9, 7, 1, 9, 1, 1, 9, 7, 1, 2, 0, 1, 1, 2, 0, 4, 1, 1, 9, 1, 4, 0, 1, 4, 4, 0, 4, 0, 1, 7, 0, 1, 0, 9, 1, 1, 8, 4, 7, 1, 9, 1, 2, 4, 1, 4, 4, 9, 9, 4, 1, 8, 7, 4, 4, 9, 1, 9, 7, 7, 1, 4, 4, 7, 9, 1, 1, 7, 7, 9, 8, 2, 9, 1, 9, 2, 0, 8, 9, 9, 0, 0, 7, 1, 1, 0, 8, 2, 4, 4, 4, 7, 1, 9, 4, 1, 1, 2, 1, 0, 9, 9, 0, 1, 8, 1, 9, 2, 1, 9, 7, 9, 0, 0, 4, 4, 7, 9, 1, 0, 4, 7, 8, 9, 9, 9, 0, 0, 2, 9, 7, 4, 9, 4, 2, 2, 4, 0, 1, 4, 1, 9, 4, 0, 1, 2, 2, 0, 9, 2, 7, 2, 7, 4, 1, 4, 1, 9, 0, 2, 1, 1, 8, 7, 1, 2, 1, 9, 2, 1, 8, 8, 9, 9, 2, 9, 9, 4, 1, 1, 2, 8, 2, 8, 9, 7, 9, 2, 7, 1, 9, 1, 1, 1, 0, 2, 1, 9, 9, 7, 1, 0, 4, 2, 4, 1, 2, 7, 0, 4, 9, 9, 7, 8, 1, 4, 1, 4, 8, 7, 2, 4, 2, 1, 7, 0, 1, 9, 4, 9, 1, 9, 1, 4, 9, 9, 9, 1, 9, 9, 7, 7, 8, 4, 4, 1, 7, 1, 1, 4, 9, 4, 1, 0, 1, 1, 4, 1, 9, 4, 2, 1, 2, 7, 4, 4, 4, 1, 8, 1, 1, 8, 1, 4, 4, 7, 1, 0, 7, 8, 9, 2, 4, 4, 1, 9, 1, 9, 0, 9, 9, 1, 1, 1, 7, 1, 9, 4, 7, 4, 2, 9, 7, 7, 9, 1, 2, 8, 1, 1, 7, 8, 8, 2, 8, 0, 7, 9, 7, 1, 9, 4, 2, 1, 9, 1, 9, 0, 1, 0, 1, 2, 7, 1, 9, 1, 7, 4, 1, 0, 9, 9, 4, 1, 1, 9, 7, 8, 1, 0, 4, 1, 2, 9, 7, 9, 9, 9, 0, 4, 9, 7, 9, 1, 1, 1, 9, 2, 1, 4, 2, 9, 9, 9, 9, 7, 4, 4, 1, 9, 9, 1, 9, 2, 2, 1, 9, 1, 1, 1, 0, 8, 1, 2, 1, 1, 8, 1, 7, 1, 1, 1, 8, 1, 7, 9, 8, 0, 1, 0, 4, 9, 7, 1, 7, 0, 9, 1, 2, 6, 1, 1, 1, 1, 4, 4, 2, 2, 2, 9, 9, 0, 7, 4, 1, 2, 4, 1, 9, 9, 9, 9, 1, 7, 7, 4, 7, 1, 9, 7, 4, 8, 9, 7, 8, 0, 0, 1, 0, 1, 1, 7, 8, 0, 1, 2, 2, 9, 1, 1, 2, 9, 2, 7, 4, 0, 9, 1, 4, 1, 1, 7, 2, 9, 4, 1, 4, 7, 7, 9, 9, 2, 0, 9, 9, 9, 7, 2, 1, 8, 1, 1, 9, 0, 1, 9, 1, 9, 7, 9, 4, 1, 1, 1, 7, 2, 1, 1, 4, 0, 7, 9, 4, 7, 0, 1, 0, 7, 2, 2, 1, 4, 1, 8, 9, 9, 9, 7, 1, 2, 2, 2, 7, 4, 1, 9, 0, 1, 9, 9, 1, 1, 9, 8, 7, 4, 1, 9, 7, 4, 7, 2, 8, 7, 7, 2, 9, 9, 4, 1, 7, 0, 2, 7, 9, 1, 1, 9, 1, 7, 1, 1, 1, 4, 1, 2, 9, 9, 4, 1, 1, 9, 7, 7, 0, 1, 4, 8, 9, 4, 9, 1, 7, 8, 7, 7, 0, 4, 9, 1, 0, 7, 7, 2, 7, 7, 9, 7, 1, 0, 0, 9, 1, 0, 0, 0, 4, 9, 7, 0, 7, 1, 1, 4, 9, 1, 7, 1, 8, 7, 1, 1, 4, 0, 4, 7, 1, 7, 4, 9, 4, 1, 9, 4, 1, 1, 1, 9, 7, 1, 1, 0, 9, 1, 1, 7, 0, 9, 9, 1, 1, 1, 2, 1, 4, 8, 7, 7, 2, 4, 0, 9, 2, 1, 8, 4, 8, 1, 7, 7, 1, 1, 9, 7, 7, 1, 1, 9, 4, 7, 0, 7, 2, 9, 7, 7, 9, 7, 4, 9, 9, 2, 1, 0, 1, 0, 2, 7, 4, 1, 4, 7, 4, 1, 7, 7, 9, 9, 1, 9, 8, 8, 7, 1, 9, 1, 1, 0, 4, 9, 1, 9, 0, 9, 7, 9, 1, 1, 1, 1, 7, 7, 1, 2, 4, 7, 0, 1, 2, 8, 7, 9, 7, 9, 1, 1, 1, 9, 7, 9, 9, 1, 1, 8, 1, 4, 1, 4, 7, 1, 4, 0, 1, 7, 0, 4, 9, 2, 4, 2, 4, 0, 7, 9, 4, 7, 1, 4, 0, 8, 1, 1, 9, 2, 0, 8, 1, 1, 2, 1, 1, 8, 2, 1, 2, 9, 7, 4, 1, 9, 4, 1, 1, 4, 4, 7, 9, 0, 7, 1, 0, 2, 9, 2, 4, 1, 4, 2, 4, 1, 1, 9, 9, 1, 7, 1, 4, 7, 7, 9, 9, 9, 9, 2, 0, 9, 2, 0, 7, 1, 7, 0, 7, 0, 0, 4, 0, 2, 9, 9, 4, 1, 9, 4, 0, 1, 0, 7, 9, 9, 7, 1, 1, 4, 4, 1, 0, 8, 1, 9, 2, 2, 4, 9, 8, 7, 1, 4, 4, 0, 9, 9, 7, 7, 0, 7, 1, 2, 9, 9, 9, 9, 4, 9, 4, 1, 1, 4, 9, 0, 9, 1, 4, 0, 1, 0, 0, 0, 1, 1, 9, 9, 4, 7, 1, 7, 1, 1, 4, 1, 7, 9, 4, 2, 2, 1, 4, 9, 4, 9, 8, 9, 7, 4, 2, 1, 9, 1, 1, 7, 1, 4, 7, 0, 4, 1, 0, 9, 7, 1, 7, 9, 1, 1, 4, 9, 7, 8, 1, 9, 4, 7, 8, 7, 1, 1, 8, 7, 8, 8, 9, 9, 9, 4, 0, 7, 1, 9, 9, 4, 1, 9, 9, 8, 7, 7, 1, 9, 9, 1, 4, 9, 9, 7, 9, 1, 1, 7, 2, 1, 8, 7, 8, 2, 9, 2, 1, 1, 4, 1, 2, 4, 1, 1, 4, 7, 8, 7, 0, 4, 2, 9, 8, 9, 7, 9, 0, 2, 1, 4, 1, 4, 1, 4, 7, 8, 2, 4, 2, 0, 1, 7, 1, 4, 4, 0, 1, 4, 7, 0, 1, 1, 9, 9, 7, 9, 7, 0, 1, 1, 9, 7, 7, 1, 1, 9, 4, 1, 1, 1, 2, 1, 4, 9, 7, 4, 4, 4, 1, 7, 2, 4, 1, 7, 8, 0, 4, 2, 1, 1, 9, 9, 2, 9, 0, 4, 8, 7, 8, 4, 4, 1, 4, 1, 7, 4, 9, 0, 4, 7, 2, 1, 4, 9, 7, 7, 9, 2, 1, 4, 1, 1, 9, 9, 2, 4, 2, 1, 1, 1, 7, 1, 8, 8, 9, 1, 1, 7, 7, 1, 1, 1, 4, 1, 9, 0, 4, 1, 1, 0, 9, 1, 7, 1, 9, 0, 1, 8, 9, 2, 0, 4, 0, 9, 1, 0, 1, 4, 7, 9, 0, 1, 0, 9, 4, 9, 7, 1, 7, 9, 1, 9, 9, 0, 1, 2, 4, 1, 7, 1, 7, 2, 8, 0, 9, 1, 4, 1, 9, 8, 1, 8, 7, 7, 9, 7, 0, 9, 2, 1, 9, 2, 1, 9, 8, 1, 1, 9, 4, 9, 7, 4, 7, 1, 2, 1, 1, 1, 9, 4, 0, 7, 4, 1, 7, 1, 4, 1, 9, 9, 1, 0, 7, 9, 7, 4, 8, 1, 4, 0, 4, 1, 8, 9, 9, 4, 1, 0, 9, 1, 9, 8, 9, 7, 8, 1, 4, 0, 7, 4, 8, 1, 9, 9, 2, 7, 7, 4, 4, 1, 9, 1, 4, 1, 7, 7, 0, 8, 4, 9, 9, 9, 4, 2, 1, 9, 4, 2, 4, 9, 4, 1, 4, 0, 9, 7, 8, 0, 9, 1, 2, 1, 2, 9, 9, 1, 9, 9, 1, 1, 1, 2, 1, 9, 0, 1, 7, 4, 1, 4, 4, 2, 7, 7, 2, 4, 7, 9, 9, 1, 8, 1, 1, 2, 7, 9, 0, 1, 2, 2, 0, 1, 2, 0, 7, 4, 8, 8, 2, 8, 4, 7, 0, 0, 1, 9, 9, 7, 1, 9, 4, 0, 4, 9, 7, 1, 0, 8, 9, 8, 2, 4, 8, 2, 9, 0, 1, 7, 1, 9, 1, 7, 2, 9, 0, 7, 9, 7, 1, 9, 1, 0, 9, 1, 1, 2, 1, 2, 7, 1, 0, 9, 8, 8, 1, 7, 7, 7, 1, 9, 7, 1, 1, 0, 7, 8, 7, 1, 7, 1, 2, 7, 9, 4, 2, 7, 1, 0, 1, 4, 0, 4, 7, 2, 2, 1, 1, 1, 9, 1, 8, 1, 9, 7, 1, 7, 1, 1, 1, 8, 7, 0, 0, 2, 4, 1, 1, 2, 9, 0, 9, 2, 1, 1, 2, 7, 1, 1, 8, 7, 7, 1, 0, 9, 0, 4, 1, 1, 2, 7, 2, 1, 9, 2, 1, 7, 1, 9, 8, 9, 9, 1, 1, 8, 1, 4, 9, 0, 1, 1, 1, 4, 7, 8, 0, 4, 9, 0, 4, 8, 1, 7, 4, 9, 4, 7, 7, 1, 0, 2, 4, 9, 7, 1, 7, 4, 4, 0, 9, 1, 0, 1, 4, 1, 2, 1, 8, 1, 9, 4, 9, 9, 9, 1, 1, 7, 0, 0, 2, 1, 0, 2, 4, 4, 4, 2, 9, 1, 0, 1, 2, 0, 0, 1, 0, 8, 1, 9, 7, 9, 1, 4, 1, 7, 9, 1, 4, 7, 7, 9, 8, 0, 9, 1, 0, 1, 4, 9, 1, 2, 7, 1, 1, 1, 7, 1, 8, 7, 9, 1, 7, 4, 4, 4, 1, 7, 4, 7, 0, 1, 7, 8, 8, 7, 0, 1, 1, 0, 9, 7, 9, 9, 1, 4, 0, 0, 7, 2, 1, 1, 1, 9, 9, 7, 8, 9, 2, 0, 1, 1, 4, 7, 9, 1, 2, 7, 8, 2, 7, 4, 0, 8, 1, 0, 1, 7, 9, 2, 9, 1, 4, 2, 7, 1, 0, 2, 1, 7, 2, 1, 9, 2, 7, 9, 1, 9, 1, 0, 9, 0, 1, 9, 1, 1, 4, 7, 1, 0, 7, 9, 4, 9, 7, 4, 0, 4, 7, 2, 1, 8, 1, 8, 1, 1, 2, 2, 8, 1, 0, 8, 1, 8, 9, 1, 4, 9, 1, 0, 4, 9, 4, 2, 1, 9, 9, 1, 9, 9, 1, 7, 1, 4, 1, 1, 9, 1, 7, 7, 9, 1, 1, 1, 4, 9, 7, 9, 4, 7, 4, 7, 1, 4, 2, 9, 9, 7, 7, 7, 1, 1, 2, 1, 4, 4, 4, 0, 9, 8, 9, 8, 2, 4, 8, 9, 9, 1, 4, 7, 9, 9, 0, 1, 9, 1, 1, 1, 1, 9, 9, 8, 1, 1, 8, 7, 4, 4, 1, 4, 8, 0, 9, 0, 4, 9, 0, 1, 2, 8, 1, 8, 4, 1, 8, 1, 7, 1, 9, 1, 9, 1, 9, 2, 1, 1, 8, 2, 1, 4, 9, 4, 4, 9, 7, 0, 2, 4, 9, 8, 0, 1, 0, 0, 4, 8, 1, 4, 7, 7, 7, 9, 2, 8, 4, 2, 9, 9, 4, 9, 7, 4, 9, 1, 4, 1, 2, 9, 1, 1, 9, 2, 1, 7, 7, 1, 8, 7, 0, 4, 4, 4, 1, 1, 9, 7, 8, 9, 4, 4, 1, 2, 1, 2, 7, 1, 8, 1, 0, 1, 6, 4, 1, 9, 0, 1, 1, 1, 9, 2, 1, 7, 8, 4, 1, 1, 4, 9, 1, 9, 0, 9, 1, 1, 7, 9, 0, 1, 2, 7, 7, 4, 4, 1, 1, 4, 1, 0, 1, 9, 9, 1, 4, 9, 4, 4, 7, 4, 7, 8, 0, 7, 2, 1, 9, 1, 9, 0, 4, 1, 9, 1, 4, 1, 1, 9, 9, 9, 9, 0, 2, 0, 1, 1, 9, 2, 2, 8, 1, 9, 4, 2, 9, 1, 0, 4, 2, 8, 7, 1, 7, 0, 7, 1, 1, 1, 0, 9, 7, 4, 1, 7, 0, 2, 8, 9, 1, 7, 1, 7, 2, 8, 2, 1, 1, 1, 2, 7, 9, 0, 1, 0, 4, 0, 7, 4, 0, 8, 1, 0, 9, 7, 1, 9, 9, 4, 1, 4, 8, 1, 7, 1, 7, 7, 0, 1, 1, 9, 1, 9, 9, 2, 4, 8, 9, 0, 1, 0, 9, 7, 4, 1, 8, 2, 4, 0, 7, 1, 7, 1, 7, 4, 7, 9, 9, 1, 9, 9, 1, 2, 8, 0, 1, 0, 4, 9, 4, 7, 4, 7, 0, 1, 1, 7, 8, 6, 4, 7, 1, 1, 8, 1, 1, 9, 4, 8, 9, 4, 9, 2, 0, 4, 9, 0, 1, 1, 9, 0, 8, 0, 1, 9, 7, 8, 4, 9, 4, 1, 7, 2, 2, 4, 9, 2, 2, 4, 9, 8, 0, 7, 9, 4, 4, 7, 4, 1, 4, 7, 4, 2, 0, 7, 2, 4, 0, 0, 1, 7, 4, 0, 1, 9, 9, 9, 4, 7, 2, 9, 2, 4, 2, 9, 4, 8, 9, 0, 9, 7, 9, 7, 9, 9, 1, 1, 9, 4, 1, 9, 1, 1, 0, 2, 7, 2, 9, 7, 9, 7, 7, 7, 9, 4, 0, 1, 4, 7, 8, 1, 9, 0, 1, 9, 9, 0, 7, 4, 9, 1, 1, 2, 1, 9, 9, 7, 9, 9, 8, 1, 1, 4, 0, 1, 8, 4, 1, 4, 7, 9, 1, 7, 7, 7, 1, 9, 1, 2, 1, 8, 7, 8, 2, 9, 1, 4, 1, 1, 7, 8, 1, 1, 9, 9, 0, 1, 9, 9, 1, 8, 8, 2, 9, 7, 7, 0, 7, 0, 9, 4, 9, 2, 9, 4, 7, 7, 1, 1, 1, 2, 4, 4, 7, 1, 1, 7, 7, 8, 7, 7, 0, 4, 4, 2, 1, 1, 8, 1, 0, 1, 9, 1, 9, 1, 0, 4, 1, 7, 1, 4, 1, 1, 9, 2, 7, 2, 7, 9, 1, 1, 7, 1, 9, 2, 9, 4, 4, 4, 1, 9, 1, 9, 8, 1, 0, 2, 9, 0, 7, 1, 4, 2, 2, 4, 4, 9, 7, 9, 9, 7, 2, 9, 9, 7, 9, 9, 7, 2, 8, 2, 0, 1, 0, 4, 8, 9, 4, 0, 7, 1, 4, 7, 1, 4, 4, 1, 2, 9, 4, 9, 7, 4, 8, 7, 1, 7, 2, 1, 2, 1, 7, 2, 9, 7, 7, 0, 2, 2, 0, 1, 4, 4, 7, 0, 1, 9, 7, 2, 7, 1, 9, 9, 7, 1, 2, 7, 0, 9, 0, 2, 9, 1, 4, 2, 1, 7, 9, 9, 2, 2, 9, 1, 8, 1, 4, 4, 1, 7, 8, 4, 0, 4, 9, 4, 2, 9, 1, 7, 9, 0, 1, 9, 4, 7, 1, 7, 4, 4, 4, 0, 4, 1, 1, 1, 0, 9, 0, 9, 9, 9, 1, 2, 7, 9, 9, 4, 8, 1, 0, 1, 4, 4, 0, 2, 8, 1, 1, 1, 1, 1, 2, 7, 9, 7, 0, 4, 1, 4, 4, 7, 7, 9, 4, 7, 2, 4, 9, 0, 1, 7, 0, 9, 4, 0, 0, 2, 9, 1, 1, 4, 1, 1, 9, 8, 1, 0, 1, 4, 9, 8, 4, 0, 2, 0, 4, 9, 1, 8, 7, 4, 9, 4, 4, 9, 1, 4, 4, 1, 9, 7, 7, 2, 8, 9, 2, 9, 7, 9, 4, 1, 1, 4, 1, 9, 7, 1, 7, 1, 8, 8, 7, 2, 9, 1, 1, 2, 0, 1, 0, 1, 4, 4, 4, 7, 0, 1, 2, 8, 1, 9, 2, 1, 1, 0, 9, 1, 8, 1, 1, 8, 7, 8, 4, 4, 0, 1, 7, 9, 1, 1, 9, 0, 4, 8, 1, 4, 9, 8, 1, 1, 8, 7, 7, 9, 4, 7, 7, 0, 1, 8, 1, 9, 9, 0, 1, 1, 2, 7, 7, 1, 9, 9, 1, 1, 9, 9, 1, 7, 2, 1, 7, 2, 9, 1, 1, 1, 9, 1, 1, 4, 1, 9, 7, 1, 2, 7, 1, 1, 7, 8, 9, 2, 9, 2, 9, 7, 1, 2, 9, 1, 1, 7, 7, 1, 9, 1, 4, 1, 9, 2, 4, 1, 2, 0, 1, 1, 1, 1, 0, 2, 4, 7, 7, 7, 7, 0, 7, 9, 4, 1, 2, 9, 2, 9, 1, 8, 8, 9, 9, 7, 1, 9, 9, 1, 8, 0, 2, 1, 8, 4, 4, 0, 0, 9, 7, 0, 1, 1, 1, 1, 9, 0, 9, 4, 1, 7, 1, 0, 8, 2, 9, 1, 9, 0, 0, 4, 1, 2, 4, 4, 9, 1, 4, 9, 7, 2, 4, 1, 0, 9, 7, 9, 9, 1, 9, 0, 0, 1, 9, 1, 1, 1, 7, 9, 9, 2, 9, 2, 8, 9, 1, 9, 1, 1, 1, 7]\n",
            "\n",
            "\n",
            "Confusion Matrix:\n",
            "\n",
            "[[628 301  31   0  19   0   1   3  11   6]\n",
            " [  5 972   9   0  13   0   0   0   1   0]\n",
            " [ 26  69 459   0 413   0   0   1  22  10]\n",
            " [ 61 896  21   0  15   0   1   1   1   4]\n",
            " [ 23 136 185   0 645   0   0   1   6   4]\n",
            " [  0  96   1   0   0   0   0 569  10 324]\n",
            " [193 211 227   0 313   0   3  10  20  23]\n",
            " [  0   2   0   0   0   0   0 812   0 186]\n",
            " [  5  42  23   0  20   0   1  83 506 320]\n",
            " [  0   5   0   0   0   0   0  22   1 972]]\n"
          ]
        }
      ]
    },
    {
      "cell_type": "markdown",
      "source": [
        "#### **Evaluating the model to identify the accuracy, etc.**"
      ],
      "metadata": {
        "id": "4__FfaTFRlNh"
      }
    },
    {
      "cell_type": "code",
      "source": [
        "model.evaluate(X_validation, y_validation)"
      ],
      "metadata": {
        "id": "PZCY7q7ORlN4",
        "colab": {
          "base_uri": "https://localhost:8080/"
        },
        "outputId": "4b5141e7-931b-4087-e849-1cbea575a053"
      },
      "execution_count": null,
      "outputs": [
        {
          "output_type": "stream",
          "name": "stdout",
          "text": [
            "313/313 [==============================] - 1s 2ms/step - loss: 0.0797 - accuracy: 0.4997\n"
          ]
        },
        {
          "output_type": "execute_result",
          "data": {
            "text/plain": [
              "[0.07970815896987915, 0.49970000982284546]"
            ]
          },
          "metadata": {},
          "execution_count": 42
        }
      ]
    },
    {
      "cell_type": "markdown",
      "source": [
        "#### **Discussing the improvements we can give to the Fasion MNIST, to make it to reach the accuracy level of the plain MNIST data.**"
      ],
      "metadata": {
        "id": "Os2Av7zxRmFF"
      }
    },
    {
      "cell_type": "markdown",
      "source": [
        "1.   I would probably first write a more optimized code\n",
        "2.   Research on more better optimizer, and study the of gradient, and see what the updated weights would be, compared to other optimizers.\n",
        "3.   Run some trails with the help of the \"early_stopping\", and see the behaviour of the results.\n",
        "4.   Study as to where the loss is accuratley affecting the test output, so that I can add the right \"Regulation constant\" to our loss and see if I notice any improvements then.\n",
        "5.   Run couple more trails by tweaking the structure of the neural network with both the aspects - \"wide\" and \"deep\". \n",
        "\n"
      ],
      "metadata": {
        "id": "dmNB2iVJRuXx"
      }
    }
  ]
}